{
 "cells": [
  {
   "cell_type": "markdown",
   "metadata": {},
   "source": [
    "\n",
    "\n",
    "<h1><center>Midterm- CPSC 4800</h2></center>\n",
    "\n",
    "\n",
    "\n",
    "<h3><center> Python</h3></center>"
   ]
  },
  {
   "cell_type": "markdown",
   "metadata": {},
   "source": [
    "## Instructions\n",
    "\n",
    "1. You should answer questions in this Jupyter notebook file and submit the file on D2L.\n",
    "2. The exam is open book. You can look at all the course materials, labs, solutions, etc on D2L. However, you are not allowed to communicate or receive help from anyone else during the exam. \n",
    "3. The work submitted must be your own. Plagiarism and cheating will be dealt with very seriously.\n",
    "4.\tIf the instructor realizes that a student cheated during the exam, he/she will receive a grade of zero for the final.\n",
    "\n",
    "**Warning**: \n",
    "By submitting an exam file, you promise that the code you have submitted is your own and you did not communicate with or receive help from anyone else.\n"
   ]
  },
  {
   "cell_type": "markdown",
   "metadata": {},
   "source": [
    "| Question | Point |\n",
    "| --- | --- |\n",
    "| 1 | 5 |\n",
    "| 2 | 10 |\n",
    "| 3 | 10 |\n",
    "| 4 | 10 |\n",
    "| 5 |10 |\n",
    "| 6 | 10 |\n",
    "| 7 | 10 |\n",
    "| 8 | 10 |\n",
    "| 9 | 10 |\n",
    "|10 | 15 |\n",
    "| **Total** | **100** |"
   ]
  },
  {
   "cell_type": "markdown",
   "metadata": {},
   "source": [
    "### Note: Ensure to write brief docstring for your functions"
   ]
  },
  {
   "cell_type": "markdown",
   "metadata": {},
   "source": [
    "## Question 1"
   ]
  },
  {
   "cell_type": "markdown",
   "metadata": {},
   "source": [
    " Suppose you have list of prices for a certain products. Your job is to find the difference between the lowest price product and highest priced product.\n",
    "#### For example:\n",
    "#### Input: 25,10,5,30,2\n",
    "#### Output: 28\n",
    "\n",
    "\n"
   ]
  },
  {
   "cell_type": "code",
   "execution_count": 1,
   "outputs": [
    {
     "name": "stdout",
     "output_type": "stream",
     "text": [
      "Difference between the lowest price and the highest price: 28\n"
     ]
    }
   ],
   "source": [
    "my_list = [25, 10, 5, 30, 2]\n",
    "\n",
    "min_price = min(my_list)\n",
    "max_price = max(my_list)\n",
    "\n",
    "print(\"Difference between the lowest price and the highest price:\", max_price - min_price)"
   ],
   "metadata": {
    "collapsed": false,
    "ExecuteTime": {
     "end_time": "2023-11-07T02:17:56.547986400Z",
     "start_time": "2023-11-07T02:17:56.438208700Z"
    }
   }
  },
  {
   "cell_type": "markdown",
   "metadata": {},
   "source": [
    "## Question 2"
   ]
  },
  {
   "cell_type": "markdown",
   "metadata": {},
   "source": [
    "You are given a task to create a mask for sending certain message.Write a code that replaces all the odd places in the given message string with * sign.\n",
    "#### For example\n",
    "#### input: Python is the best programming language\n",
    "#### output: P * t * o * "
   ]
  },
  {
   "cell_type": "code",
   "execution_count": 2,
   "outputs": [
    {
     "name": "stdout",
     "output_type": "stream",
     "text": [
      "Output: P*t*o* *s*t*e*b*s* *r*g*a*m*n* *a*g*a*e\n"
     ]
    }
   ],
   "source": [
    "input_text = 'Python is the best programming language'\n",
    "output_text = ''\n",
    "\n",
    "for i in range(len(input_text)):\n",
    "    if i % 2 == 0:\n",
    "        output_text = output_text + input_text[i]\n",
    "    else:\n",
    "        output_text = output_text + \"*\"\n",
    "\n",
    "print(\"Output:\", output_text)"
   ],
   "metadata": {
    "collapsed": false,
    "ExecuteTime": {
     "end_time": "2023-11-07T02:17:56.548986700Z",
     "start_time": "2023-11-07T02:17:56.446847100Z"
    }
   }
  },
  {
   "cell_type": "markdown",
   "metadata": {},
   "source": [
    "## Question 3"
   ]
  },
  {
   "cell_type": "markdown",
   "metadata": {},
   "source": [
    "Suppose you have dictionary of employees with employee name and age:\n",
    "\n",
    "{\"Bernita Ahner\": 12, \"Kristie Marsico\": 11, \n",
    "                      \"Sara Pardee\": 14, \"Fallon Fabiano\": 11, \n",
    "                      \"Nidia Dominique\": 15}\n",
    "\n",
    "Write a function to find the oldest employee and display his name and age. Also tell how many years are left for retirement if retirement age is 59. Write docstring for your function\n",
    "\n",
    "**output:**\n",
    "####              Name = Nidia Dominique\n",
    "####              Age = 15\n",
    "####              Years to retirement= 44"
   ]
  },
  {
   "cell_type": "code",
   "execution_count": 3,
   "outputs": [
    {
     "data": {
      "text/plain": "'Name: Nidia Dominique, Age: 15, Years Left: 44'"
     },
     "execution_count": 3,
     "metadata": {},
     "output_type": "execute_result"
    }
   ],
   "source": [
    "my_dict = {\"Bernita Ahner\": 12, \"Kristie Marsico\": 11, \"Sara Pardee\": 14, \"Fallon Fabiano\": 11, \"Nidia Dominique\": 15}\n",
    "\n",
    "\n",
    "def find_oldest(emp_dict):\n",
    "    \"\"\"\n",
    "    This function takes a dictionary of employees with their names and ages, finds the oldest employee, and calculates the years left until their retirement.\n",
    "    \n",
    "    Parameters:\n",
    "    - emp_dict(dict): Dictionary of employees with their names and ages.\n",
    "    \n",
    "    Returns:\n",
    "    - A string containing the name, age and the years left until the retirement of the oldest employee.\n",
    "    \"\"\"\n",
    "\n",
    "    retirement_age = 59\n",
    "\n",
    "    oldest_person_name = max(emp_dict, key=emp_dict.get)\n",
    "    oldest_person_age = emp_dict[oldest_person_name]\n",
    "    years_left = retirement_age - oldest_person_age\n",
    "\n",
    "    return f\"Name: {oldest_person_name}, Age: {oldest_person_age}, Years Left: {years_left}\"\n",
    "\n",
    "\n",
    "find_oldest(my_dict)"
   ],
   "metadata": {
    "collapsed": false,
    "ExecuteTime": {
     "end_time": "2023-11-07T02:17:56.566991100Z",
     "start_time": "2023-11-07T02:17:56.452356100Z"
    }
   }
  },
  {
   "cell_type": "markdown",
   "metadata": {},
   "source": [
    "## Question 4"
   ]
  },
  {
   "cell_type": "markdown",
   "metadata": {},
   "source": [
    "Given the list:\n",
    "\n",
    "```\n",
    "my_list = [\"course_1\", \"course_2\", [\"programming\", [\"python\", \"SAS\", \"R\"]]]\n",
    "```\n",
    "\n",
    "Write the code that would index into the list and return the sublist [\"SAS\", \"R\"]."
   ]
  },
  {
   "cell_type": "code",
   "execution_count": 4,
   "outputs": [
    {
     "data": {
      "text/plain": "['SAS', 'R']"
     },
     "execution_count": 4,
     "metadata": {},
     "output_type": "execute_result"
    }
   ],
   "source": [
    "my_list_1 = [\"course_1\", \"course_2\", [\"programming\", [\"python\", \"SAS\", \"R\"]]]\n",
    "\n",
    "new_list = my_list_1[2][1][1:]\n",
    "\n",
    "new_list"
   ],
   "metadata": {
    "collapsed": false,
    "ExecuteTime": {
     "end_time": "2023-11-07T02:17:56.566991100Z",
     "start_time": "2023-11-07T02:17:56.462734300Z"
    }
   }
  },
  {
   "cell_type": "markdown",
   "metadata": {},
   "source": [
    "## Question 5"
   ]
  },
  {
   "cell_type": "markdown",
   "metadata": {},
   "source": [
    "Using python indexing, change key_3  **Gaby** to **Raymon** in the below data structure"
   ]
  },
  {
   "cell_type": "code",
   "execution_count": 5,
   "metadata": {
    "ExecuteTime": {
     "end_time": "2023-11-07T02:17:56.567990600Z",
     "start_time": "2023-11-07T02:17:56.469733Z"
    }
   },
   "outputs": [
    {
     "data": {
      "text/plain": "[{'id': '1234', 'key_1': {'key_2': 'Jason', 'key_3': 'Smith'}},\n {'id': '2345', 'key_1': {'key_2': 'Tom', 'key_3': 'Albert'}},\n {'id': '3456', 'key_1': {'key_2': 'Martin', 'key_3': 'Arts'}},\n {'id': '6789', 'key_1': {'key_2': 'Julie', 'key_3': 'Raymon'}}]"
     },
     "execution_count": 5,
     "metadata": {},
     "output_type": "execute_result"
    }
   ],
   "source": [
    "my_dictionary = [{'id': '1234', 'key_1': {'key_2': 'Jason', 'key_3': 'Smith'}},\n",
    "                 {'id': '2345', 'key_1': {'key_2': 'Tom', 'key_3': 'Albert'}},\n",
    "                 {'id': '3456', 'key_1': {'key_2': 'Martin', 'key_3': 'Arts'}},\n",
    "                 {'id': '6789', 'key_1': {'key_2': 'Julie', 'key_3': 'Gaby'}}]\n",
    "\n",
    "my_dictionary[3]['key_1']['key_3'] = 'Raymon'\n",
    "\n",
    "my_dictionary"
   ]
  },
  {
   "cell_type": "markdown",
   "metadata": {},
   "source": [
    "## Question 6"
   ]
  },
  {
   "cell_type": "markdown",
   "metadata": {},
   "source": [
    "Write a function order_numbers that compares two numbers and return them in the increasing order. Write docstring for your function. Test out your function per the expected output.\n",
    "\n",
    "Expected output:\n",
    "\n",
    "```\n",
    "order_numbers(10, 5)\n",
    "(5, 10)\n",
    "```"
   ]
  },
  {
   "cell_type": "code",
   "execution_count": 6,
   "outputs": [
    {
     "data": {
      "text/plain": "[5, 10]"
     },
     "execution_count": 6,
     "metadata": {},
     "output_type": "execute_result"
    }
   ],
   "source": [
    "def order_numbers(n1, n2):\n",
    "    \"\"\"\n",
    "    This function compares two numbers and returns them in increasing order.\n",
    "    \n",
    "    Parameters: \n",
    "        - n1(int) \n",
    "        - n2(int)\n",
    "    \n",
    "    Returns: \n",
    "        - A list of the two numbers in ascending order.\n",
    "    \"\"\"\n",
    "\n",
    "    if n1 > n2:\n",
    "        return [n2, n1]\n",
    "\n",
    "    return [n1, n2]\n",
    "\n",
    "\n",
    "order_numbers(10, 5)"
   ],
   "metadata": {
    "collapsed": false,
    "ExecuteTime": {
     "end_time": "2023-11-07T02:17:56.568990900Z",
     "start_time": "2023-11-07T02:17:56.477243800Z"
    }
   }
  },
  {
   "cell_type": "markdown",
   "metadata": {},
   "source": [
    "## Question 7"
   ]
  },
  {
   "cell_type": "markdown",
   "metadata": {},
   "source": [
    "Write a function countChar that takes as its arguments two strings, s and c, and return the number of times the character c occurs in the string s. we wiil assume that c is always a string of length 1 (a single character). Here are some samples calls to this fucntion with the correct output given:\n",
    "\n",
    "```\n",
    ">> countChar(\"HELLO\", \"L\")\n",
    "2\n",
    ">>countChar (\"hello\", \"m\")\n",
    "0\n",
    ">> countChar(\"\", \"L\")\n",
    "0\n",
    "```\n",
    "\n",
    "To get the full points, you will need to write a nice docstring above the function that briefly describes what the funciton does and what its inputs and outputs are. You should also test your function according to all the above examples."
   ]
  },
  {
   "cell_type": "code",
   "execution_count": 7,
   "outputs": [
    {
     "data": {
      "text/plain": "\"Occurrence of letter 'l' in word 'hello' is: 2\""
     },
     "execution_count": 7,
     "metadata": {},
     "output_type": "execute_result"
    }
   ],
   "source": [
    "def count_char(s, c):\n",
    "    \"\"\"\n",
    "    This function takes two strings and returns frequency of the character c in string s.\n",
    "    \n",
    "    Parameters:\n",
    "        - s(str): The string to search for occurrences of the character c.\n",
    "        - c(str): Character to count occurrences of in the string s.\n",
    "    \n",
    "    Returns:\n",
    "        A string containing the number of occurrences of the character c in the string s.\n",
    "    \"\"\"\n",
    "\n",
    "    count_list = [char for char in s if char == c]\n",
    "\n",
    "    return f\"Occurrence of letter '{c}' in word '{s}' is: {len(count_list)}\"\n",
    "\n",
    "\n",
    "count_char(\"hello\", \"l\")"
   ],
   "metadata": {
    "collapsed": false,
    "ExecuteTime": {
     "end_time": "2023-11-07T02:17:56.568990900Z",
     "start_time": "2023-11-07T02:17:56.483466400Z"
    }
   }
  },
  {
   "cell_type": "markdown",
   "metadata": {},
   "source": [
    "## Question 8"
   ]
  },
  {
   "cell_type": "markdown",
   "metadata": {},
   "source": [
    "Write a function that takes a list of numbers as its argument and return the average of the numbers.\n",
    "\n",
    "Here are some samples calls to this function with the correct output given:\n",
    "\n",
    "```\n",
    ">> average([1, 2, 3, 4, 5, 6])\n",
    "3.5\n",
    ">> average([10, 20, 30])\n",
    "20.0\n",
    "```\n",
    "\n",
    "To get the full points, you will need to write a nice docstring above the function that briefly describes what the\n",
    "function does and what its inputs and outputs are. You should also test your function according to all the above examples."
   ]
  },
  {
   "cell_type": "code",
   "execution_count": 8,
   "outputs": [
    {
     "data": {
      "text/plain": "'The average is: 3.5'"
     },
     "execution_count": 8,
     "metadata": {},
     "output_type": "execute_result"
    }
   ],
   "source": [
    "def average(num_list):\n",
    "    \"\"\"\n",
    "    This function takes in a list of numbers(num_list) and returns average of the numbers in the list. \n",
    "    \n",
    "    Parameters: \n",
    "        - num_list(list): A list of numbers.\n",
    "    \n",
    "    Returns: \n",
    "        - A string containing the average of the numbers in the list.\n",
    "    \"\"\"\n",
    "\n",
    "    count = len(num_list)\n",
    "    total = sum(num_list)\n",
    "\n",
    "    avg = total / count\n",
    "\n",
    "    return f\"The average is: {avg}\"\n",
    "\n",
    "\n",
    "average([1, 2, 3, 4, 5, 6])"
   ],
   "metadata": {
    "collapsed": false,
    "ExecuteTime": {
     "end_time": "2023-11-07T02:17:56.568990900Z",
     "start_time": "2023-11-07T02:17:56.489648700Z"
    }
   }
  },
  {
   "cell_type": "code",
   "execution_count": 9,
   "outputs": [
    {
     "data": {
      "text/plain": "'The average is: 20.0'"
     },
     "execution_count": 9,
     "metadata": {},
     "output_type": "execute_result"
    }
   ],
   "source": [
    "average([10, 20, 30])"
   ],
   "metadata": {
    "collapsed": false,
    "ExecuteTime": {
     "end_time": "2023-11-07T02:17:56.569991200Z",
     "start_time": "2023-11-07T02:17:56.494759Z"
    }
   }
  },
  {
   "cell_type": "markdown",
   "metadata": {},
   "source": [
    "## Question 9"
   ]
  },
  {
   "cell_type": "markdown",
   "metadata": {},
   "source": [
    "Go through all the numbers up until 20 (including 20). Print \"your name\" for every number that’s divisible by 3, print your family name for every number divisible by 5, and print 'python' for every number divisible by 3 and by 5! If the number is not divisible either by 3 or 5, print a dash ('-')!\n",
    "\n"
   ]
  },
  {
   "cell_type": "code",
   "execution_count": 10,
   "outputs": [
    {
     "name": "stdout",
     "output_type": "stream",
     "text": [
      "-\n",
      "-\n",
      "roman\n",
      "-\n",
      "shrestha\n",
      "roman\n",
      "-\n",
      "-\n",
      "roman\n",
      "shrestha\n",
      "-\n",
      "roman\n",
      "-\n",
      "-\n",
      "python\n",
      "-\n",
      "-\n",
      "roman\n",
      "-\n",
      "shrestha\n"
     ]
    }
   ],
   "source": [
    "for i in range(1, 21):\n",
    "    if i % 3 == 0 and i % 5 == 0:\n",
    "        print(\"python\")\n",
    "    elif i % 3 == 0:\n",
    "        print(\"roman\")\n",
    "    elif i % 5 == 0:\n",
    "        print(\"shrestha\")\n",
    "    else:\n",
    "        print(\"-\")"
   ],
   "metadata": {
    "collapsed": false,
    "ExecuteTime": {
     "end_time": "2023-11-07T02:17:56.569991200Z",
     "start_time": "2023-11-07T02:17:56.500904Z"
    }
   }
  },
  {
   "cell_type": "markdown",
   "metadata": {},
   "source": [
    "## Question 10"
   ]
  },
  {
   "cell_type": "markdown",
   "metadata": {},
   "source": [
    "- Import the  necesary libraries and read the csv file weatherHistory.csv\n",
    "- Print the head of the dataframe\n",
    "- Print the complete infomation of data  (summary of the dataframe)\n",
    "- Which type of Weather has the maximum count in the dataset? (Weather type column is the summary column in the dataset)\n",
    "- What is the standard deviation of the wind speed?\n",
    "- Out of all the available records which date/dates has/have the lowest  humidity?\n",
    "- Out of all records how many records are equal to the median value of Apparent Temperature?\n",
    "- Which year has the highest average temperature?"
   ]
  },
  {
   "cell_type": "code",
   "execution_count": 11,
   "outputs": [],
   "source": [
    "# Import the necessary libraries and read the csv file weatherHistory.csv\n",
    "import pandas as pd\n",
    "\n",
    "weather_df = pd.read_csv(\"weatherHistory (1).csv\")"
   ],
   "metadata": {
    "collapsed": false,
    "ExecuteTime": {
     "end_time": "2023-11-07T02:17:57.297198500Z",
     "start_time": "2023-11-07T02:17:56.505977300Z"
    }
   }
  },
  {
   "cell_type": "code",
   "execution_count": 12,
   "outputs": [
    {
     "data": {
      "text/plain": "                  Formatted Date        Summary Precip Type  Temperature (C)  \\\n0  2006-04-01 00:00:00.000 +0200  Partly Cloudy        rain         9.472222   \n1  2006-04-01 01:00:00.000 +0200  Partly Cloudy        rain         9.355556   \n2  2006-04-01 02:00:00.000 +0200  Mostly Cloudy        rain         9.377778   \n3  2006-04-01 03:00:00.000 +0200  Partly Cloudy        rain         8.288889   \n4  2006-04-01 04:00:00.000 +0200  Mostly Cloudy        rain         8.755556   \n\n   Apparent Temperature (C)  Humidity  Wind Speed (km/h)  \\\n0                  7.388889      0.89            14.1197   \n1                  7.227778      0.86            14.2646   \n2                  9.377778      0.89             3.9284   \n3                  5.944444      0.83            14.1036   \n4                  6.977778      0.83            11.0446   \n\n   Wind Bearing (degrees)  Visibility (km)  Loud Cover  Pressure (millibars)  \\\n0                   251.0          15.8263         0.0               1015.13   \n1                   259.0          15.8263         0.0               1015.63   \n2                   204.0          14.9569         0.0               1015.94   \n3                   269.0          15.8263         0.0               1016.41   \n4                   259.0          15.8263         0.0               1016.51   \n\n                       Daily Summary  \n0  Partly cloudy throughout the day.  \n1  Partly cloudy throughout the day.  \n2  Partly cloudy throughout the day.  \n3  Partly cloudy throughout the day.  \n4  Partly cloudy throughout the day.  ",
      "text/html": "<div>\n<style scoped>\n    .dataframe tbody tr th:only-of-type {\n        vertical-align: middle;\n    }\n\n    .dataframe tbody tr th {\n        vertical-align: top;\n    }\n\n    .dataframe thead th {\n        text-align: right;\n    }\n</style>\n<table border=\"1\" class=\"dataframe\">\n  <thead>\n    <tr style=\"text-align: right;\">\n      <th></th>\n      <th>Formatted Date</th>\n      <th>Summary</th>\n      <th>Precip Type</th>\n      <th>Temperature (C)</th>\n      <th>Apparent Temperature (C)</th>\n      <th>Humidity</th>\n      <th>Wind Speed (km/h)</th>\n      <th>Wind Bearing (degrees)</th>\n      <th>Visibility (km)</th>\n      <th>Loud Cover</th>\n      <th>Pressure (millibars)</th>\n      <th>Daily Summary</th>\n    </tr>\n  </thead>\n  <tbody>\n    <tr>\n      <th>0</th>\n      <td>2006-04-01 00:00:00.000 +0200</td>\n      <td>Partly Cloudy</td>\n      <td>rain</td>\n      <td>9.472222</td>\n      <td>7.388889</td>\n      <td>0.89</td>\n      <td>14.1197</td>\n      <td>251.0</td>\n      <td>15.8263</td>\n      <td>0.0</td>\n      <td>1015.13</td>\n      <td>Partly cloudy throughout the day.</td>\n    </tr>\n    <tr>\n      <th>1</th>\n      <td>2006-04-01 01:00:00.000 +0200</td>\n      <td>Partly Cloudy</td>\n      <td>rain</td>\n      <td>9.355556</td>\n      <td>7.227778</td>\n      <td>0.86</td>\n      <td>14.2646</td>\n      <td>259.0</td>\n      <td>15.8263</td>\n      <td>0.0</td>\n      <td>1015.63</td>\n      <td>Partly cloudy throughout the day.</td>\n    </tr>\n    <tr>\n      <th>2</th>\n      <td>2006-04-01 02:00:00.000 +0200</td>\n      <td>Mostly Cloudy</td>\n      <td>rain</td>\n      <td>9.377778</td>\n      <td>9.377778</td>\n      <td>0.89</td>\n      <td>3.9284</td>\n      <td>204.0</td>\n      <td>14.9569</td>\n      <td>0.0</td>\n      <td>1015.94</td>\n      <td>Partly cloudy throughout the day.</td>\n    </tr>\n    <tr>\n      <th>3</th>\n      <td>2006-04-01 03:00:00.000 +0200</td>\n      <td>Partly Cloudy</td>\n      <td>rain</td>\n      <td>8.288889</td>\n      <td>5.944444</td>\n      <td>0.83</td>\n      <td>14.1036</td>\n      <td>269.0</td>\n      <td>15.8263</td>\n      <td>0.0</td>\n      <td>1016.41</td>\n      <td>Partly cloudy throughout the day.</td>\n    </tr>\n    <tr>\n      <th>4</th>\n      <td>2006-04-01 04:00:00.000 +0200</td>\n      <td>Mostly Cloudy</td>\n      <td>rain</td>\n      <td>8.755556</td>\n      <td>6.977778</td>\n      <td>0.83</td>\n      <td>11.0446</td>\n      <td>259.0</td>\n      <td>15.8263</td>\n      <td>0.0</td>\n      <td>1016.51</td>\n      <td>Partly cloudy throughout the day.</td>\n    </tr>\n  </tbody>\n</table>\n</div>"
     },
     "execution_count": 12,
     "metadata": {},
     "output_type": "execute_result"
    }
   ],
   "source": [
    "# Print the head of the dataframe\n",
    "weather_df.head()"
   ],
   "metadata": {
    "collapsed": false,
    "ExecuteTime": {
     "end_time": "2023-11-07T02:17:57.317468200Z",
     "start_time": "2023-11-07T02:17:57.298199100Z"
    }
   }
  },
  {
   "cell_type": "code",
   "execution_count": 13,
   "outputs": [
    {
     "name": "stdout",
     "output_type": "stream",
     "text": [
      "<class 'pandas.core.frame.DataFrame'>\n",
      "RangeIndex: 96453 entries, 0 to 96452\n",
      "Data columns (total 12 columns):\n",
      " #   Column                    Non-Null Count  Dtype  \n",
      "---  ------                    --------------  -----  \n",
      " 0   Formatted Date            96453 non-null  object \n",
      " 1   Summary                   96453 non-null  object \n",
      " 2   Precip Type               95936 non-null  object \n",
      " 3   Temperature (C)           96453 non-null  float64\n",
      " 4   Apparent Temperature (C)  96453 non-null  float64\n",
      " 5   Humidity                  96453 non-null  float64\n",
      " 6   Wind Speed (km/h)         96453 non-null  float64\n",
      " 7   Wind Bearing (degrees)    96453 non-null  float64\n",
      " 8   Visibility (km)           96453 non-null  float64\n",
      " 9   Loud Cover                96453 non-null  float64\n",
      " 10  Pressure (millibars)      96453 non-null  float64\n",
      " 11  Daily Summary             96453 non-null  object \n",
      "dtypes: float64(8), object(4)\n",
      "memory usage: 8.8+ MB\n"
     ]
    }
   ],
   "source": [
    "# Print the complete information of data\n",
    "weather_df.info()"
   ],
   "metadata": {
    "collapsed": false,
    "ExecuteTime": {
     "end_time": "2023-11-07T02:17:57.434448700Z",
     "start_time": "2023-11-07T02:17:57.317468200Z"
    }
   }
  },
  {
   "cell_type": "code",
   "execution_count": 14,
   "outputs": [
    {
     "name": "stdout",
     "output_type": "stream",
     "text": [
      "Weather Type with max count is: Partly Cloudy\n"
     ]
    }
   ],
   "source": [
    "# Which type of Weather has the maximum count in the dataset?\n",
    "weather_type_max = weather_df[\"Summary\"][weather_df[\"Summary\"].value_counts().max()]\n",
    "\n",
    "print(\"Weather Type with max count is:\", weather_type_max)"
   ],
   "metadata": {
    "collapsed": false,
    "ExecuteTime": {
     "end_time": "2023-11-07T02:17:57.435449Z",
     "start_time": "2023-11-07T02:17:57.372498800Z"
    }
   }
  },
  {
   "cell_type": "code",
   "execution_count": 15,
   "outputs": [
    {
     "name": "stdout",
     "output_type": "stream",
     "text": [
      "Standard Deviation of the wind speed is: 6.91\n"
     ]
    }
   ],
   "source": [
    "# What is the standard deviation of the wind speed?\n",
    "sd_wind = weather_df[\"Wind Speed (km/h)\"].std()\n",
    "\n",
    "print(f\"Standard Deviation of the wind speed is: {sd_wind:.2f}\")"
   ],
   "metadata": {
    "collapsed": false,
    "ExecuteTime": {
     "end_time": "2023-11-07T02:17:57.435449Z",
     "start_time": "2023-11-07T02:17:57.382515600Z"
    }
   }
  },
  {
   "cell_type": "code",
   "execution_count": 16,
   "outputs": [
    {
     "name": "stdout",
     "output_type": "stream",
     "text": [
      "Dates with lowest humidity are:\n",
      " 19958    2008-02-17 14:00:00.000 +0100\n",
      "28101    2009-12-20 21:00:00.000 +0100\n",
      "28103    2009-12-20 23:00:00.000 +0100\n",
      "28110    2009-12-21 06:00:00.000 +0100\n",
      "29627    2009-01-25 11:00:00.000 +0100\n",
      "54840    2012-02-10 00:00:00.000 +0100\n",
      "54858    2012-02-10 18:00:00.000 +0100\n",
      "54870    2012-02-11 06:00:00.000 +0100\n",
      "54872    2012-02-11 08:00:00.000 +0100\n",
      "54873    2012-02-11 09:00:00.000 +0100\n",
      "55086    2012-02-02 06:00:00.000 +0100\n",
      "55088    2012-02-02 08:00:00.000 +0100\n",
      "55349    2012-02-03 05:00:00.000 +0100\n",
      "55350    2012-02-03 06:00:00.000 +0100\n",
      "55352    2012-02-03 08:00:00.000 +0100\n",
      "55412    2012-02-05 20:00:00.000 +0100\n",
      "55469    2012-02-08 05:00:00.000 +0100\n",
      "55472    2012-02-08 08:00:00.000 +0100\n",
      "55473    2012-02-08 09:00:00.000 +0100\n",
      "55481    2012-02-08 17:00:00.000 +0100\n",
      "55508    2012-02-09 20:00:00.000 +0100\n",
      "55511    2012-02-09 23:00:00.000 +0100\n",
      "Name: Formatted Date, dtype: object\n"
     ]
    }
   ],
   "source": [
    "# Out of all the available records which date/dates has/have the lowest humidity?\n",
    "low_humid = weather_df[weather_df[\"Humidity\"] == weather_df[\"Humidity\"].min()][\"Formatted Date\"]\n",
    "\n",
    "print(\"Dates with lowest humidity are:\\n\", low_humid)"
   ],
   "metadata": {
    "collapsed": false,
    "ExecuteTime": {
     "end_time": "2023-11-07T02:17:57.435449Z",
     "start_time": "2023-11-07T02:17:57.387592700Z"
    }
   }
  },
  {
   "cell_type": "code",
   "execution_count": 17,
   "outputs": [
    {
     "name": "stdout",
     "output_type": "stream",
     "text": [
      "Number of records with Apparent Temperature equal to 'median' Apparent Temperature is: 19\n"
     ]
    }
   ],
   "source": [
    "# Out of all records how many records are equal to the median value of Apparent Temperature?\n",
    "equal_temp = weather_df[weather_df[\"Apparent Temperature (C)\"] == weather_df[\"Apparent Temperature (C)\"].median()]\n",
    "equal_temp_count = equal_temp.count()[0]\n",
    "\n",
    "print(\"Number of records with Apparent Temperature equal to 'median' Apparent Temperature is:\", equal_temp_count)"
   ],
   "metadata": {
    "collapsed": false,
    "ExecuteTime": {
     "end_time": "2023-11-07T02:17:57.436449500Z",
     "start_time": "2023-11-07T02:17:57.396099500Z"
    }
   }
  },
  {
   "cell_type": "markdown",
   "source": [],
   "metadata": {
    "collapsed": false
   }
  },
  {
   "cell_type": "code",
   "execution_count": 18,
   "outputs": [
    {
     "name": "stdout",
     "output_type": "stream",
     "text": [
      "The year with the highest average temperature is: 2007\n"
     ]
    }
   ],
   "source": [
    "# Which year has the highest average temperature?\n",
    "date_df = weather_df.groupby(\"Formatted Date\")\n",
    "\n",
    "avg_temp_df = date_df[\"Temperature (C)\"].mean()\n",
    "\n",
    "highest_avg_temp = avg_temp_df[avg_temp_df == avg_temp_df.max()]\n",
    "\n",
    "year = highest_avg_temp.index[0].split(\"-\")[0]\n",
    "\n",
    "print(\"The year with the highest average temperature is:\", year)"
   ],
   "metadata": {
    "collapsed": false,
    "ExecuteTime": {
     "end_time": "2023-11-07T02:17:57.562341Z",
     "start_time": "2023-11-07T02:17:57.404442900Z"
    }
   }
  },
  {
   "cell_type": "code",
   "execution_count": 42,
   "outputs": [
    {
     "name": "stdout",
     "output_type": "stream",
     "text": [
      "The year with the highest average temperature is: 2014\n",
      "The year with the highest average temperature is: 2014\n"
     ]
    }
   ],
   "source": [
    "weather_df['Year'] = weather_df['Formatted Date'].str[:4] # Get year from formatted date\n",
    "\n",
    "avg_temp_by_year = weather_df.groupby('Year')['Temperature (C)'].mean() # Group by year then get the mean of temperature\n",
    "\n",
    "highest_year = avg_temp_by_year.idxmax() # Get the year with the highest mean\n",
    "print(\"The year with the highest average temperature is:\", highest_year)\n",
    "\n",
    "## Another way to do it\n",
    "# highest_avg_temp_df = avg_temp_by_year[avg_temp_by_year == avg_temp_by_year.max()]\n",
    "# highest_year_temp = highest_avg_temp.index.tolist()[0]\n",
    "# print(\"The year with the highest average temperature is:\", highest_year_temp)"
   ],
   "metadata": {
    "collapsed": false,
    "ExecuteTime": {
     "end_time": "2023-11-07T02:26:54.568471900Z",
     "start_time": "2023-11-07T02:26:54.520565Z"
    }
   }
  },
  {
   "cell_type": "code",
   "execution_count": null,
   "outputs": [],
   "source": [],
   "metadata": {
    "collapsed": false,
    "ExecuteTime": {
     "end_time": "2023-11-07T02:17:58.740252200Z",
     "start_time": "2023-11-07T02:17:58.733250900Z"
    }
   }
  }
 ],
 "metadata": {
  "kernelspec": {
   "display_name": "Python 3 (ipykernel)",
   "language": "python",
   "name": "python3"
  },
  "language_info": {
   "codemirror_mode": {
    "name": "ipython",
    "version": 3
   },
   "file_extension": ".py",
   "mimetype": "text/x-python",
   "name": "python",
   "nbconvert_exporter": "python",
   "pygments_lexer": "ipython3",
   "version": "3.9.12"
  }
 },
 "nbformat": 4,
 "nbformat_minor": 2
}
