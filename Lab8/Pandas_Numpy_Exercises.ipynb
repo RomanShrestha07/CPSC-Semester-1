{
 "cells": [
  {
   "cell_type": "code",
   "execution_count": 2,
   "id": "initial_id",
   "metadata": {
    "collapsed": true,
    "ExecuteTime": {
     "end_time": "2023-10-17T00:54:45.421734600Z",
     "start_time": "2023-10-17T00:54:44.916231400Z"
    }
   },
   "outputs": [],
   "source": [
    "import pandas as pd\n",
    "import numpy as np"
   ]
  },
  {
   "cell_type": "code",
   "execution_count": 5,
   "outputs": [
    {
     "data": {
      "text/plain": "  key1 key2     data1     data2\n0    a  one  0.402803 -2.472967\n1    a  two -1.572609  0.686883\n2    b  one -0.212442  1.493260\n3    b  two -0.009815  0.936512\n4    a  one -0.698385  2.466954",
      "text/html": "<div>\n<style scoped>\n    .dataframe tbody tr th:only-of-type {\n        vertical-align: middle;\n    }\n\n    .dataframe tbody tr th {\n        vertical-align: top;\n    }\n\n    .dataframe thead th {\n        text-align: right;\n    }\n</style>\n<table border=\"1\" class=\"dataframe\">\n  <thead>\n    <tr style=\"text-align: right;\">\n      <th></th>\n      <th>key1</th>\n      <th>key2</th>\n      <th>data1</th>\n      <th>data2</th>\n    </tr>\n  </thead>\n  <tbody>\n    <tr>\n      <th>0</th>\n      <td>a</td>\n      <td>one</td>\n      <td>0.402803</td>\n      <td>-2.472967</td>\n    </tr>\n    <tr>\n      <th>1</th>\n      <td>a</td>\n      <td>two</td>\n      <td>-1.572609</td>\n      <td>0.686883</td>\n    </tr>\n    <tr>\n      <th>2</th>\n      <td>b</td>\n      <td>one</td>\n      <td>-0.212442</td>\n      <td>1.493260</td>\n    </tr>\n    <tr>\n      <th>3</th>\n      <td>b</td>\n      <td>two</td>\n      <td>-0.009815</td>\n      <td>0.936512</td>\n    </tr>\n    <tr>\n      <th>4</th>\n      <td>a</td>\n      <td>one</td>\n      <td>-0.698385</td>\n      <td>2.466954</td>\n    </tr>\n  </tbody>\n</table>\n</div>"
     },
     "execution_count": 5,
     "metadata": {},
     "output_type": "execute_result"
    }
   ],
   "source": [
    "data = {\n",
    "    'key1': ['a', 'a', 'b', 'b', 'a'],\n",
    "    'key2': ['one', 'two', 'one', 'two', 'one'],\n",
    "    'data1': np.random.randn(5),\n",
    "    'data2': np.random.randn(5)\n",
    "}\n",
    "\n",
    "df = pd.DataFrame(data)\n",
    "df"
   ],
   "metadata": {
    "collapsed": false,
    "ExecuteTime": {
     "end_time": "2023-10-17T00:55:03.401614900Z",
     "start_time": "2023-10-17T00:55:03.382588700Z"
    }
   },
   "id": "cc67844a27049d5"
  },
  {
   "cell_type": "code",
   "execution_count": 13,
   "outputs": [
    {
     "data": {
      "text/plain": "           key2     data1     data2\nkey1                               \na     onetwoone -1.868192  0.680870\nb        onetwo -0.222257  2.429772",
      "text/html": "<div>\n<style scoped>\n    .dataframe tbody tr th:only-of-type {\n        vertical-align: middle;\n    }\n\n    .dataframe tbody tr th {\n        vertical-align: top;\n    }\n\n    .dataframe thead th {\n        text-align: right;\n    }\n</style>\n<table border=\"1\" class=\"dataframe\">\n  <thead>\n    <tr style=\"text-align: right;\">\n      <th></th>\n      <th>key2</th>\n      <th>data1</th>\n      <th>data2</th>\n    </tr>\n    <tr>\n      <th>key1</th>\n      <th></th>\n      <th></th>\n      <th></th>\n    </tr>\n  </thead>\n  <tbody>\n    <tr>\n      <th>a</th>\n      <td>onetwoone</td>\n      <td>-1.868192</td>\n      <td>0.680870</td>\n    </tr>\n    <tr>\n      <th>b</th>\n      <td>onetwo</td>\n      <td>-0.222257</td>\n      <td>2.429772</td>\n    </tr>\n  </tbody>\n</table>\n</div>"
     },
     "execution_count": 13,
     "metadata": {},
     "output_type": "execute_result"
    }
   ],
   "source": [
    "group1 = df.groupby('key1').sum()\n",
    "group1"
   ],
   "metadata": {
    "collapsed": false,
    "ExecuteTime": {
     "end_time": "2023-10-17T01:03:49.091554700Z",
     "start_time": "2023-10-17T01:03:49.056762800Z"
    }
   },
   "id": "4687307316f70d07"
  },
  {
   "cell_type": "code",
   "execution_count": 14,
   "outputs": [
    {
     "data": {
      "text/plain": "     key1     data1     data2\nkey2                         \none   aba -0.508024  1.487247\ntwo    ab -1.582424  1.623395",
      "text/html": "<div>\n<style scoped>\n    .dataframe tbody tr th:only-of-type {\n        vertical-align: middle;\n    }\n\n    .dataframe tbody tr th {\n        vertical-align: top;\n    }\n\n    .dataframe thead th {\n        text-align: right;\n    }\n</style>\n<table border=\"1\" class=\"dataframe\">\n  <thead>\n    <tr style=\"text-align: right;\">\n      <th></th>\n      <th>key1</th>\n      <th>data1</th>\n      <th>data2</th>\n    </tr>\n    <tr>\n      <th>key2</th>\n      <th></th>\n      <th></th>\n      <th></th>\n    </tr>\n  </thead>\n  <tbody>\n    <tr>\n      <th>one</th>\n      <td>aba</td>\n      <td>-0.508024</td>\n      <td>1.487247</td>\n    </tr>\n    <tr>\n      <th>two</th>\n      <td>ab</td>\n      <td>-1.582424</td>\n      <td>1.623395</td>\n    </tr>\n  </tbody>\n</table>\n</div>"
     },
     "execution_count": 14,
     "metadata": {},
     "output_type": "execute_result"
    }
   ],
   "source": [
    "group2 = df.groupby('key2').sum()\n",
    "group2"
   ],
   "metadata": {
    "collapsed": false,
    "ExecuteTime": {
     "end_time": "2023-10-17T01:03:56.318624600Z",
     "start_time": "2023-10-17T01:03:56.294882400Z"
    }
   },
   "id": "72925170521370f4"
  },
  {
   "cell_type": "code",
   "execution_count": 16,
   "outputs": [
    {
     "data": {
      "text/plain": "      data1     data2\n0  0.402803 -2.472967\n1 -1.572609  0.686883\n2 -0.212442  1.493260\n3 -0.009815  0.936512\n4 -0.698385  2.466954",
      "text/html": "<div>\n<style scoped>\n    .dataframe tbody tr th:only-of-type {\n        vertical-align: middle;\n    }\n\n    .dataframe tbody tr th {\n        vertical-align: top;\n    }\n\n    .dataframe thead th {\n        text-align: right;\n    }\n</style>\n<table border=\"1\" class=\"dataframe\">\n  <thead>\n    <tr style=\"text-align: right;\">\n      <th></th>\n      <th>data1</th>\n      <th>data2</th>\n    </tr>\n  </thead>\n  <tbody>\n    <tr>\n      <th>0</th>\n      <td>0.402803</td>\n      <td>-2.472967</td>\n    </tr>\n    <tr>\n      <th>1</th>\n      <td>-1.572609</td>\n      <td>0.686883</td>\n    </tr>\n    <tr>\n      <th>2</th>\n      <td>-0.212442</td>\n      <td>1.493260</td>\n    </tr>\n    <tr>\n      <th>3</th>\n      <td>-0.009815</td>\n      <td>0.936512</td>\n    </tr>\n    <tr>\n      <th>4</th>\n      <td>-0.698385</td>\n      <td>2.466954</td>\n    </tr>\n  </tbody>\n</table>\n</div>"
     },
     "execution_count": 16,
     "metadata": {},
     "output_type": "execute_result"
    }
   ],
   "source": [
    "num_df = df[['data1', 'data2']]\n",
    "num_df"
   ],
   "metadata": {
    "collapsed": false,
    "ExecuteTime": {
     "end_time": "2023-10-17T01:05:13.211103900Z",
     "start_time": "2023-10-17T01:05:13.187652100Z"
    }
   },
   "id": "9b613261c6d0ff31"
  },
  {
   "cell_type": "code",
   "execution_count": 19,
   "outputs": [
    {
     "data": {
      "text/plain": "       count      mean       std       min       25%       50%       75%  \\\ndata1    5.0 -0.418090  0.757352 -1.572609 -0.698385 -0.212442 -0.009815   \ndata2    5.0  0.622128  1.860437 -2.472967  0.686883  0.936512  1.493260   \n\n            max  \ndata1  0.402803  \ndata2  2.466954  ",
      "text/html": "<div>\n<style scoped>\n    .dataframe tbody tr th:only-of-type {\n        vertical-align: middle;\n    }\n\n    .dataframe tbody tr th {\n        vertical-align: top;\n    }\n\n    .dataframe thead th {\n        text-align: right;\n    }\n</style>\n<table border=\"1\" class=\"dataframe\">\n  <thead>\n    <tr style=\"text-align: right;\">\n      <th></th>\n      <th>count</th>\n      <th>mean</th>\n      <th>std</th>\n      <th>min</th>\n      <th>25%</th>\n      <th>50%</th>\n      <th>75%</th>\n      <th>max</th>\n    </tr>\n  </thead>\n  <tbody>\n    <tr>\n      <th>data1</th>\n      <td>5.0</td>\n      <td>-0.418090</td>\n      <td>0.757352</td>\n      <td>-1.572609</td>\n      <td>-0.698385</td>\n      <td>-0.212442</td>\n      <td>-0.009815</td>\n      <td>0.402803</td>\n    </tr>\n    <tr>\n      <th>data2</th>\n      <td>5.0</td>\n      <td>0.622128</td>\n      <td>1.860437</td>\n      <td>-2.472967</td>\n      <td>0.686883</td>\n      <td>0.936512</td>\n      <td>1.493260</td>\n      <td>2.466954</td>\n    </tr>\n  </tbody>\n</table>\n</div>"
     },
     "execution_count": 19,
     "metadata": {},
     "output_type": "execute_result"
    }
   ],
   "source": [
    "num_df.describe().transpose()"
   ],
   "metadata": {
    "collapsed": false,
    "ExecuteTime": {
     "end_time": "2023-10-17T01:05:48.080704200Z",
     "start_time": "2023-10-17T01:05:48.060869200Z"
    }
   },
   "id": "ac6940740205b8f9"
  },
  {
   "cell_type": "code",
   "execution_count": null,
   "outputs": [],
   "source": [
    "fruit_salad = {\n",
    "    \"name\": [\"apple\", \"banana\", \"cantaloupe\", \"dragon-fruit\", \"elderberry\", \"fig\", \"guava\", \"huckleberry\", \"kiwi\",\n",
    "             \"lemon\"],\n",
    "    \"colour\": [\"red\", \"yellow\", \"orange\", \"magenta\", \"purple\", \"purple\", \"green\", \"blue\", \"brown\", \"yellow\"],\n",
    "    \"location\": [\"canada\", \"mexico\", \"spain\", 'china', 'austria', 'turkey', 'mexico', 'canada', 'china', 'mexico'],\n",
    "    'seed': [True, False, True, True, False, False, True, True, True, False],\n",
    "    'shape': ['round', 'long', 'round', 'round', 'round', 'oval', 'oval', 'round', 'round', 'oval'],\n",
    "    'sweetness': [True, True, True, False, True, False, True, True, True, False],\n",
    "    'water-content': [84, 75, 90, 96, 80, 78, 83, 73, 80, 83], \"weight\": [100, 120, 1360, 600, 5, 40, 450, 5, 76, 65]\n",
    "}"
   ],
   "metadata": {
    "collapsed": false
   },
   "id": "5284ca23a3b7d080"
  }
 ],
 "metadata": {
  "kernelspec": {
   "display_name": "Python 3",
   "language": "python",
   "name": "python3"
  },
  "language_info": {
   "codemirror_mode": {
    "name": "ipython",
    "version": 2
   },
   "file_extension": ".py",
   "mimetype": "text/x-python",
   "name": "python",
   "nbconvert_exporter": "python",
   "pygments_lexer": "ipython2",
   "version": "2.7.6"
  }
 },
 "nbformat": 4,
 "nbformat_minor": 5
}
