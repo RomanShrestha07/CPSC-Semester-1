{
 "cells": [
  {
   "cell_type": "markdown",
   "metadata": {},
   "source": [
    "<h1 align=center><font size = 5>Lab02</font></h1>\n",
    "<h1 align=center><font size = 4>Python Basics - Operations</font></h1>\n"
   ]
  },
  {
   "cell_type": "markdown",
   "metadata": {},
   "source": [
    "### Exercise 1\n",
    "Whenever you are experimenting with a new feature,you should try to make mistakes. For example, in the“Hello, world!” program, what happens if you leave out one of the quotation marks? What if you leave out both? What if you spell print wrong? "
   ]
  },
  {
   "cell_type": "markdown",
   "metadata": {},
   "source": [
    "We’ve seen that n = 42 is legal. What about 42 = n? "
   ]
  },
  {
   "cell_type": "markdown",
   "metadata": {},
   "source": [
    "How about x = y = 1?"
   ]
  },
  {
   "cell_type": "markdown",
   "metadata": {},
   "source": [
    "In some languages every statement ends with a semi-colon, ;. What happens if you put a semi-colon at the end of a Python statement? "
   ]
  },
  {
   "cell_type": "markdown",
   "metadata": {},
   "source": [
    "What if you put a period at the end of a statement?"
   ]
  },
  {
   "cell_type": "markdown",
   "metadata": {},
   "source": [
    "In math notation you can multiply x and y like this: xy. What happens if you try that in Python? "
   ]
  },
  {
   "cell_type": "markdown",
   "source": [],
   "metadata": {
    "collapsed": false
   }
  },
  {
   "cell_type": "markdown",
   "metadata": {},
   "source": [
    "\n",
    "### Exercise 2\n",
    "Start a new jupyter notebook cell and type 'help()' to start the online help utility. Or you can type help('print') to get information about the 'print' statement."
   ]
  },
  {
   "cell_type": "markdown",
   "metadata": {},
   "source": [
    "Use a web browser to go to the Python website, http://python.org/. This page contains information about Python and links to Python-related pages, and it gives you the ability to search the Python documentation."
   ]
  },
  {
   "cell_type": "markdown",
   "metadata": {},
   "source": [
    "### Exercise 3"
   ]
  },
  {
   "cell_type": "markdown",
   "metadata": {},
   "source": [
    "What is 7 to the power of 4?"
   ]
  },
  {
   "cell_type": "code",
   "execution_count": 2,
   "metadata": {
    "ExecuteTime": {
     "end_time": "2023-09-13T23:44:40.575185Z",
     "start_time": "2023-09-13T23:44:40.366007400Z"
    }
   },
   "outputs": [
    {
     "data": {
      "text/plain": "2401"
     },
     "execution_count": 2,
     "metadata": {},
     "output_type": "execute_result"
    }
   ],
   "source": [
    "7 ** 4"
   ]
  },
  {
   "cell_type": "markdown",
   "metadata": {},
   "source": [
    "### Exercise 4"
   ]
  },
  {
   "cell_type": "markdown",
   "metadata": {},
   "source": [
    "If you run a 10 kilometer race in 42 minutes 42 seconds, what is your average time (seconds) per mile? what is your average time (minutes) per mile? (Hint: there are about 1.61 kilometers in a mile.) "
   ]
  },
  {
   "cell_type": "code",
   "execution_count": 3,
   "metadata": {
    "ExecuteTime": {
     "end_time": "2023-09-13T23:44:40.698895Z",
     "start_time": "2023-09-13T23:44:40.400350800Z"
    }
   },
   "outputs": [
    {
     "name": "stdout",
     "output_type": "stream",
     "text": [
      "Avg. time in seconds per mile: 0.0024243482139826703 mile/sec\n",
      "Avg. time in minutes per mile: 0.14546089283896022 mile/min\n"
     ]
    }
   ],
   "source": [
    "miles_ran = 10 / 1.61\n",
    "seconds_ran = (42 * 60) + 42\n",
    "minutes_ran = (42 / 60) + 42\n",
    "\n",
    "avg_seconds = miles_ran / seconds_ran\n",
    "avg_minutes = miles_ran / minutes_ran\n",
    "\n",
    "print('Avg. time in seconds per mile:', avg_seconds, 'mile/sec')\n",
    "print('Avg. time in minutes per mile:', avg_minutes, 'mile/min')"
   ]
  },
  {
   "cell_type": "markdown",
   "metadata": {},
   "source": [
    "### Exercise 5\n",
    "Assume that we execute the following assignment statements: "
   ]
  },
  {
   "cell_type": "code",
   "execution_count": 4,
   "metadata": {
    "ExecuteTime": {
     "end_time": "2023-09-13T23:44:40.719883300Z",
     "start_time": "2023-09-13T23:44:40.411282300Z"
    }
   },
   "outputs": [],
   "source": [
    "width = 17\n",
    "height = 12\n",
    "delimiter = '.'"
   ]
  },
  {
   "cell_type": "markdown",
   "metadata": {},
   "source": [
    "For each of the following expressions, think about the value of the expression in python. Then write a code to check for your answer.\n",
    "\n",
    "width/2\n",
    "\n",
    "width/2.0\n",
    "\n",
    "height/3\n",
    "\n",
    "1 + 2 * 5\n",
    "\n",
    "delimiter * 5\n"
   ]
  },
  {
   "cell_type": "code",
   "execution_count": 5,
   "metadata": {
    "ExecuteTime": {
     "end_time": "2023-09-13T23:44:40.733887200Z",
     "start_time": "2023-09-13T23:44:40.454604300Z"
    }
   },
   "outputs": [
    {
     "name": "stdout",
     "output_type": "stream",
     "text": [
      "width/2: 8.5\n",
      "width/2.0: 8.5\n",
      "height/3: 4.0\n",
      "1 + 2 * 5: 11\n",
      "delimiter * 5: .....\n"
     ]
    }
   ],
   "source": [
    "print('width/2:', width / 2)\n",
    "print('width/2.0:', width / 2.0)\n",
    "print('height/3:', height / 3)\n",
    "print('1 + 2 * 5:', 1 + 2 * 5)\n",
    "print('delimiter * 5:', delimiter * 5)"
   ]
  },
  {
   "cell_type": "markdown",
   "metadata": {},
   "source": [
    "### Exercise 6\n",
    "Type an integer with a leading zero and see the error"
   ]
  },
  {
   "cell_type": "code",
   "execution_count": 6,
   "metadata": {
    "ExecuteTime": {
     "end_time": "2023-09-13T23:44:40.750470600Z",
     "start_time": "2023-09-13T23:44:40.468607300Z"
    }
   },
   "outputs": [
    {
     "ename": "SyntaxError",
     "evalue": "leading zeros in decimal integer literals are not permitted; use an 0o prefix for octal integers (2054358500.py, line 1)",
     "output_type": "error",
     "traceback": [
      "\u001B[1;36m  Cell \u001B[1;32mIn[6], line 1\u001B[1;36m\u001B[0m\n\u001B[1;33m    print(052)\u001B[0m\n\u001B[1;37m          ^\u001B[0m\n\u001B[1;31mSyntaxError\u001B[0m\u001B[1;31m:\u001B[0m leading zeros in decimal integer literals are not permitted; use an 0o prefix for octal integers\n"
     ]
    }
   ],
   "source": [
    "print(052)"
   ]
  },
  {
   "cell_type": "markdown",
   "metadata": {},
   "source": [
    "### Exercise 7\n",
    "The volume of a sphere with radius 'r' is '4/3' π r3. What is the volume of a sphere with radius 5?\n",
    "\n",
    "pi = 3.1415926535897932"
   ]
  },
  {
   "cell_type": "code",
   "execution_count": 7,
   "metadata": {
    "ExecuteTime": {
     "end_time": "2023-09-13T23:44:40.764473700Z",
     "start_time": "2023-09-13T23:44:40.487022500Z"
    }
   },
   "outputs": [
    {
     "name": "stdout",
     "output_type": "stream",
     "text": [
      "Volume of a sphere with radius 5: 523.5987755982989\n"
     ]
    }
   ],
   "source": [
    "pi = 3.1415926535897932\n",
    "radius = 5\n",
    "volume = (4 / 3) * pi * (radius ** 3)\n",
    "\n",
    "print('Volume of a sphere with radius 5:', volume)"
   ]
  },
  {
   "cell_type": "markdown",
   "metadata": {},
   "source": [
    "### Exercise 8\n",
    "Suppose the cover price of a book is \\\\$24.95, but bookstores get a 40% discount. Shipping costs \\\\$3 for the first copy and 75 cents for each additional copy. What is the total wholesale cost for 60 copies?"
   ]
  },
  {
   "cell_type": "code",
   "execution_count": 8,
   "metadata": {
    "ExecuteTime": {
     "end_time": "2023-09-13T23:44:40.766491Z",
     "start_time": "2023-09-13T23:44:40.501415700Z"
    }
   },
   "outputs": [
    {
     "name": "stdout",
     "output_type": "stream",
     "text": [
      "Total cost for 60 copies: 945.4499999999999\n"
     ]
    }
   ],
   "source": [
    "book_price = 24.95\n",
    "discount_amount = book_price * (40 / 100)\n",
    "units = 60\n",
    "\n",
    "discounted_price = book_price - discount_amount\n",
    "units_price = discounted_price * units\n",
    "\n",
    "shipping_cost = 3 + (0.75 * (units - 1))\n",
    "\n",
    "total_price = units_price + shipping_cost\n",
    "\n",
    "print('Total cost for 60 copies:', total_price)"
   ]
  },
  {
   "cell_type": "markdown",
   "metadata": {},
   "source": [
    "### Exercise 9"
   ]
  },
  {
   "cell_type": "markdown",
   "metadata": {},
   "source": [
    " Add parentheses to the following expression so that it evaluates to 1.\n",
    "    \n",
    " 5 - 3 // 2"
   ]
  },
  {
   "cell_type": "code",
   "execution_count": 9,
   "metadata": {
    "ExecuteTime": {
     "end_time": "2023-09-13T23:44:40.773476900Z",
     "start_time": "2023-09-13T23:44:40.514422Z"
    }
   },
   "outputs": [
    {
     "data": {
      "text/plain": "1"
     },
     "execution_count": 9,
     "metadata": {},
     "output_type": "execute_result"
    }
   ],
   "source": [
    "(5 - 3) // 2"
   ]
  },
  {
   "cell_type": "markdown",
   "metadata": {},
   "source": [
    "Add parentheses to the following expression so that it evaluates to 0\n",
    "\n",
    "8 - 3 * 2 - 1 + 1"
   ]
  },
  {
   "cell_type": "code",
   "execution_count": 10,
   "metadata": {
    "ExecuteTime": {
     "end_time": "2023-09-13T23:44:40.776481600Z",
     "start_time": "2023-09-13T23:44:40.524567600Z"
    }
   },
   "outputs": [
    {
     "data": {
      "text/plain": "0"
     },
     "execution_count": 10,
     "metadata": {},
     "output_type": "execute_result"
    }
   ],
   "source": [
    "8 - (3 * 2) - (1 + 1)"
   ]
  },
  {
   "cell_type": "markdown",
   "metadata": {},
   "source": [
    "### Exercise 10"
   ]
  },
  {
   "cell_type": "markdown",
   "metadata": {},
   "source": [
    "Alice, Bob and Carol have agreed to pool their Halloween candy and split it evenly among themselves.\n",
    "For the sake of their friendship, any candies left over will be smashed. For example, if they collectively\n",
    "bring home 91 candies, they'll take 30 each and smash 1.\n",
    "\n",
    "Write an arithmetic expression below to calculate how many candies they must smash for a given haul."
   ]
  },
  {
   "cell_type": "code",
   "execution_count": 11,
   "metadata": {
    "ExecuteTime": {
     "end_time": "2023-09-13T23:44:40.792481300Z",
     "start_time": "2023-09-13T23:44:40.542577200Z"
    }
   },
   "outputs": [
    {
     "name": "stdout",
     "output_type": "stream",
     "text": [
      "Candies to smash: 1\n"
     ]
    }
   ],
   "source": [
    "# Variables representing the number of candies collected by alice, bob, and carol\n",
    "alice_candies = 121\n",
    "bob_candies = 77\n",
    "carol_candies = 109\n",
    "\n",
    "# Your code goes here! Replace the right-hand side of this assignment with an expression\n",
    "# involving alice_candies, bob_candies, and carol_candies\n",
    "total_candies = alice_candies + bob_candies + carol_candies\n",
    "\n",
    "to_smash = total_candies % 3\n",
    "\n",
    "print('Candies to smash:', to_smash)"
   ]
  },
  {
   "cell_type": "code",
   "execution_count": 11,
   "metadata": {
    "ExecuteTime": {
     "end_time": "2023-09-13T23:44:40.808413300Z",
     "start_time": "2023-09-13T23:44:40.554231700Z"
    }
   },
   "outputs": [],
   "source": []
  }
 ],
 "metadata": {
  "kernelspec": {
   "display_name": "Python 3",
   "language": "python",
   "name": "python3"
  },
  "language_info": {
   "codemirror_mode": {
    "name": "ipython",
    "version": 3
   },
   "file_extension": ".py",
   "mimetype": "text/x-python",
   "name": "python",
   "nbconvert_exporter": "python",
   "pygments_lexer": "ipython3",
   "version": "3.8.5"
  }
 },
 "nbformat": 4,
 "nbformat_minor": 2
}
