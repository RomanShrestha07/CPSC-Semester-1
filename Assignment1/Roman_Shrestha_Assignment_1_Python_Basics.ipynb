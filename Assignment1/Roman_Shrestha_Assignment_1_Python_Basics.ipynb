{
 "cells": [
  {
   "cell_type": "markdown",
   "metadata": {},
   "source": [
    "\n",
    "\n",
    "# Assignment 1 - Python Basics\n",
    "\n"
   ]
  },
  {
   "cell_type": "markdown",
   "metadata": {},
   "source": [
    "### A note for this assignment\n",
    "\n",
    "Submit this notebook with your answers included below each question.\n",
    "\n",
    "\n",
    "| Exercise | Point |\n",
    "| --- | --- |\n",
    "| 1 | 10 |\n",
    "| 2 | 10 |\n",
    "| 3 | 10 |\n",
    "| 4 | 10 |\n",
    "| 5 | 10 |\n",
    "| 6 | 10 |\n",
    "| 7 | 10 |\n",
    "| 8 | 10 |\n",
    "| 9 | 10 |\n",
    "|10 | 10 |\n",
    "| **Total** | **100** |\n"
   ]
  },
  {
   "cell_type": "markdown",
   "metadata": {},
   "source": [
    "### Exercise 1\n"
   ]
  },
  {
   "cell_type": "markdown",
   "metadata": {},
   "source": [
    "**Given this nested list, use indexing to grab the word \"python\".**"
   ]
  },
  {
   "cell_type": "code",
   "execution_count": 2,
   "metadata": {
    "ExecuteTime": {
     "end_time": "2023-09-27T01:10:05.080894800Z",
     "start_time": "2023-09-27T01:10:04.949310500Z"
    }
   },
   "outputs": [
    {
     "data": {
      "text/plain": "'python'"
     },
     "execution_count": 2,
     "metadata": {},
     "output_type": "execute_result"
    }
   ],
   "source": [
    "lst = [1, 2, [3, 4], [5, [100, 200, ['python']], 23, 11], 1, 7]\n",
    "\n",
    "lst[3][1][2][0]"
   ]
  },
  {
   "cell_type": "markdown",
   "metadata": {},
   "source": [
    "### Exercise 2"
   ]
  },
  {
   "cell_type": "markdown",
   "metadata": {},
   "source": [
    "**Given this nested dictionary grab the word \"python\".**"
   ]
  },
  {
   "cell_type": "code",
   "execution_count": 3,
   "metadata": {
    "ExecuteTime": {
     "end_time": "2023-09-27T01:10:05.088896300Z",
     "start_time": "2023-09-27T01:10:04.959314Z"
    }
   },
   "outputs": [
    {
     "data": {
      "text/plain": "'python'"
     },
     "execution_count": 3,
     "metadata": {},
     "output_type": "execute_result"
    }
   ],
   "source": [
    "d = {'k1': [1, 2, 3, {'tricky': ['oh', 'man', 'inception', {'target': [1, 2, 3, 'python']}]}]}\n",
    "\n",
    "d['k1'][3]['tricky'][3]['target'][3]"
   ]
  },
  {
   "cell_type": "markdown",
   "metadata": {},
   "source": [
    "### Exercise 3"
   ]
  },
  {
   "cell_type": "markdown",
   "metadata": {},
   "source": [
    "**Create a list L with odd length.  Complete the following tasks:**\n",
    "\n",
    "\n",
    " - Find the median element\n",
    " - Slice out all element indexed lower than the median element\n",
    " \n",
    "```\n",
    "An example of a list L:\n",
    "L= [4, 5, 3, 2, 6, 6, 9]\n",
    "```"
   ]
  },
  {
   "cell_type": "code",
   "execution_count": 4,
   "outputs": [
    {
     "name": "stdout",
     "output_type": "stream",
     "text": [
      "Median element: d\n",
      "Elements after the median: ['d', 'e', 'f', 'g']\n"
     ]
    }
   ],
   "source": [
    "odd_list = [\"a\", \"b\", \"c\", \"d\", \"e\", \"f\", \"g\"]\n",
    "list_length = len(odd_list)\n",
    "\n",
    "median_po = int((list_length + 1) / 2)\n",
    "median_idx = median_po - 1\n",
    "\n",
    "print(\"Median element:\", odd_list[median_idx])\n",
    "print(\"Elements after the median:\", odd_list[median_idx:])"
   ],
   "metadata": {
    "collapsed": false,
    "ExecuteTime": {
     "end_time": "2023-09-27T01:10:05.158912700Z",
     "start_time": "2023-09-27T01:10:04.969236200Z"
    }
   }
  },
  {
   "cell_type": "markdown",
   "metadata": {},
   "source": [
    "### Exercise 4"
   ]
  },
  {
   "cell_type": "markdown",
   "metadata": {},
   "source": [
    "\n",
    "**a) Swap the following two tuples using one line of python code:**\n",
    "\n",
    "```\n",
    "tuple1 = (10, 23)\n",
    "tuple2 = (97, 33)\n",
    "```\n",
    "\n",
    "**Expected output:**\n",
    "```\n",
    "tuple1 = (97, 33)\n",
    "tuple2 = (10, 23)\n",
    "```\n"
   ]
  },
  {
   "cell_type": "code",
   "execution_count": 5,
   "outputs": [
    {
     "name": "stdout",
     "output_type": "stream",
     "text": [
      "tuple1: (97, 33) tuple2: (10, 23)\n"
     ]
    }
   ],
   "source": [
    "tuple1 = (10, 23)\n",
    "tuple2 = (97, 33)\n",
    "\n",
    "tuple1, tuple2 = tuple2, tuple1\n",
    "\n",
    "print(\"tuple1:\", tuple1, \"tuple2:\", tuple2)"
   ],
   "metadata": {
    "collapsed": false,
    "ExecuteTime": {
     "end_time": "2023-09-27T01:10:05.172915400Z",
     "start_time": "2023-09-27T01:10:04.986108Z"
    }
   }
  },
  {
   "cell_type": "markdown",
   "metadata": {},
   "source": [
    "**b) Modify the first item (22) of a list inside a following tuple to 222**\n",
    "\n",
    "```\n",
    "tuple1 = (11, [22, 33], 45, 56)\n",
    "```\n",
    "\n",
    "**Expected output:**\n",
    "```\n",
    "tuple1 = (11, [222, 33], 45, 56)\n",
    "```"
   ]
  },
  {
   "cell_type": "code",
   "execution_count": 6,
   "outputs": [
    {
     "name": "stdout",
     "output_type": "stream",
     "text": [
      "tuple3: (11, [222, 33], 45, 56)\n"
     ]
    }
   ],
   "source": [
    "tuple3 = (11, [22, 33], 45, 56)\n",
    "\n",
    "tuple3[1][0] = 222\n",
    "\n",
    "print(\"tuple3:\", tuple3)"
   ],
   "metadata": {
    "collapsed": false,
    "ExecuteTime": {
     "end_time": "2023-09-27T01:10:05.185919100Z",
     "start_time": "2023-09-27T01:10:04.993088Z"
    }
   }
  },
  {
   "cell_type": "markdown",
   "metadata": {},
   "source": [
    "### Exercise 5"
   ]
  },
  {
   "cell_type": "markdown",
   "metadata": {},
   "source": [
    "**Write a code that grabs the email website and prints out the domain:**\n",
    "\n",
    "**Example**    \n",
    "```\n",
    "my_name@domain.com\n",
    "```\n",
    "\n",
    "**Expected output:**\n",
    "```\n",
    "domain.com\n",
    "```\n"
   ]
  },
  {
   "cell_type": "code",
   "execution_count": 7,
   "outputs": [
    {
     "data": {
      "text/plain": "'gmail.com'"
     },
     "execution_count": 7,
     "metadata": {},
     "output_type": "execute_result"
    }
   ],
   "source": [
    "website_email = \"romanstha07@gmail.com\"\n",
    "\n",
    "website_email.split(\"@\")[1]"
   ],
   "metadata": {
    "collapsed": false,
    "ExecuteTime": {
     "end_time": "2023-09-27T01:10:05.190919600Z",
     "start_time": "2023-09-27T01:10:05.000598700Z"
    }
   }
  },
  {
   "cell_type": "markdown",
   "metadata": {},
   "source": [
    "### Exercise 6"
   ]
  },
  {
   "cell_type": "markdown",
   "metadata": {},
   "source": [
    "Consider the following python data structures and write one use case for each of them.\n",
    "- string\n",
    "- list\n",
    "- tuple\n",
    "- dictionary\n",
    "- set\n"
   ]
  },
  {
   "cell_type": "code",
   "execution_count": 8,
   "outputs": [
    {
     "data": {
      "text/plain": "\"\\nString-> Text Processing: Strings are often used for text processing tasks, such as parsing, searching, and manipulating text data. For example, we can use strings to process user input, extract specific information from a larger text, or format and display text in an easy to read manner.\\n\\nList-> To-do Lists: Lists are very versatile and can be used to do many different things like creating a to-do list. We can add tasks to the list, mark tasks as completed by removing them, and even reorder tasks based on priority.\\n\\nTuple-> Coordinates: Tuples are often used to represent fixed collections of related values. For example, we can use a tuple to store geographical coordinates (latitude and longitude) of a location. Since these values must remain constant, using a tuple makes sure that they are not accidentally modified.\\n\\nDictionary-> Database: Dictionaries are great for creating data structures like a user database. Each user's information (ID, name, address, phone, etc.) can be stored as a key-value pair in a dictionary, allowing efficient retrieval of data using their unique ID as the key.\\n\\nSet-> Unique Values: Sets are useful when we need to work with a collection of unique values. For example, we can use a set to store the unique usernames of registered users. Sets automatically ensure that there are no duplicate values, making it efficient to check  and prevent duplicates.\\n\""
     },
     "execution_count": 8,
     "metadata": {},
     "output_type": "execute_result"
    }
   ],
   "source": [
    "\"\"\"\n",
    "String-> Text Processing: Strings are often used for text processing tasks, such as parsing, searching, and manipulating text data. For example, we can use strings to process user input, extract specific information from a larger text, or format and display text in an easy to read manner.\n",
    "\n",
    "List-> To-do Lists: Lists are very versatile and can be used to do many different things like creating a to-do list. We can add tasks to the list, mark tasks as completed by removing them, and even reorder tasks based on priority.\n",
    "\n",
    "Tuple-> Coordinates: Tuples are often used to represent fixed collections of related values. For example, we can use a tuple to store geographical coordinates (latitude and longitude) of a location. Since these values must remain constant, using a tuple makes sure that they are not accidentally modified.\n",
    "\n",
    "Dictionary-> Database: Dictionaries are great for creating data structures like a user database. Each user's information (ID, name, address, phone, etc.) can be stored as a key-value pair in a dictionary, allowing efficient retrieval of data using their unique ID as the key.\n",
    "\n",
    "Set-> Unique Values: Sets are useful when we need to work with a collection of unique values. For example, we can use a set to store the unique usernames of registered users. Sets automatically ensure that there are no duplicate values, making it efficient to check  and prevent duplicates.\n",
    "\"\"\""
   ],
   "metadata": {
    "collapsed": false,
    "ExecuteTime": {
     "end_time": "2023-09-27T01:10:05.202922800Z",
     "start_time": "2023-09-27T01:10:05.010336800Z"
    }
   }
  },
  {
   "cell_type": "markdown",
   "metadata": {},
   "source": [
    "### Exercise 7"
   ]
  },
  {
   "cell_type": "markdown",
   "metadata": {},
   "source": [
    "Given the list nums = [5, 6, 7, 8, 9, 10, 11, 12], write the code that would index into the list and return the sublist [9, 10, 11]."
   ]
  },
  {
   "cell_type": "code",
   "execution_count": 9,
   "metadata": {
    "ExecuteTime": {
     "end_time": "2023-09-27T01:10:05.203923100Z",
     "start_time": "2023-09-27T01:10:05.015632200Z"
    }
   },
   "outputs": [
    {
     "data": {
      "text/plain": "[9, 10, 11]"
     },
     "execution_count": 9,
     "metadata": {},
     "output_type": "execute_result"
    }
   ],
   "source": [
    "nums = [5, 6, 7, 8, 9, 10, 11, 12]\n",
    "nums[4:7]"
   ]
  },
  {
   "cell_type": "markdown",
   "metadata": {},
   "source": [
    "### Exercise 8"
   ]
  },
  {
   "cell_type": "markdown",
   "metadata": {},
   "source": [
    "Using python indexing, change the name **`Jason** to **Oliver** in the below data structure"
   ]
  },
  {
   "cell_type": "code",
   "execution_count": 10,
   "metadata": {
    "ExecuteTime": {
     "end_time": "2023-09-27T01:10:05.218925600Z",
     "start_time": "2023-09-27T01:10:05.024931700Z"
    }
   },
   "outputs": [],
   "source": [
    "customers = [{'id': '1234', 'full_name': {'first_name': 'Jason', 'last_name': 'Smith'}},\n",
    "             {'id': '2345', 'full_name': {'first_name': 'Tom', 'last_name': 'Albert'}},\n",
    "             {'id': '3456', 'full_name': {'first_name': 'Martin', 'last_name': 'Arts'}}]"
   ]
  },
  {
   "cell_type": "code",
   "execution_count": 11,
   "outputs": [
    {
     "data": {
      "text/plain": "[{'id': '1234', 'full_name': {'first_name': 'Oliver', 'last_name': 'Smith'}},\n {'id': '2345', 'full_name': {'first_name': 'Tom', 'last_name': 'Albert'}},\n {'id': '3456', 'full_name': {'first_name': 'Martin', 'last_name': 'Arts'}}]"
     },
     "execution_count": 11,
     "metadata": {},
     "output_type": "execute_result"
    }
   ],
   "source": [
    "customers[0]['full_name']['first_name'] = 'Oliver'\n",
    "customers"
   ],
   "metadata": {
    "collapsed": false,
    "ExecuteTime": {
     "end_time": "2023-09-27T01:10:05.223927300Z",
     "start_time": "2023-09-27T01:10:05.027438300Z"
    }
   }
  },
  {
   "cell_type": "markdown",
   "metadata": {},
   "source": [
    "### Exercise 9"
   ]
  },
  {
   "cell_type": "markdown",
   "metadata": {},
   "source": [
    "Given the below python list, display the list in the following order:\n",
    "\n",
    "```\n",
    "my_list = [100, 200, 300, 400, 500]\n",
    "```\n",
    "\n",
    "**Expected output:**\n",
    "```\n",
    "my_list = [500, 400, 300, 200, 100]\n",
    "```\n"
   ]
  },
  {
   "cell_type": "code",
   "execution_count": 12,
   "outputs": [
    {
     "data": {
      "text/plain": "[500, 400, 300, 200, 100]"
     },
     "execution_count": 12,
     "metadata": {},
     "output_type": "execute_result"
    }
   ],
   "source": [
    "my_list = [100, 200, 300, 400, 500]\n",
    "\n",
    "my_list.sort(reverse=True)\n",
    "\n",
    "my_list"
   ],
   "metadata": {
    "collapsed": false,
    "ExecuteTime": {
     "end_time": "2023-09-27T01:10:05.235929500Z",
     "start_time": "2023-09-27T01:10:05.033355600Z"
    }
   }
  },
  {
   "cell_type": "markdown",
   "metadata": {},
   "source": [
    "### Exercise 10"
   ]
  },
  {
   "cell_type": "markdown",
   "metadata": {},
   "source": [
    "Create a string variable with your full name in it, with your first and last name (and any middle names) seperated by a space. Split the string into a list, and print out your surname. \n",
    "\n"
   ]
  },
  {
   "cell_type": "code",
   "execution_count": 13,
   "metadata": {
    "ExecuteTime": {
     "end_time": "2023-09-27T01:10:05.238930100Z",
     "start_time": "2023-09-27T01:10:05.040353Z"
    }
   },
   "outputs": [
    {
     "data": {
      "text/plain": "'Shrestha'"
     },
     "execution_count": 13,
     "metadata": {},
     "output_type": "execute_result"
    }
   ],
   "source": [
    "my_name = 'Roman Shrestha'\n",
    "\n",
    "name_list = my_name.split(\" \")\n",
    "\n",
    "name_list[1]"
   ]
  },
  {
   "cell_type": "code",
   "execution_count": 13,
   "outputs": [],
   "source": [],
   "metadata": {
    "collapsed": false,
    "ExecuteTime": {
     "end_time": "2023-09-27T01:10:05.238930100Z",
     "start_time": "2023-09-27T01:10:05.043654300Z"
    }
   }
  }
 ],
 "metadata": {
  "anaconda-cloud": {},
  "kernelspec": {
   "display_name": "Python 3",
   "language": "python",
   "name": "python3"
  },
  "language_info": {
   "codemirror_mode": {
    "name": "ipython",
    "version": 3
   },
   "file_extension": ".py",
   "mimetype": "text/x-python",
   "name": "python",
   "nbconvert_exporter": "python",
   "pygments_lexer": "ipython3",
   "version": "3.8.5"
  }
 },
 "nbformat": 4,
 "nbformat_minor": 1
}
