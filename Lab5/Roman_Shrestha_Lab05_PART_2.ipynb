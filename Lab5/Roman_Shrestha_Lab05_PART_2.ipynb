{
 "cells": [
  {
   "cell_type": "markdown",
   "metadata": {},
   "source": [
    "<h1 align=center><font size = 5>Lab05-PART_2</font></h1>\n",
    "<h1 align=center><font size = 4>Python Basics </font></h1>\n"
   ]
  },
  {
   "cell_type": "markdown",
   "metadata": {},
   "source": [
    "### Exercise 1"
   ]
  },
  {
   "cell_type": "markdown",
   "metadata": {},
   "source": [
    "Using for loop, print out the values in the list per below:\n",
    "\n",
    "planets = ['Mercury', 'Venus', 'Earth', 'Mars', 'Jupiter', 'Saturn', 'Uranus', 'Neptune']\n",
    "\n",
    "```\n",
    "Expected output:\n",
    "Mercury Venus Earth Mars Jupiter Saturn Uranus Neptune\n",
    "```"
   ]
  },
  {
   "cell_type": "code",
   "execution_count": 3,
   "metadata": {
    "ExecuteTime": {
     "end_time": "2023-10-05T00:57:17.441995100Z",
     "start_time": "2023-10-05T00:57:17.383929Z"
    }
   },
   "outputs": [
    {
     "name": "stdout",
     "output_type": "stream",
     "text": [
      "Mercury\n",
      "Venus\n",
      "Earth\n",
      "Mars\n",
      "Jupiter\n",
      "Saturn\n",
      "Uranus\n",
      "Neptune\n"
     ]
    }
   ],
   "source": [
    "planets = ['Mercury', 'Venus', 'Earth', 'Mars', 'Jupiter', 'Saturn', 'Uranus', 'Neptune']\n",
    "\n",
    "for planet in planets:\n",
    "    print(planet)"
   ]
  },
  {
   "cell_type": "markdown",
   "metadata": {},
   "source": [
    "### Exercise 2"
   ]
  },
  {
   "cell_type": "markdown",
   "metadata": {},
   "source": [
    "Using for loop, find the multiplicands of the below numbers:\n",
    "\n",
    "multiplicands = (2, 2, 2, 3, 3, 5)\n",
    "\n",
    "```\n",
    "Expected output:\n",
    "360\n",
    "```"
   ]
  },
  {
   "cell_type": "code",
   "execution_count": 4,
   "outputs": [
    {
     "name": "stdout",
     "output_type": "stream",
     "text": [
      "360\n"
     ]
    }
   ],
   "source": [
    "multiplicands = (2, 2, 2, 3, 3, 5)\n",
    "\n",
    "multi_value = 1\n",
    "\n",
    "for i in multiplicands:\n",
    "    multi_value = multi_value * i\n",
    "\n",
    "print(multi_value)"
   ],
   "metadata": {
    "collapsed": false,
    "ExecuteTime": {
     "end_time": "2023-10-05T00:57:17.443994400Z",
     "start_time": "2023-10-05T00:57:17.392806200Z"
    }
   }
  },
  {
   "cell_type": "markdown",
   "metadata": {},
   "source": [
    "### Exercise 3"
   ]
  },
  {
   "cell_type": "markdown",
   "metadata": {},
   "source": [
    "Using for loop, print all the uppercase letters in s, one at a time\n",
    "\n",
    "s = 'steganograpHy is the practicE of conceaLing a file, message, image, or video within another fiLe, message, image, Or video.'\n",
    "\n",
    "```\n",
    "Expectde output:\n",
    "HELLO\n",
    "```"
   ]
  },
  {
   "cell_type": "code",
   "execution_count": 11,
   "outputs": [
    {
     "name": "stdout",
     "output_type": "stream",
     "text": [
      "H\n",
      "E\n",
      "L\n",
      "L\n",
      "O\n"
     ]
    }
   ],
   "source": [
    "s = \"steganograpHy is the practicE of conceaLing a file, message, image, or video within another fiLe, message, image, Or video.\"\n",
    "\n",
    "for letter in s:\n",
    "    if letter.isupper():\n",
    "        print(letter)"
   ],
   "metadata": {
    "collapsed": false,
    "ExecuteTime": {
     "end_time": "2023-10-05T01:01:47.160889200Z",
     "start_time": "2023-10-05T01:01:47.147074700Z"
    }
   }
  },
  {
   "cell_type": "markdown",
   "metadata": {},
   "source": [
    "### Exercise 4"
   ]
  },
  {
   "cell_type": "markdown",
   "metadata": {},
   "source": [
    "Using for loop, print out the below sentence:\n",
    "\n",
    "```\n",
    "    Expected output:\n",
    "    \n",
    "    \"I'm learning Python programming, week: 1\"\n",
    "    \"I'm learning Python programming, week: 3\"\n",
    "    \"I'm learning Python programming, week: 5\"\n",
    "    \"I'm learning Python programming, week: 7\"\n",
    "    \"I'm learning Python programming, week: 9\"\n",
    "    \"I'm learning Python programming, week: 11\"\n",
    "```"
   ]
  },
  {
   "cell_type": "code",
   "execution_count": 13,
   "outputs": [
    {
     "name": "stdout",
     "output_type": "stream",
     "text": [
      "I'm learning Python programming, week:  1\n",
      "I'm learning Python programming, week:  3\n",
      "I'm learning Python programming, week:  5\n",
      "I'm learning Python programming, week:  7\n",
      "I'm learning Python programming, week:  9\n",
      "I'm learning Python programming, week:  11\n"
     ]
    }
   ],
   "source": [
    "for i in range(1, 12, 2):\n",
    "    print(\"I'm learning Python programming, week: \", i)"
   ],
   "metadata": {
    "collapsed": false,
    "ExecuteTime": {
     "end_time": "2023-10-05T01:03:02.072889600Z",
     "start_time": "2023-10-05T01:03:02.054773400Z"
    }
   }
  },
  {
   "cell_type": "markdown",
   "metadata": {},
   "source": [
    "### Exercise 5"
   ]
  },
  {
   "cell_type": "markdown",
   "metadata": {},
   "source": [
    "Write a function that gets a list of numbers and return whether the number is lucky. A lucky list contains at least one number divisible by 7."
   ]
  },
  {
   "cell_type": "code",
   "execution_count": 15,
   "outputs": [
    {
     "data": {
      "text/plain": "'List is not lucky.'"
     },
     "execution_count": 15,
     "metadata": {},
     "output_type": "execute_result"
    }
   ],
   "source": [
    "def lucky_list(num_list):\n",
    "    for num in num_list:\n",
    "        if num % 7 == 0:\n",
    "            return 'List is lucky.'\n",
    "\n",
    "    return 'List is not lucky.'\n",
    "\n",
    "\n",
    "lucky_list([1, 2, 4, 8, 16, 32, 49])"
   ],
   "metadata": {
    "collapsed": false,
    "ExecuteTime": {
     "end_time": "2023-10-05T01:07:59.468262Z",
     "start_time": "2023-10-05T01:07:59.454861300Z"
    }
   }
  },
  {
   "cell_type": "markdown",
   "metadata": {},
   "source": [
    "### Exercise 6"
   ]
  },
  {
   "cell_type": "markdown",
   "metadata": {},
   "source": [
    "Complete the body of the function below according to its docstring."
   ]
  },
  {
   "cell_type": "code",
   "execution_count": 25,
   "metadata": {
    "ExecuteTime": {
     "end_time": "2023-10-05T01:20:38.837038800Z",
     "start_time": "2023-10-05T01:20:38.824410500Z"
    }
   },
   "outputs": [
    {
     "data": {
      "text/plain": "False"
     },
     "execution_count": 25,
     "metadata": {},
     "output_type": "execute_result"
    }
   ],
   "source": [
    "def menu_is_boring(meals):\n",
    "    \"\"\"Given a list of meals served over some period of time, return True if the\n",
    "    same meal has ever been served two days in a row, and False otherwise.\n",
    "    \"\"\"\n",
    "\n",
    "    menu_length = len(meals) - 1\n",
    "\n",
    "    for idx, meal in enumerate(meals):\n",
    "        if idx < menu_length and meal == meals[idx + 1]:\n",
    "            return True\n",
    "    return False\n",
    "\n",
    "\n",
    "def menu_is_boring_2(meals):\n",
    "    for j in range(len(meals) - 1):\n",
    "        if meals[j] == meals[j + 1]:\n",
    "            return True\n",
    "    return False\n",
    "\n",
    "\n",
    "menu_is_boring(['Apple', 'Toast', 'Cheese', 'Bacon', 'Tea', 'Coffee'])"
   ]
  },
  {
   "cell_type": "markdown",
   "metadata": {},
   "source": [
    "### Exercise 7"
   ]
  },
  {
   "cell_type": "markdown",
   "metadata": {},
   "source": [
    "Display the below output using for loop\n",
    "```\n",
    "*\n",
    "**\n",
    "***\n",
    "****\n",
    "*****\n",
    "******\n",
    "*******\n",
    "********\n",
    "*********\n",
    "```"
   ]
  },
  {
   "cell_type": "code",
   "execution_count": 26,
   "outputs": [
    {
     "name": "stdout",
     "output_type": "stream",
     "text": [
      "*\n",
      "**\n",
      "***\n",
      "****\n",
      "*****\n",
      "******\n",
      "*******\n",
      "********\n",
      "*********\n"
     ]
    }
   ],
   "source": [
    "star = \"*\"\n",
    "\n",
    "for j in range(1, 10):\n",
    "    print(star * j)"
   ],
   "metadata": {
    "collapsed": false,
    "ExecuteTime": {
     "end_time": "2023-10-05T01:23:51.042724800Z",
     "start_time": "2023-10-05T01:23:51.033753400Z"
    }
   }
  },
  {
   "cell_type": "markdown",
   "metadata": {},
   "source": [
    "### Exercise 8"
   ]
  },
  {
   "cell_type": "markdown",
   "metadata": {},
   "source": [
    "Write a function which calculates the sum of the numbers between 1 and the given number passed to the function.\n",
    "For instance, given 10, the output should be 55."
   ]
  },
  {
   "cell_type": "code",
   "execution_count": 27,
   "outputs": [
    {
     "data": {
      "text/plain": "55"
     },
     "execution_count": 27,
     "metadata": {},
     "output_type": "execute_result"
    }
   ],
   "source": [
    "def sum_between_1_n(n):\n",
    "    return sum(range(n + 1))\n",
    "\n",
    "\n",
    "sum_between_1_n(10)"
   ],
   "metadata": {
    "collapsed": false,
    "ExecuteTime": {
     "end_time": "2023-10-05T01:25:51.293908500Z",
     "start_time": "2023-10-05T01:25:51.282236200Z"
    }
   }
  },
  {
   "cell_type": "markdown",
   "metadata": {},
   "source": [
    "### Exercise 9"
   ]
  },
  {
   "cell_type": "markdown",
   "metadata": {},
   "source": [
    "Display -12 to -1 using for loop"
   ]
  },
  {
   "cell_type": "code",
   "execution_count": 29,
   "metadata": {
    "ExecuteTime": {
     "end_time": "2023-10-05T01:27:37.386447600Z",
     "start_time": "2023-10-05T01:27:37.371430500Z"
    }
   },
   "outputs": [
    {
     "data": {
      "text/plain": "[-12, -11, -10, -9, -8, -7, -6, -5, -4, -3, -2, -1]"
     },
     "execution_count": 29,
     "metadata": {},
     "output_type": "execute_result"
    }
   ],
   "source": [
    "negative_list = []\n",
    "\n",
    "for j in range(-12, 0):\n",
    "    negative_list.append(j)\n",
    "\n",
    "negative_list"
   ]
  },
  {
   "cell_type": "markdown",
   "metadata": {},
   "source": [
    "### Exercise 10"
   ]
  },
  {
   "cell_type": "markdown",
   "metadata": {},
   "source": [
    "Find two ways to get the sum of the values of the below dictionary. \n",
    "my_dict = {'a': 1, 'b': 2, 'c': 3, 'd': 4, 'e': 5}"
   ]
  },
  {
   "cell_type": "code",
   "execution_count": 31,
   "outputs": [
    {
     "name": "stdout",
     "output_type": "stream",
     "text": [
      "Sum 1: 15\n",
      "Sum 2: 15\n"
     ]
    }
   ],
   "source": [
    "my_dict = {'a': 1, 'b': 2, 'c': 3, 'd': 4, 'e': 5}\n",
    "\n",
    "sum1 = 0\n",
    "for k, v in my_dict.items():\n",
    "    sum1 = sum1 + v\n",
    "\n",
    "sum2 = 0\n",
    "for v in my_dict.values():\n",
    "    sum2 = sum2 + v\n",
    "\n",
    "print('Sum 1:', sum1)\n",
    "print('Sum 2:', sum2)"
   ],
   "metadata": {
    "collapsed": false,
    "ExecuteTime": {
     "end_time": "2023-10-05T01:32:53.336133200Z",
     "start_time": "2023-10-05T01:32:53.322930300Z"
    }
   }
  },
  {
   "cell_type": "markdown",
   "metadata": {},
   "source": [
    "## Read and learn - Optional:"
   ]
  },
  {
   "cell_type": "markdown",
   "metadata": {},
   "source": [
    "Other than using `for` loop, there is another method to loop over a seuqnece "
   ]
  },
  {
   "cell_type": "markdown",
   "metadata": {},
   "source": [
    " <a id=\"ref2\"></a>\n",
    "<center><h2>While Loops</h2></center>"
   ]
  },
  {
   "cell_type": "markdown",
   "metadata": {},
   "source": [
    "As you have learned so far, the **for** loop is used for a controlled flow of repetition. The other type of loop in Python is a while loop, which iterates until some condition is met. The argument of the while loop is evaluated as a boolean statement, and the loop is executed until the statement evaluates to False. \n",
    "\n"
   ]
  },
  {
   "cell_type": "markdown",
   "metadata": {},
   "source": [
    "**syntax for while loop**\n",
    "```\n",
    "while <condition>:\n",
    "    # Do something\n",
    "    # And another thing\n",
    "```"
   ]
  },
  {
   "cell_type": "markdown",
   "metadata": {},
   "source": [
    "For instance, you can use while loop, to print out numbers: 0, 1, 2, 3, 4"
   ]
  },
  {
   "cell_type": "code",
   "execution_count": 6,
   "metadata": {
    "ExecuteTime": {
     "end_time": "2023-10-05T00:57:17.492006100Z",
     "start_time": "2023-10-05T00:57:17.430707Z"
    }
   },
   "outputs": [
    {
     "name": "stdout",
     "output_type": "stream",
     "text": [
      "0\n",
      "1\n",
      "2\n",
      "3\n",
      "4\n"
     ]
    }
   ],
   "source": [
    "count = 0\n",
    "while count < 5:\n",
    "    print(count)\n",
    "    count = count + 1\n"
   ]
  },
  {
   "cell_type": "markdown",
   "metadata": {},
   "source": [
    "Here are the steps happening for the above while loop:\n",
    "\n",
    "First - The variable count is called a counter (or loop variable) and it controls the number of times the loop iterates.\n",
    "\n",
    "Second - The variable count is initially 0 and the condition evaluates to True, so the body of the loop is executed.\n",
    "\n",
    "Third - Print the value of the variable count to the terminal and increment count by 1. (count is now 1 instead of 0).\n",
    "\n",
    "Fourth - Evaluate the condition again. It is still True as count is still less than 5.\n",
    "\n",
    "Fifth - Print the value of the variable count to the terminal and increment count by 1. (count is now 2).\n",
    "\n",
    "Sixth - Repeat the above steps until count is 5 in which case the loops condition is False so the loop terminates and we execute any statements which follow."
   ]
  },
  {
   "cell_type": "markdown",
   "metadata": {},
   "source": [
    "### Exercise 11"
   ]
  },
  {
   "cell_type": "markdown",
   "metadata": {},
   "source": [
    "Use while loop, print out numbers from 0 to 10.\n",
    "\n",
    "```\n",
    "Expected output:\n",
    "0 1 2 3 4 5 6 7 8 9 \n",
    "```\n"
   ]
  },
  {
   "cell_type": "code",
   "execution_count": 32,
   "metadata": {
    "ExecuteTime": {
     "end_time": "2023-10-05T01:34:39.718886500Z",
     "start_time": "2023-10-05T01:34:39.711208100Z"
    }
   },
   "outputs": [
    {
     "name": "stdout",
     "output_type": "stream",
     "text": [
      "0\n",
      "1\n",
      "2\n",
      "3\n",
      "4\n",
      "5\n",
      "6\n",
      "7\n",
      "8\n",
      "9\n",
      "10\n"
     ]
    }
   ],
   "source": [
    "new_count = 0\n",
    "\n",
    "while new_count < 11:\n",
    "    print(new_count)\n",
    "    new_count = new_count + 1"
   ]
  },
  {
   "cell_type": "markdown",
   "metadata": {},
   "source": [
    "<h5>Attributes</h5>\n",
    "<ul>\n",
    "    <li><font size = 1>UBC Master of Data Sceince</font></li>\n",
    "    <li><font size = 1>Kaggle</font></li>\n",
    "    <li><font size = 1>Pynative</font></li>\n",
    "</ul>"
   ]
  },
  {
   "cell_type": "code",
   "execution_count": 6,
   "metadata": {
    "ExecuteTime": {
     "end_time": "2023-10-05T00:57:17.517011800Z",
     "start_time": "2023-10-05T00:57:17.440487800Z"
    }
   },
   "outputs": [],
   "source": []
  }
 ],
 "metadata": {
  "kernelspec": {
   "display_name": "Python 3 (ipykernel)",
   "language": "python",
   "name": "python3"
  },
  "language_info": {
   "codemirror_mode": {
    "name": "ipython",
    "version": 3
   },
   "file_extension": ".py",
   "mimetype": "text/x-python",
   "name": "python",
   "nbconvert_exporter": "python",
   "pygments_lexer": "ipython3",
   "version": "3.9.12"
  }
 },
 "nbformat": 4,
 "nbformat_minor": 4
}
