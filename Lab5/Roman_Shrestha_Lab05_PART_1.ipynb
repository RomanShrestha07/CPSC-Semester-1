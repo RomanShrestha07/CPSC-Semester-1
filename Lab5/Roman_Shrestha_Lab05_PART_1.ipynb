{
 "cells": [
  {
   "cell_type": "markdown",
   "metadata": {},
   "source": [
    "<h1 align=center><font size = 5>Lab05-PART_1</font></h1>\n",
    "<h1 align=center><font size = 4>Python Basics </font></h1>\n"
   ]
  },
  {
   "cell_type": "markdown",
   "metadata": {},
   "source": [
    "### Exercise 1"
   ]
  },
  {
   "cell_type": "markdown",
   "metadata": {},
   "source": [
    "Without running the code, What is printed by the following statements?\n",
    "\n",
    "```\n",
    "mydict = {\"cat\":12, \"dog\":6, \"elephant\":23, \"bear\":20}\n",
    "keylist = list(mydict.keys())\n",
    "keylist.sort()\n",
    "print(keylist[3])\n",
    "```"
   ]
  },
  {
   "cell_type": "code",
   "execution_count": 3,
   "outputs": [],
   "source": [
    "# elephant"
   ],
   "metadata": {
    "collapsed": false,
    "ExecuteTime": {
     "end_time": "2023-10-05T00:18:33.338935500Z",
     "start_time": "2023-10-05T00:18:33.332517900Z"
    }
   }
  },
  {
   "cell_type": "markdown",
   "metadata": {},
   "source": [
    "### Exercise 2"
   ]
  },
  {
   "cell_type": "markdown",
   "metadata": {},
   "source": [
    "Define a function called `sign` which takes a numerical argument and returns -1 if it's negative, 1 if it's positive, and 0 if it's 0. Test out your function. Write docstring for your function.\n",
    "\n"
   ]
  },
  {
   "cell_type": "code",
   "execution_count": 10,
   "outputs": [
    {
     "data": {
      "text/plain": "-1"
     },
     "execution_count": 10,
     "metadata": {},
     "output_type": "execute_result"
    }
   ],
   "source": [
    "def sign(numerical_value):\n",
    "    \"\"\" this function takes one numerical value and returns 0 if it is equal to 0, returns -1 if it is smaller than 0 and returns 1 if it is not both\"\"\"\n",
    "\n",
    "    if numerical_value == 0:\n",
    "        return 0\n",
    "    elif numerical_value < 0:\n",
    "        return -1\n",
    "\n",
    "    return 1\n",
    "\n",
    "\n",
    "# sign(5)\n",
    "# sign(0)\n",
    "sign(-5)"
   ],
   "metadata": {
    "collapsed": false,
    "ExecuteTime": {
     "end_time": "2023-10-05T00:27:47.265791100Z",
     "start_time": "2023-10-05T00:27:47.259197600Z"
    }
   }
  },
  {
   "cell_type": "markdown",
   "metadata": {},
   "source": [
    "### Exercise 3"
   ]
  },
  {
   "cell_type": "markdown",
   "metadata": {},
   "source": [
    "Create a function that can accept two arguments first name and last name and print the first name in upper case and last name in lower case. Test out your function with your first name and last name."
   ]
  },
  {
   "cell_type": "code",
   "execution_count": 11,
   "outputs": [
    {
     "data": {
      "text/plain": "'ROMAN shrestha'"
     },
     "execution_count": 11,
     "metadata": {},
     "output_type": "execute_result"
    }
   ],
   "source": [
    "def upper_lower_name(first, last):\n",
    "    return first.upper() + \" \" + last.lower()\n",
    "\n",
    "\n",
    "upper_lower_name('Roman', 'Shrestha')"
   ],
   "metadata": {
    "collapsed": false,
    "ExecuteTime": {
     "end_time": "2023-10-05T00:29:59.095624700Z",
     "start_time": "2023-10-05T00:29:59.081476900Z"
    }
   }
  },
  {
   "cell_type": "markdown",
   "metadata": {},
   "source": [
    "### Exercise 4"
   ]
  },
  {
   "cell_type": "markdown",
   "metadata": {},
   "source": [
    "Write a function calculation() such that it can accept two variables and calculate the addition and subtraction of it. And also it must return both addition and subtraction in a single return call"
   ]
  },
  {
   "cell_type": "code",
   "execution_count": 13,
   "outputs": [
    {
     "data": {
      "text/plain": "'addition: 7 subtraction: 3'"
     },
     "execution_count": 13,
     "metadata": {},
     "output_type": "execute_result"
    }
   ],
   "source": [
    "def calculation(num1, num2):\n",
    "    addition = num1 + num2\n",
    "    subtraction = num1 - num2\n",
    "\n",
    "    return f\"addition: {addition} subtraction: {subtraction}\"\n",
    "\n",
    "\n",
    "calculation(5, 2)"
   ],
   "metadata": {
    "collapsed": false,
    "ExecuteTime": {
     "end_time": "2023-10-05T00:34:43.628643100Z",
     "start_time": "2023-10-05T00:34:43.614047100Z"
    }
   }
  },
  {
   "cell_type": "markdown",
   "metadata": {},
   "source": [
    "### Exercise 5"
   ]
  },
  {
   "cell_type": "markdown",
   "metadata": {},
   "source": [
    "Create a function showEmployee() in such a way that it should accept employee name, and it’s salary and display both, and if the salary is missing in function call it should show it as 8000. For instance, passing the employee name as \"Nasim\" and salary as 1000, the expected output is: The salary of employee called nasim is: 1000"
   ]
  },
  {
   "cell_type": "code",
   "execution_count": 21,
   "outputs": [
    {
     "data": {
      "text/plain": "'The salary of employee Roman is: 8000'"
     },
     "execution_count": 21,
     "metadata": {},
     "output_type": "execute_result"
    }
   ],
   "source": [
    "def show_employee(emp_name, emp_salary):\n",
    "    salary = emp_salary\n",
    "\n",
    "    if not emp_salary:\n",
    "        salary = 8000\n",
    "\n",
    "    return f\"The salary of employee {emp_name} is: {salary}\"\n",
    "\n",
    "\n",
    "show_employee('Roman', 0)"
   ],
   "metadata": {
    "collapsed": false,
    "ExecuteTime": {
     "end_time": "2023-10-05T00:39:51.584268800Z",
     "start_time": "2023-10-05T00:39:51.572936600Z"
    }
   }
  },
  {
   "cell_type": "markdown",
   "metadata": {},
   "source": [
    "###  Exercise 6"
   ]
  },
  {
   "cell_type": "markdown",
   "metadata": {},
   "source": [
    "Write the color_translator function. The color_translator function receives the name of a color, then prints its hexadecimal value. Currently, it only supports the three additive primary colors (red, green, blue), so it returns \"unknown\" for all other colors. Test out your code with different colors. Write the docstring.\n",
    "\n",
    "red > hex_color = \"#ff0000\"\n",
    "\n",
    "green > hex_color = \"#00ff00\"\n",
    "\n",
    "blue > hex_color = \"#0000ff\""
   ]
  },
  {
   "cell_type": "code",
   "execution_count": 25,
   "outputs": [
    {
     "data": {
      "text/plain": "'hex color = unknown'"
     },
     "execution_count": 25,
     "metadata": {},
     "output_type": "execute_result"
    }
   ],
   "source": [
    "def color_translator(color_name):\n",
    "    \"\"\" this function takes one string value and compared it with strings red, blue and green and returns the respective hex colors but if the input string is something other than red, blue or green it returns unknown for the hex color\"\"\"\n",
    "\n",
    "    hex_color = 'unknown'\n",
    "\n",
    "    if color_name == 'red':\n",
    "        hex_color = 'ff0000'\n",
    "    elif color_name == 'green':\n",
    "        hex_color = '00ff00'\n",
    "    elif color_name == 'blue':\n",
    "        hex_color = '0000ff'\n",
    "\n",
    "    return f\"hex color = {hex_color}\"\n",
    "\n",
    "\n",
    "# color_translator('black')\n",
    "color_translator('red')"
   ],
   "metadata": {
    "collapsed": false,
    "ExecuteTime": {
     "end_time": "2023-10-05T00:44:28.642652800Z",
     "start_time": "2023-10-05T00:44:28.631649800Z"
    }
   }
  },
  {
   "cell_type": "markdown",
   "metadata": {},
   "source": [
    "###  Exercise 7"
   ]
  },
  {
   "cell_type": "markdown",
   "metadata": {},
   "source": [
    "The highlight_word function changes the given word in a sentence to its upper-case version. For example, highlight_word(\"Have a nice day\", \"nice\") returns \"Have a NICE day\". Can you write this function in just one line? "
   ]
  },
  {
   "cell_type": "code",
   "execution_count": 27,
   "outputs": [
    {
     "data": {
      "text/plain": "'Have a WONDERFUL day!'"
     },
     "execution_count": 27,
     "metadata": {},
     "output_type": "execute_result"
    }
   ],
   "source": [
    "def highlight_word(sentence, word):\n",
    "    return sentence.replace(word, word.upper())\n",
    "\n",
    "\n",
    "highlight_word('Have a wonderful day!', 'wonderful')"
   ],
   "metadata": {
    "collapsed": false,
    "ExecuteTime": {
     "end_time": "2023-10-05T00:48:31.184909600Z",
     "start_time": "2023-10-05T00:48:31.170855200Z"
    }
   }
  },
  {
   "cell_type": "markdown",
   "metadata": {},
   "source": [
    "### Exercise 8"
   ]
  },
  {
   "cell_type": "markdown",
   "metadata": {},
   "source": [
    "Write a function that gets a list and returns the largest, smallest and sum of the items in the list. Write docstring for your function.\n",
    "\n",
    "my_list = [4, 6, 8, 24, 12, 2]"
   ]
  },
  {
   "cell_type": "code",
   "execution_count": 30,
   "outputs": [
    {
     "data": {
      "text/plain": "'smallest: 2, largest: 24, sum: 56'"
     },
     "execution_count": 30,
     "metadata": {},
     "output_type": "execute_result"
    }
   ],
   "source": [
    "def large_small_sum(my_list):\n",
    "    \"\"\" this function takes a numerical list, sorts it in ascending order to get the smallest and largest values easily using the index. It also sums numbers in the list and returns the smallest and largest along with the sum of the numbers of the list \"\"\"\n",
    "\n",
    "    my_list.sort()\n",
    "\n",
    "    smallest = my_list[0]\n",
    "    largest = my_list[len(my_list) - 1]\n",
    "    list_sum = sum(my_list)\n",
    "\n",
    "    return f\"smallest: {smallest}, largest: {largest}, sum: {list_sum}\"\n",
    "\n",
    "\n",
    "large_small_sum([4, 6, 8, 24, 12, 2])"
   ],
   "metadata": {
    "collapsed": false,
    "ExecuteTime": {
     "end_time": "2023-10-05T00:52:33.659043600Z",
     "start_time": "2023-10-05T00:52:33.641569100Z"
    }
   }
  },
  {
   "cell_type": "markdown",
   "metadata": {},
   "source": [
    "<h5>Attributes</h5>\n",
    "<ul>\n",
    "    <li><font size = 1>UBC Master of Data Sceince</font></li>\n",
    "    <li><font size = 1>Kaggle</font></li>\n",
    "    <li><font size = 1>Pynative</font></li>\n",
    "</ul>"
   ]
  },
  {
   "cell_type": "code",
   "execution_count": null,
   "outputs": [],
   "source": [],
   "metadata": {
    "collapsed": false
   }
  }
 ],
 "metadata": {
  "kernelspec": {
   "display_name": "Python 3 (ipykernel)",
   "language": "python",
   "name": "python3"
  },
  "language_info": {
   "codemirror_mode": {
    "name": "ipython",
    "version": 3
   },
   "file_extension": ".py",
   "mimetype": "text/x-python",
   "name": "python",
   "nbconvert_exporter": "python",
   "pygments_lexer": "ipython3",
   "version": "3.9.12"
  }
 },
 "nbformat": 4,
 "nbformat_minor": 4
}
