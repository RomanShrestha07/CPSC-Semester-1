{
 "cells": [
  {
   "cell_type": "markdown",
   "metadata": {},
   "source": [
    "<h1 align=center><font size = 5>Lab07</font></h1>\n",
    "<h1 align=center><font size = 4>Pandas </font></h1>\n"
   ]
  },
  {
   "cell_type": "code",
   "execution_count": 2,
   "metadata": {
    "ExecuteTime": {
     "end_time": "2023-10-12T06:28:37.257415500Z",
     "start_time": "2023-10-12T06:28:35.743032100Z"
    }
   },
   "outputs": [],
   "source": [
    "import pandas as pd"
   ]
  },
  {
   "cell_type": "code",
   "execution_count": 3,
   "metadata": {
    "ExecuteTime": {
     "end_time": "2023-10-12T06:28:37.264841400Z",
     "start_time": "2023-10-12T06:28:37.259416200Z"
    }
   },
   "outputs": [],
   "source": [
    "my_dict = {\"country\": [\"Brazil\", \"Russia\", \"India\", \"China\", \"South Africa\"],\n",
    "           \"capital\": [\"Brasilia\", \"Moscow\", \"New Dehli\", \"Beijing\", \"Pretoria\"],\n",
    "           \"area\": [8.516, 17.10, 3.286, 9.597, 1.221],\n",
    "           \"population\": [200.4, 143.5, 1252, 1357, 52.98]}"
   ]
  },
  {
   "cell_type": "markdown",
   "metadata": {},
   "source": [
    "**1- Create a DataFrame called `df` from the above dictionary**"
   ]
  },
  {
   "cell_type": "code",
   "execution_count": 4,
   "metadata": {
    "ExecuteTime": {
     "end_time": "2023-10-12T06:28:37.297879500Z",
     "start_time": "2023-10-12T06:28:37.262841500Z"
    }
   },
   "outputs": [
    {
     "data": {
      "text/plain": "        country    capital    area  population\n0        Brazil   Brasilia   8.516      200.40\n1        Russia     Moscow  17.100      143.50\n2         India  New Dehli   3.286     1252.00\n3         China    Beijing   9.597     1357.00\n4  South Africa   Pretoria   1.221       52.98",
      "text/html": "<div>\n<style scoped>\n    .dataframe tbody tr th:only-of-type {\n        vertical-align: middle;\n    }\n\n    .dataframe tbody tr th {\n        vertical-align: top;\n    }\n\n    .dataframe thead th {\n        text-align: right;\n    }\n</style>\n<table border=\"1\" class=\"dataframe\">\n  <thead>\n    <tr style=\"text-align: right;\">\n      <th></th>\n      <th>country</th>\n      <th>capital</th>\n      <th>area</th>\n      <th>population</th>\n    </tr>\n  </thead>\n  <tbody>\n    <tr>\n      <th>0</th>\n      <td>Brazil</td>\n      <td>Brasilia</td>\n      <td>8.516</td>\n      <td>200.40</td>\n    </tr>\n    <tr>\n      <th>1</th>\n      <td>Russia</td>\n      <td>Moscow</td>\n      <td>17.100</td>\n      <td>143.50</td>\n    </tr>\n    <tr>\n      <th>2</th>\n      <td>India</td>\n      <td>New Dehli</td>\n      <td>3.286</td>\n      <td>1252.00</td>\n    </tr>\n    <tr>\n      <th>3</th>\n      <td>China</td>\n      <td>Beijing</td>\n      <td>9.597</td>\n      <td>1357.00</td>\n    </tr>\n    <tr>\n      <th>4</th>\n      <td>South Africa</td>\n      <td>Pretoria</td>\n      <td>1.221</td>\n      <td>52.98</td>\n    </tr>\n  </tbody>\n</table>\n</div>"
     },
     "execution_count": 4,
     "metadata": {},
     "output_type": "execute_result"
    }
   ],
   "source": [
    "dataframe = pd.DataFrame(my_dict)\n",
    "\n",
    "dataframe.head()"
   ]
  },
  {
   "cell_type": "markdown",
   "metadata": {},
   "source": [
    "**2- Set the index for `df` - [\"BR\", \"RU\", \"IN\", \"CH\", \"SA\"]**"
   ]
  },
  {
   "cell_type": "code",
   "execution_count": 5,
   "metadata": {
    "ExecuteTime": {
     "end_time": "2023-10-12T06:28:37.299880100Z",
     "start_time": "2023-10-12T06:28:37.291120500Z"
    }
   },
   "outputs": [
    {
     "data": {
      "text/plain": "                   country    capital    area  population\ncountry_code                                             \nBR                  Brazil   Brasilia   8.516      200.40\nRU                  Russia     Moscow  17.100      143.50\nIN                   India  New Dehli   3.286     1252.00\nCH                   China    Beijing   9.597     1357.00\nSA            South Africa   Pretoria   1.221       52.98",
      "text/html": "<div>\n<style scoped>\n    .dataframe tbody tr th:only-of-type {\n        vertical-align: middle;\n    }\n\n    .dataframe tbody tr th {\n        vertical-align: top;\n    }\n\n    .dataframe thead th {\n        text-align: right;\n    }\n</style>\n<table border=\"1\" class=\"dataframe\">\n  <thead>\n    <tr style=\"text-align: right;\">\n      <th></th>\n      <th>country</th>\n      <th>capital</th>\n      <th>area</th>\n      <th>population</th>\n    </tr>\n    <tr>\n      <th>country_code</th>\n      <th></th>\n      <th></th>\n      <th></th>\n      <th></th>\n    </tr>\n  </thead>\n  <tbody>\n    <tr>\n      <th>BR</th>\n      <td>Brazil</td>\n      <td>Brasilia</td>\n      <td>8.516</td>\n      <td>200.40</td>\n    </tr>\n    <tr>\n      <th>RU</th>\n      <td>Russia</td>\n      <td>Moscow</td>\n      <td>17.100</td>\n      <td>143.50</td>\n    </tr>\n    <tr>\n      <th>IN</th>\n      <td>India</td>\n      <td>New Dehli</td>\n      <td>3.286</td>\n      <td>1252.00</td>\n    </tr>\n    <tr>\n      <th>CH</th>\n      <td>China</td>\n      <td>Beijing</td>\n      <td>9.597</td>\n      <td>1357.00</td>\n    </tr>\n    <tr>\n      <th>SA</th>\n      <td>South Africa</td>\n      <td>Pretoria</td>\n      <td>1.221</td>\n      <td>52.98</td>\n    </tr>\n  </tbody>\n</table>\n</div>"
     },
     "execution_count": 5,
     "metadata": {},
     "output_type": "execute_result"
    }
   ],
   "source": [
    "country_code = [\"BR\", \"RU\", \"IN\", \"CH\", \"SA\"]\n",
    "dataframe[\"country_code\"] = country_code\n",
    "\n",
    "dataframe.set_index('country_code', inplace=True)\n",
    "\n",
    "dataframe"
   ]
  },
  {
   "cell_type": "markdown",
   "metadata": {},
   "source": [
    "**3- Print out country column as Pandas Series**"
   ]
  },
  {
   "cell_type": "code",
   "execution_count": 6,
   "metadata": {
    "ExecuteTime": {
     "end_time": "2023-10-12T06:28:37.332895900Z",
     "start_time": "2023-10-12T06:28:37.298878800Z"
    }
   },
   "outputs": [
    {
     "data": {
      "text/plain": "country_code\nBR          Brazil\nRU          Russia\nIN           India\nCH           China\nSA    South Africa\nName: country, dtype: object"
     },
     "execution_count": 6,
     "metadata": {},
     "output_type": "execute_result"
    }
   ],
   "source": [
    "dataframe.country"
   ]
  },
  {
   "cell_type": "markdown",
   "metadata": {},
   "source": [
    "**4- Print out country column as data frame**"
   ]
  },
  {
   "cell_type": "code",
   "execution_count": 7,
   "metadata": {
    "ExecuteTime": {
     "end_time": "2023-10-12T06:28:37.350560100Z",
     "start_time": "2023-10-12T06:28:37.305911900Z"
    }
   },
   "outputs": [
    {
     "data": {
      "text/plain": "                   country\ncountry_code              \nBR                  Brazil\nRU                  Russia\nIN                   India\nCH                   China\nSA            South Africa",
      "text/html": "<div>\n<style scoped>\n    .dataframe tbody tr th:only-of-type {\n        vertical-align: middle;\n    }\n\n    .dataframe tbody tr th {\n        vertical-align: top;\n    }\n\n    .dataframe thead th {\n        text-align: right;\n    }\n</style>\n<table border=\"1\" class=\"dataframe\">\n  <thead>\n    <tr style=\"text-align: right;\">\n      <th></th>\n      <th>country</th>\n    </tr>\n    <tr>\n      <th>country_code</th>\n      <th></th>\n    </tr>\n  </thead>\n  <tbody>\n    <tr>\n      <th>BR</th>\n      <td>Brazil</td>\n    </tr>\n    <tr>\n      <th>RU</th>\n      <td>Russia</td>\n    </tr>\n    <tr>\n      <th>IN</th>\n      <td>India</td>\n    </tr>\n    <tr>\n      <th>CH</th>\n      <td>China</td>\n    </tr>\n    <tr>\n      <th>SA</th>\n      <td>South Africa</td>\n    </tr>\n  </tbody>\n</table>\n</div>"
     },
     "execution_count": 7,
     "metadata": {},
     "output_type": "execute_result"
    }
   ],
   "source": [
    "dataframe[['country']]"
   ]
  },
  {
   "cell_type": "markdown",
   "metadata": {},
   "source": [
    "**5- Print out a DataFrame with country and area columns**"
   ]
  },
  {
   "cell_type": "code",
   "execution_count": 8,
   "metadata": {
    "ExecuteTime": {
     "end_time": "2023-10-12T06:28:37.351560Z",
     "start_time": "2023-10-12T06:28:37.317008100Z"
    }
   },
   "outputs": [
    {
     "data": {
      "text/plain": "                   country    area\ncountry_code                      \nBR                  Brazil   8.516\nRU                  Russia  17.100\nIN                   India   3.286\nCH                   China   9.597\nSA            South Africa   1.221",
      "text/html": "<div>\n<style scoped>\n    .dataframe tbody tr th:only-of-type {\n        vertical-align: middle;\n    }\n\n    .dataframe tbody tr th {\n        vertical-align: top;\n    }\n\n    .dataframe thead th {\n        text-align: right;\n    }\n</style>\n<table border=\"1\" class=\"dataframe\">\n  <thead>\n    <tr style=\"text-align: right;\">\n      <th></th>\n      <th>country</th>\n      <th>area</th>\n    </tr>\n    <tr>\n      <th>country_code</th>\n      <th></th>\n      <th></th>\n    </tr>\n  </thead>\n  <tbody>\n    <tr>\n      <th>BR</th>\n      <td>Brazil</td>\n      <td>8.516</td>\n    </tr>\n    <tr>\n      <th>RU</th>\n      <td>Russia</td>\n      <td>17.100</td>\n    </tr>\n    <tr>\n      <th>IN</th>\n      <td>India</td>\n      <td>3.286</td>\n    </tr>\n    <tr>\n      <th>CH</th>\n      <td>China</td>\n      <td>9.597</td>\n    </tr>\n    <tr>\n      <th>SA</th>\n      <td>South Africa</td>\n      <td>1.221</td>\n    </tr>\n  </tbody>\n</table>\n</div>"
     },
     "execution_count": 8,
     "metadata": {},
     "output_type": "execute_result"
    }
   ],
   "source": [
    "dataframe[['country', 'area']]"
   ]
  },
  {
   "cell_type": "markdown",
   "metadata": {},
   "source": [
    "**6- Print out the first 4 observations**"
   ]
  },
  {
   "cell_type": "code",
   "execution_count": 9,
   "metadata": {
    "ExecuteTime": {
     "end_time": "2023-10-12T06:28:37.355098200Z",
     "start_time": "2023-10-12T06:28:37.325841100Z"
    }
   },
   "outputs": [
    {
     "data": {
      "text/plain": "             country    capital    area  population\ncountry_code                                       \nBR            Brazil   Brasilia   8.516       200.4\nRU            Russia     Moscow  17.100       143.5\nIN             India  New Dehli   3.286      1252.0\nCH             China    Beijing   9.597      1357.0",
      "text/html": "<div>\n<style scoped>\n    .dataframe tbody tr th:only-of-type {\n        vertical-align: middle;\n    }\n\n    .dataframe tbody tr th {\n        vertical-align: top;\n    }\n\n    .dataframe thead th {\n        text-align: right;\n    }\n</style>\n<table border=\"1\" class=\"dataframe\">\n  <thead>\n    <tr style=\"text-align: right;\">\n      <th></th>\n      <th>country</th>\n      <th>capital</th>\n      <th>area</th>\n      <th>population</th>\n    </tr>\n    <tr>\n      <th>country_code</th>\n      <th></th>\n      <th></th>\n      <th></th>\n      <th></th>\n    </tr>\n  </thead>\n  <tbody>\n    <tr>\n      <th>BR</th>\n      <td>Brazil</td>\n      <td>Brasilia</td>\n      <td>8.516</td>\n      <td>200.4</td>\n    </tr>\n    <tr>\n      <th>RU</th>\n      <td>Russia</td>\n      <td>Moscow</td>\n      <td>17.100</td>\n      <td>143.5</td>\n    </tr>\n    <tr>\n      <th>IN</th>\n      <td>India</td>\n      <td>New Dehli</td>\n      <td>3.286</td>\n      <td>1252.0</td>\n    </tr>\n    <tr>\n      <th>CH</th>\n      <td>China</td>\n      <td>Beijing</td>\n      <td>9.597</td>\n      <td>1357.0</td>\n    </tr>\n  </tbody>\n</table>\n</div>"
     },
     "execution_count": 9,
     "metadata": {},
     "output_type": "execute_result"
    }
   ],
   "source": [
    "dataframe.iloc[0:4]"
   ]
  },
  {
   "cell_type": "markdown",
   "metadata": {},
   "source": [
    "**7- Print out fourth and fifth observations**"
   ]
  },
  {
   "cell_type": "code",
   "execution_count": 10,
   "metadata": {
    "ExecuteTime": {
     "end_time": "2023-10-12T06:28:37.432650300Z",
     "start_time": "2023-10-12T06:28:37.337296500Z"
    }
   },
   "outputs": [
    {
     "data": {
      "text/plain": "                   country   capital   area  population\ncountry_code                                           \nCH                   China   Beijing  9.597     1357.00\nSA            South Africa  Pretoria  1.221       52.98",
      "text/html": "<div>\n<style scoped>\n    .dataframe tbody tr th:only-of-type {\n        vertical-align: middle;\n    }\n\n    .dataframe tbody tr th {\n        vertical-align: top;\n    }\n\n    .dataframe thead th {\n        text-align: right;\n    }\n</style>\n<table border=\"1\" class=\"dataframe\">\n  <thead>\n    <tr style=\"text-align: right;\">\n      <th></th>\n      <th>country</th>\n      <th>capital</th>\n      <th>area</th>\n      <th>population</th>\n    </tr>\n    <tr>\n      <th>country_code</th>\n      <th></th>\n      <th></th>\n      <th></th>\n      <th></th>\n    </tr>\n  </thead>\n  <tbody>\n    <tr>\n      <th>CH</th>\n      <td>China</td>\n      <td>Beijing</td>\n      <td>9.597</td>\n      <td>1357.00</td>\n    </tr>\n    <tr>\n      <th>SA</th>\n      <td>South Africa</td>\n      <td>Pretoria</td>\n      <td>1.221</td>\n      <td>52.98</td>\n    </tr>\n  </tbody>\n</table>\n</div>"
     },
     "execution_count": 10,
     "metadata": {},
     "output_type": "execute_result"
    }
   ],
   "source": [
    "dataframe.iloc[3:5]"
   ]
  },
  {
   "cell_type": "markdown",
   "metadata": {},
   "source": [
    "**8- Print out observation (row) for India**"
   ]
  },
  {
   "cell_type": "code",
   "execution_count": 11,
   "metadata": {
    "ExecuteTime": {
     "end_time": "2023-10-12T06:28:37.449281Z",
     "start_time": "2023-10-12T06:28:37.348559100Z"
    }
   },
   "outputs": [
    {
     "data": {
      "text/plain": "country           India\ncapital       New Dehli\narea              3.286\npopulation       1252.0\nName: IN, dtype: object"
     },
     "execution_count": 11,
     "metadata": {},
     "output_type": "execute_result"
    }
   ],
   "source": [
    "dataframe.loc['IN']"
   ]
  },
  {
   "cell_type": "markdown",
   "metadata": {},
   "source": [
    "**9- Get the area and population of china and India**"
   ]
  },
  {
   "cell_type": "code",
   "execution_count": 12,
   "metadata": {
    "ExecuteTime": {
     "end_time": "2023-10-12T06:28:37.451283200Z",
     "start_time": "2023-10-12T06:28:37.357100400Z"
    }
   },
   "outputs": [
    {
     "data": {
      "text/plain": "               area  population\ncountry_code                   \nIN            3.286      1252.0\nCH            9.597      1357.0",
      "text/html": "<div>\n<style scoped>\n    .dataframe tbody tr th:only-of-type {\n        vertical-align: middle;\n    }\n\n    .dataframe tbody tr th {\n        vertical-align: top;\n    }\n\n    .dataframe thead th {\n        text-align: right;\n    }\n</style>\n<table border=\"1\" class=\"dataframe\">\n  <thead>\n    <tr style=\"text-align: right;\">\n      <th></th>\n      <th>area</th>\n      <th>population</th>\n    </tr>\n    <tr>\n      <th>country_code</th>\n      <th></th>\n      <th></th>\n    </tr>\n  </thead>\n  <tbody>\n    <tr>\n      <th>IN</th>\n      <td>3.286</td>\n      <td>1252.0</td>\n    </tr>\n    <tr>\n      <th>CH</th>\n      <td>9.597</td>\n      <td>1357.0</td>\n    </tr>\n  </tbody>\n</table>\n</div>"
     },
     "execution_count": 12,
     "metadata": {},
     "output_type": "execute_result"
    }
   ],
   "source": [
    "dataframe.loc[['IN', 'CH']][['area', 'population']]"
   ]
  },
  {
   "cell_type": "markdown",
   "metadata": {},
   "source": [
    "**10 - Read Grades.csv file into the pandas data frame and answer the following question:**\n",
    "- Using the head method returns the first five rows\n",
    "- Print out the column names\n",
    "- Print out the row names as a list\n",
    "- Get the dimensions of the data frame with shape\n",
    "- Get the data type of each column\n",
    "- Look at how many unique grades exist\n",
    "- Get the mean, min, max of all the numeric values\n",
    "- Find the average of the final grade for each Grade category\n",
    "- How many students got the Grade as \"A\"?\n",
    "- Find the name of the student with the highest final grade"
   ]
  },
  {
   "cell_type": "code",
   "execution_count": 13,
   "metadata": {
    "ExecuteTime": {
     "end_time": "2023-10-12T06:28:37.521298200Z",
     "start_time": "2023-10-12T06:28:37.368184Z"
    }
   },
   "outputs": [
    {
     "data": {
      "text/plain": "    Name  Previous_Part  Participation1  Mini_Exam1  Mini_Exam2  \\\n0   Jake             32               1        19.5          20   \n1    Joe             32               1        20.0          16   \n2  Susan             30               1        19.0          19   \n3    Sol             31               1        22.0          13   \n4  Chris             30               1        19.0          17   \n\n   Participation2  Mini_Exam3  Final Grade  \n0               1        10.0   33.0     A  \n1               1        14.0   32.0     A  \n2               1        10.5   33.0    A-  \n3               1        13.0   34.0     A  \n4               1        12.5   33.5     A  ",
      "text/html": "<div>\n<style scoped>\n    .dataframe tbody tr th:only-of-type {\n        vertical-align: middle;\n    }\n\n    .dataframe tbody tr th {\n        vertical-align: top;\n    }\n\n    .dataframe thead th {\n        text-align: right;\n    }\n</style>\n<table border=\"1\" class=\"dataframe\">\n  <thead>\n    <tr style=\"text-align: right;\">\n      <th></th>\n      <th>Name</th>\n      <th>Previous_Part</th>\n      <th>Participation1</th>\n      <th>Mini_Exam1</th>\n      <th>Mini_Exam2</th>\n      <th>Participation2</th>\n      <th>Mini_Exam3</th>\n      <th>Final</th>\n      <th>Grade</th>\n    </tr>\n  </thead>\n  <tbody>\n    <tr>\n      <th>0</th>\n      <td>Jake</td>\n      <td>32</td>\n      <td>1</td>\n      <td>19.5</td>\n      <td>20</td>\n      <td>1</td>\n      <td>10.0</td>\n      <td>33.0</td>\n      <td>A</td>\n    </tr>\n    <tr>\n      <th>1</th>\n      <td>Joe</td>\n      <td>32</td>\n      <td>1</td>\n      <td>20.0</td>\n      <td>16</td>\n      <td>1</td>\n      <td>14.0</td>\n      <td>32.0</td>\n      <td>A</td>\n    </tr>\n    <tr>\n      <th>2</th>\n      <td>Susan</td>\n      <td>30</td>\n      <td>1</td>\n      <td>19.0</td>\n      <td>19</td>\n      <td>1</td>\n      <td>10.5</td>\n      <td>33.0</td>\n      <td>A-</td>\n    </tr>\n    <tr>\n      <th>3</th>\n      <td>Sol</td>\n      <td>31</td>\n      <td>1</td>\n      <td>22.0</td>\n      <td>13</td>\n      <td>1</td>\n      <td>13.0</td>\n      <td>34.0</td>\n      <td>A</td>\n    </tr>\n    <tr>\n      <th>4</th>\n      <td>Chris</td>\n      <td>30</td>\n      <td>1</td>\n      <td>19.0</td>\n      <td>17</td>\n      <td>1</td>\n      <td>12.5</td>\n      <td>33.5</td>\n      <td>A</td>\n    </tr>\n  </tbody>\n</table>\n</div>"
     },
     "execution_count": 13,
     "metadata": {},
     "output_type": "execute_result"
    }
   ],
   "source": [
    "grades_df = pd.read_csv('Grades.csv')\n",
    "\n",
    "grades_df.head()"
   ]
  },
  {
   "cell_type": "code",
   "execution_count": 14,
   "outputs": [
    {
     "name": "stdout",
     "output_type": "stream",
     "text": [
      "Name\n",
      "Previous_Part\n",
      "Participation1\n",
      "Mini_Exam1\n",
      "Mini_Exam2\n",
      "Participation2\n",
      "Mini_Exam3\n",
      "Final\n",
      "Grade\n"
     ]
    }
   ],
   "source": [
    "for col in grades_df.columns:\n",
    "    print(col)"
   ],
   "metadata": {
    "collapsed": false,
    "ExecuteTime": {
     "end_time": "2023-10-12T06:28:37.522298600Z",
     "start_time": "2023-10-12T06:28:37.394120600Z"
    }
   }
  },
  {
   "cell_type": "code",
   "execution_count": 15,
   "outputs": [
    {
     "data": {
      "text/plain": "[0, 1, 2, 3, 4]"
     },
     "execution_count": 15,
     "metadata": {},
     "output_type": "execute_result"
    }
   ],
   "source": [
    "list(grades_df.index)"
   ],
   "metadata": {
    "collapsed": false,
    "ExecuteTime": {
     "end_time": "2023-10-12T06:28:37.545303400Z",
     "start_time": "2023-10-12T06:28:37.398672900Z"
    }
   }
  },
  {
   "cell_type": "code",
   "execution_count": 16,
   "outputs": [
    {
     "data": {
      "text/plain": "(5, 9)"
     },
     "execution_count": 16,
     "metadata": {},
     "output_type": "execute_result"
    }
   ],
   "source": [
    "grades_df.shape"
   ],
   "metadata": {
    "collapsed": false,
    "ExecuteTime": {
     "end_time": "2023-10-12T06:28:37.545303400Z",
     "start_time": "2023-10-12T06:28:37.405888700Z"
    }
   }
  },
  {
   "cell_type": "code",
   "execution_count": 17,
   "outputs": [
    {
     "data": {
      "text/plain": "Name               object\nPrevious_Part       int64\nParticipation1      int64\nMini_Exam1        float64\nMini_Exam2          int64\nParticipation2      int64\nMini_Exam3        float64\nFinal             float64\nGrade              object\ndtype: object"
     },
     "execution_count": 17,
     "metadata": {},
     "output_type": "execute_result"
    }
   ],
   "source": [
    "grades_df.dtypes"
   ],
   "metadata": {
    "collapsed": false,
    "ExecuteTime": {
     "end_time": "2023-10-12T06:28:37.546304300Z",
     "start_time": "2023-10-12T06:28:37.413620300Z"
    }
   }
  },
  {
   "cell_type": "code",
   "execution_count": 18,
   "outputs": [
    {
     "data": {
      "text/plain": "array(['A', 'A-'], dtype=object)"
     },
     "execution_count": 18,
     "metadata": {},
     "output_type": "execute_result"
    }
   ],
   "source": [
    "grades_df['Grade'].unique()"
   ],
   "metadata": {
    "collapsed": false,
    "ExecuteTime": {
     "end_time": "2023-10-12T06:28:37.547304Z",
     "start_time": "2023-10-12T06:28:37.421977600Z"
    }
   }
  },
  {
   "cell_type": "code",
   "execution_count": 19,
   "outputs": [
    {
     "data": {
      "text/plain": "       Previous_Part  Participation1  Mini_Exam1  Mini_Exam2  Participation2  \\\ncount            5.0             5.0     5.00000    5.000000             5.0   \nmean            31.0             1.0    19.90000   17.000000             1.0   \nstd              1.0             0.0     1.24499    2.738613             0.0   \nmin             30.0             1.0    19.00000   13.000000             1.0   \n25%             30.0             1.0    19.00000   16.000000             1.0   \n50%             31.0             1.0    19.50000   17.000000             1.0   \n75%             32.0             1.0    20.00000   19.000000             1.0   \nmax             32.0             1.0    22.00000   20.000000             1.0   \n\n       Mini_Exam3     Final  \ncount    5.000000   5.00000  \nmean    12.000000  33.10000  \nstd      1.695582   0.74162  \nmin     10.000000  32.00000  \n25%     10.500000  33.00000  \n50%     12.500000  33.00000  \n75%     13.000000  33.50000  \nmax     14.000000  34.00000  ",
      "text/html": "<div>\n<style scoped>\n    .dataframe tbody tr th:only-of-type {\n        vertical-align: middle;\n    }\n\n    .dataframe tbody tr th {\n        vertical-align: top;\n    }\n\n    .dataframe thead th {\n        text-align: right;\n    }\n</style>\n<table border=\"1\" class=\"dataframe\">\n  <thead>\n    <tr style=\"text-align: right;\">\n      <th></th>\n      <th>Previous_Part</th>\n      <th>Participation1</th>\n      <th>Mini_Exam1</th>\n      <th>Mini_Exam2</th>\n      <th>Participation2</th>\n      <th>Mini_Exam3</th>\n      <th>Final</th>\n    </tr>\n  </thead>\n  <tbody>\n    <tr>\n      <th>count</th>\n      <td>5.0</td>\n      <td>5.0</td>\n      <td>5.00000</td>\n      <td>5.000000</td>\n      <td>5.0</td>\n      <td>5.000000</td>\n      <td>5.00000</td>\n    </tr>\n    <tr>\n      <th>mean</th>\n      <td>31.0</td>\n      <td>1.0</td>\n      <td>19.90000</td>\n      <td>17.000000</td>\n      <td>1.0</td>\n      <td>12.000000</td>\n      <td>33.10000</td>\n    </tr>\n    <tr>\n      <th>std</th>\n      <td>1.0</td>\n      <td>0.0</td>\n      <td>1.24499</td>\n      <td>2.738613</td>\n      <td>0.0</td>\n      <td>1.695582</td>\n      <td>0.74162</td>\n    </tr>\n    <tr>\n      <th>min</th>\n      <td>30.0</td>\n      <td>1.0</td>\n      <td>19.00000</td>\n      <td>13.000000</td>\n      <td>1.0</td>\n      <td>10.000000</td>\n      <td>32.00000</td>\n    </tr>\n    <tr>\n      <th>25%</th>\n      <td>30.0</td>\n      <td>1.0</td>\n      <td>19.00000</td>\n      <td>16.000000</td>\n      <td>1.0</td>\n      <td>10.500000</td>\n      <td>33.00000</td>\n    </tr>\n    <tr>\n      <th>50%</th>\n      <td>31.0</td>\n      <td>1.0</td>\n      <td>19.50000</td>\n      <td>17.000000</td>\n      <td>1.0</td>\n      <td>12.500000</td>\n      <td>33.00000</td>\n    </tr>\n    <tr>\n      <th>75%</th>\n      <td>32.0</td>\n      <td>1.0</td>\n      <td>20.00000</td>\n      <td>19.000000</td>\n      <td>1.0</td>\n      <td>13.000000</td>\n      <td>33.50000</td>\n    </tr>\n    <tr>\n      <th>max</th>\n      <td>32.0</td>\n      <td>1.0</td>\n      <td>22.00000</td>\n      <td>20.000000</td>\n      <td>1.0</td>\n      <td>14.000000</td>\n      <td>34.00000</td>\n    </tr>\n  </tbody>\n</table>\n</div>"
     },
     "execution_count": 19,
     "metadata": {},
     "output_type": "execute_result"
    }
   ],
   "source": [
    "num_grades_df = grades_df.select_dtypes(include='number')\n",
    "\n",
    "num_grades_df.describe()"
   ],
   "metadata": {
    "collapsed": false,
    "ExecuteTime": {
     "end_time": "2023-10-12T06:28:37.583312300Z",
     "start_time": "2023-10-12T06:28:37.430650100Z"
    }
   }
  },
  {
   "cell_type": "code",
   "execution_count": 25,
   "outputs": [
    {
     "data": {
      "text/plain": "Grade\nA     33.125\nA-    33.000\nName: Final, dtype: float64"
     },
     "execution_count": 25,
     "metadata": {},
     "output_type": "execute_result"
    }
   ],
   "source": [
    "grades_df.groupby('Grade')['Final'].mean()"
   ],
   "metadata": {
    "collapsed": false,
    "ExecuteTime": {
     "end_time": "2023-10-12T06:31:05.523011100Z",
     "start_time": "2023-10-12T06:31:05.507390600Z"
    }
   }
  },
  {
   "cell_type": "code",
   "execution_count": null,
   "outputs": [],
   "source": [
    "len(grades_df[grades_df['Grade'] == 'A'])"
   ],
   "metadata": {
    "collapsed": false,
    "ExecuteTime": {
     "start_time": "2023-10-12T06:28:38.049394600Z"
    }
   }
  },
  {
   "cell_type": "code",
   "execution_count": null,
   "outputs": [],
   "source": [
    "grades_df[grades_df['Final'] == grades_df['Final'].max()]['Name']"
   ],
   "metadata": {
    "collapsed": false,
    "ExecuteTime": {
     "start_time": "2023-10-12T06:28:38.051394600Z"
    }
   }
  },
  {
   "cell_type": "code",
   "execution_count": null,
   "outputs": [],
   "source": [],
   "metadata": {
    "collapsed": false,
    "ExecuteTime": {
     "start_time": "2023-10-12T06:28:38.052394200Z"
    }
   }
  }
 ],
 "metadata": {
  "kernelspec": {
   "display_name": "Python 3 (ipykernel)",
   "language": "python",
   "name": "python3"
  },
  "language_info": {
   "codemirror_mode": {
    "name": "ipython",
    "version": 3
   },
   "file_extension": ".py",
   "mimetype": "text/x-python",
   "name": "python",
   "nbconvert_exporter": "python",
   "pygments_lexer": "ipython3",
   "version": "3.9.12"
  }
 },
 "nbformat": 4,
 "nbformat_minor": 2
}
