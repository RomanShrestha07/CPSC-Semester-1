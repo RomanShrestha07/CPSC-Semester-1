{
 "cells": [
  {
   "cell_type": "markdown",
   "source": [
    "# 5_Python_data_structures_II"
   ],
   "metadata": {
    "collapsed": false
   },
   "id": "ae8895869d85bdee"
  },
  {
   "cell_type": "markdown",
   "source": [
    "## Exercise 1"
   ],
   "metadata": {
    "collapsed": false
   },
   "id": "deac36a36c77acc4"
  },
  {
   "cell_type": "markdown",
   "source": [
    "1) What are the different types of data types in the python language?"
   ],
   "metadata": {
    "collapsed": false
   },
   "id": "7acb31f60db7b287"
  },
  {
   "cell_type": "code",
   "execution_count": null,
   "outputs": [],
   "source": [
    "\"\"\"\n",
    "Text Type: str\n",
    "Numeric Types: int, float, complex\n",
    "Sequence Types: list, tuple, range\n",
    "Mapping Type: dict\n",
    "Set Types: set, frozenset\n",
    "Boolean Type: bool\n",
    "Binary Types: bytes, bytearray, memoryview\n",
    "None Type: NoneType\n",
    "\"\"\""
   ],
   "metadata": {
    "collapsed": false
   },
   "id": "98e1bedcb33db02f"
  },
  {
   "cell_type": "markdown",
   "source": [
    "2) Explain when it is appropriate to use each data type"
   ],
   "metadata": {
    "collapsed": false
   },
   "id": "da56c168cd1b3379"
  },
  {
   "cell_type": "code",
   "execution_count": null,
   "outputs": [],
   "source": [],
   "metadata": {
    "collapsed": false
   },
   "id": "e705edb2a66a0a9b"
  },
  {
   "cell_type": "markdown",
   "source": [
    "3) What is the difference between mutable vs immutable data type?"
   ],
   "metadata": {
    "collapsed": false
   },
   "id": "d4401c380840463a"
  },
  {
   "cell_type": "code",
   "execution_count": null,
   "outputs": [],
   "source": [
    "\"\"\" \n",
    "Mutability refers to data types that can be accessed and changed after they've been created and stored in memory. \n",
    "Immutability, on the other hand, refers to data types that you can't change after creating them – but that you can still access in the memory. \n",
    "\"\"\""
   ],
   "metadata": {
    "collapsed": false
   },
   "id": "50516facaa0ee802"
  },
  {
   "cell_type": "markdown",
   "source": [
    "4) What are the examples of immutable data types in python?"
   ],
   "metadata": {
    "collapsed": false
   },
   "id": "243cc5ac52e84b39"
  },
  {
   "cell_type": "code",
   "execution_count": null,
   "outputs": [],
   "source": [
    "# int, float, bool, string, Unicode, and tuple"
   ],
   "metadata": {
    "collapsed": false
   },
   "id": "14e828ec750cb318"
  },
  {
   "cell_type": "markdown",
   "source": [
    "## Exercise 2"
   ],
   "metadata": {
    "collapsed": false
   },
   "id": "6ad7aec34deba803"
  },
  {
   "cell_type": "code",
   "execution_count": 2,
   "outputs": [],
   "source": [
    "inventory = {'gold': 500, 'pouch': ['flint', 'twine', 'gemstone'], 'backpack': ['phone', 'dagger', 'bedroll', 'bread']}"
   ],
   "metadata": {
    "collapsed": false,
    "ExecuteTime": {
     "end_time": "2023-09-26T00:59:04.666214100Z",
     "start_time": "2023-09-26T00:59:04.664220200Z"
    }
   },
   "id": "67085ba3c2cdf683"
  },
  {
   "cell_type": "markdown",
   "source": [
    "Try to do the followings:\n",
    "- Make a dictionary per above structure\n",
    "- Add a key to inventory called ‘pocket’.\n",
    "- Set the value of ‘pocket’ to be a list consisting of the strings ‘seashell’, ‘strange berry’, and ‘lint’.\n",
    "- Add 50 to the number stored under the 'gold' key."
   ],
   "metadata": {
    "collapsed": false
   },
   "id": "43ae518fb8a16932"
  },
  {
   "cell_type": "code",
   "execution_count": 3,
   "outputs": [
    {
     "data": {
      "text/plain": "{'gold': 550,\n 'pouch': ['flint', 'twine', 'gemstone'],\n 'backpack': ['phone', 'dagger', 'bedroll', 'bread'],\n 'pocket': ['seashell', 'strange berry', 'lint']}"
     },
     "execution_count": 3,
     "metadata": {},
     "output_type": "execute_result"
    }
   ],
   "source": [
    "inventory['pocket'] = ['seashell', 'strange berry', 'lint']\n",
    "\n",
    "inventory['gold'] = inventory['gold'] + 50\n",
    "\n",
    "inventory"
   ],
   "metadata": {
    "collapsed": false,
    "ExecuteTime": {
     "end_time": "2023-09-26T01:01:17.395254300Z",
     "start_time": "2023-09-26T01:01:17.377236100Z"
    }
   },
   "id": "a62ab4623f83a4ea"
  },
  {
   "cell_type": "markdown",
   "source": [
    "## Exercise 3"
   ],
   "metadata": {
    "collapsed": false
   },
   "id": "9d528269fc4ef595"
  },
  {
   "cell_type": "markdown",
   "source": [
    "1 - Use a range of indexes to print the third, fourth, and fifth item in the tuple."
   ],
   "metadata": {
    "collapsed": false
   },
   "id": "1a56337562a6a6f9"
  },
  {
   "cell_type": "code",
   "execution_count": 6,
   "outputs": [
    {
     "data": {
      "text/plain": "('cherry', 'orange', 'kiwi')"
     },
     "execution_count": 6,
     "metadata": {},
     "output_type": "execute_result"
    }
   ],
   "source": [
    "fruits = (\"apple\", \"banana\", \"cherry\", \"orange\", \"kiwi\", \"melon\", \"mango\")\n",
    "\n",
    "fruits[2:5]"
   ],
   "metadata": {
    "collapsed": false,
    "ExecuteTime": {
     "end_time": "2023-09-26T01:03:37.570449Z",
     "start_time": "2023-09-26T01:03:37.556896200Z"
    }
   },
   "id": "4b6396a94775dd37"
  },
  {
   "cell_type": "markdown",
   "source": [
    "2 - Change the \"year\" value from 1964 to 2020."
   ],
   "metadata": {
    "collapsed": false
   },
   "id": "88ee6ef2fbf2bbe0"
  },
  {
   "cell_type": "code",
   "execution_count": 8,
   "outputs": [
    {
     "data": {
      "text/plain": "{'brand': 'Ford', 'model': 'Mustang', 'year': 2020}"
     },
     "execution_count": 8,
     "metadata": {},
     "output_type": "execute_result"
    }
   ],
   "source": [
    "car = {\"brand\": \"Ford\", \"model\": \"Mustang\", \"year\": 1964}\n",
    "\n",
    "car[\"year\"] = 2020\n",
    "\n",
    "car"
   ],
   "metadata": {
    "collapsed": false,
    "ExecuteTime": {
     "end_time": "2023-09-26T01:04:35.396843800Z",
     "start_time": "2023-09-26T01:04:35.382418200Z"
    }
   },
   "id": "3a64aacdb6650e78"
  },
  {
   "cell_type": "markdown",
   "source": [
    "3 - Add the key/value pair \"color\" : \"red\" to the car dictionary."
   ],
   "metadata": {
    "collapsed": false
   },
   "id": "27e2d2d4b50a96c6"
  },
  {
   "cell_type": "code",
   "execution_count": 9,
   "outputs": [
    {
     "data": {
      "text/plain": "{'brand': 'Ford', 'model': 'Mustang', 'year': 2020, 'color': 'red'}"
     },
     "execution_count": 9,
     "metadata": {},
     "output_type": "execute_result"
    }
   ],
   "source": [
    "car[\"color\"] = \"red\"\n",
    "\n",
    "car"
   ],
   "metadata": {
    "collapsed": false,
    "ExecuteTime": {
     "end_time": "2023-09-26T01:05:01.953846300Z",
     "start_time": "2023-09-26T01:05:01.940497Z"
    }
   },
   "id": "ac6b0da4a3e40a01"
  },
  {
   "cell_type": "markdown",
   "source": [
    "4 - Use the add method to add \"orange\" to the fruits set."
   ],
   "metadata": {
    "collapsed": false
   },
   "id": "e39a5c53eaa8435c"
  },
  {
   "cell_type": "code",
   "execution_count": 10,
   "outputs": [
    {
     "data": {
      "text/plain": "{'apple', 'banana', 'cherry', 'orange'}"
     },
     "execution_count": 10,
     "metadata": {},
     "output_type": "execute_result"
    }
   ],
   "source": [
    "new_fruits = {\"apple\", \"banana\", \"cherry\"}\n",
    "\n",
    "new_fruits.add(\"orange\")\n",
    "\n",
    "new_fruits"
   ],
   "metadata": {
    "collapsed": false,
    "ExecuteTime": {
     "end_time": "2023-09-26T01:06:13.427745100Z",
     "start_time": "2023-09-26T01:06:13.410232100Z"
    }
   },
   "id": "8b65bfacdd403f40"
  },
  {
   "cell_type": "code",
   "execution_count": null,
   "outputs": [],
   "source": [],
   "metadata": {
    "collapsed": false
   },
   "id": "80c46d0b55f84288"
  }
 ],
 "metadata": {
  "kernelspec": {
   "display_name": "Python 3",
   "language": "python",
   "name": "python3"
  },
  "language_info": {
   "codemirror_mode": {
    "name": "ipython",
    "version": 2
   },
   "file_extension": ".py",
   "mimetype": "text/x-python",
   "name": "python",
   "nbconvert_exporter": "python",
   "pygments_lexer": "ipython2",
   "version": "2.7.6"
  }
 },
 "nbformat": 4,
 "nbformat_minor": 5
}
