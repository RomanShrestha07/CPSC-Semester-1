{
 "cells": [
  {
   "cell_type": "markdown",
   "metadata": {},
   "source": [
    "<h1 align=center><font size = 5>Lab03</font></h1>\n",
    "<h1 align=center><font size = 4>Python Basics </font></h1>\n"
   ]
  },
  {
   "cell_type": "markdown",
   "metadata": {},
   "source": [
    "### Exercise 1"
   ]
  },
  {
   "cell_type": "markdown",
   "metadata": {},
   "source": [
    "Try printing this sentence in python with single quote. hint: (Use \\ in your code)\n",
    "\n",
    "Pluto's a planet!"
   ]
  },
  {
   "cell_type": "markdown",
   "metadata": {},
   "source": [
    "### Exercise 2"
   ]
  },
  {
   "cell_type": "markdown",
   "metadata": {},
   "source": [
    "What are the lengths of the strings below?\n",
    "\n",
    "For each of the five strings below, predict what `len()` would return when passed that string. Use the variable `length` to record your answer, then run the cell to check whether you were right.  "
   ]
  },
  {
   "cell_type": "code",
   "execution_count": 7,
   "metadata": {
    "ExecuteTime": {
     "end_time": "2023-09-21T00:13:49.821430300Z",
     "start_time": "2023-09-21T00:13:49.768556300Z"
    }
   },
   "outputs": [],
   "source": [
    "a = \"\"  # 0\n",
    "len(a)"
   ]
  },
  {
   "cell_type": "code",
   "execution_count": 8,
   "metadata": {
    "ExecuteTime": {
     "end_time": "2023-09-21T00:13:50.833489900Z",
     "start_time": "2023-09-21T00:13:50.791459300Z"
    }
   },
   "outputs": [],
   "source": [
    "b = \"it's ok\"  # 7\n",
    "len(b)"
   ]
  },
  {
   "cell_type": "code",
   "execution_count": 9,
   "metadata": {
    "ExecuteTime": {
     "end_time": "2023-09-21T00:13:51.329347700Z",
     "start_time": "2023-09-21T00:13:51.283308800Z"
    }
   },
   "outputs": [],
   "source": [
    "c = 'it\\'s ok'  # 7\n",
    "len(c)"
   ]
  },
  {
   "cell_type": "code",
   "execution_count": 10,
   "metadata": {
    "ExecuteTime": {
     "end_time": "2023-09-21T00:13:51.856839200Z",
     "start_time": "2023-09-21T00:13:51.814386800Z"
    }
   },
   "outputs": [],
   "source": [
    "d = \"\"\"hey\"\"\"  # 3\n",
    "len(d)"
   ]
  },
  {
   "cell_type": "code",
   "execution_count": 11,
   "metadata": {
    "ExecuteTime": {
     "end_time": "2023-09-21T00:13:52.387002700Z",
     "start_time": "2023-09-21T00:13:52.349731600Z"
    }
   },
   "outputs": [],
   "source": [
    "e = '\\n'  # 1\n",
    "len(e)"
   ]
  },
  {
   "cell_type": "markdown",
   "metadata": {},
   "source": [
    "### Exercise 3"
   ]
  },
  {
   "cell_type": "markdown",
   "metadata": {},
   "source": [
    "Explore the operators + and * with int, str and list types."
   ]
  },
  {
   "cell_type": "markdown",
   "metadata": {},
   "source": [
    "```\n",
    "5 + 5\n",
    "5 + \"5\"\n",
    "[5] + [\"5\"]\n",
    "[5] + 1\n",
    "\"5\" * \"5\"\n",
    "\"5\" * 5\n",
    "5 * 5\n",
    "5 * [5]\n",
    "```"
   ]
  },
  {
   "cell_type": "code",
   "execution_count": 15,
   "outputs": [
    {
     "name": "stdout",
     "output_type": "stream",
     "text": [
      "10\n",
      "[5, '5']\n",
      "55555\n",
      "25\n",
      "[5, 5, 5, 5, 5]\n"
     ]
    }
   ],
   "source": [
    "print(5 + 5)\n",
    "# print(5 + \"5\") -> Error\n",
    "print([5] + [\"5\"])\n",
    "# print([5] + 1) -> Error\n",
    "# print(\"5\" * \"5\") -> Error\n",
    "print(\"5\" * 5)\n",
    "print(5 * 5)\n",
    "print(5 * [5])"
   ],
   "metadata": {
    "collapsed": false,
    "ExecuteTime": {
     "end_time": "2023-09-21T00:17:32.824560700Z",
     "start_time": "2023-09-21T00:17:32.775889400Z"
    }
   }
  },
  {
   "cell_type": "markdown",
   "metadata": {},
   "source": [
    "### Exercise 4"
   ]
  },
  {
   "cell_type": "markdown",
   "metadata": {},
   "source": [
    "For the following string:\n",
    "```\n",
    "s = \"abcdef\"\n",
    "```\n",
    "\n",
    "- get the first 3 elements\n",
    "- get elements 1,2,3 (but not 4)\n",
    "-  get elements 2 and onwards\n",
    "- get the last elements\n",
    "- get elements from the second-last onward\n",
    "- get the second to second-last elements\n"
   ]
  },
  {
   "cell_type": "code",
   "execution_count": 26,
   "outputs": [
    {
     "name": "stdout",
     "output_type": "stream",
     "text": [
      "first 3 elements: abc\n",
      "1,2,3,but not 4: bcd\n",
      "elements 2 and onward: bcdef\n",
      "last element: f\n",
      "elements from second-last onward: abcde\n",
      "second to second-last elements: bcde\n"
     ]
    }
   ],
   "source": [
    "s = \"abcdef\"\n",
    "\n",
    "print('first 3 elements:', s[:3])\n",
    "print('1,2,3,but not 4:', s[1:4])\n",
    "print(\"elements 2 and onward:\", s[1:])\n",
    "print(\"last element:\", s[-1])\n",
    "print(\"elements from second-last onward:\", s[:-1])\n",
    "print(\"second to second-last elements:\", s[1:-1])"
   ],
   "metadata": {
    "collapsed": false,
    "ExecuteTime": {
     "end_time": "2023-09-21T00:28:47.234342700Z",
     "start_time": "2023-09-21T00:28:47.189131600Z"
    }
   }
  },
  {
   "cell_type": "markdown",
   "metadata": {},
   "source": [
    "### Exercise 5"
   ]
  },
  {
   "cell_type": "markdown",
   "metadata": {},
   "source": [
    "What are the lengths of the following lists? Fill in the variable `lengths` with your predictions. (Try to make a prediction for each list *without* just calling `len()` on it.)"
   ]
  },
  {
   "cell_type": "code",
   "execution_count": 35,
   "metadata": {
    "ExecuteTime": {
     "end_time": "2023-09-21T00:31:48.872560200Z",
     "start_time": "2023-09-21T00:31:48.835372600Z"
    }
   },
   "outputs": [],
   "source": [
    "a1 = [1, 2, 3]\n",
    "b1 = [1, [2, 3]]\n",
    "c1 = []\n",
    "d1 = [1, 2, 3][1:]"
   ]
  },
  {
   "cell_type": "code",
   "execution_count": 38,
   "metadata": {
    "ExecuteTime": {
     "end_time": "2023-09-21T00:32:08.564330Z",
     "start_time": "2023-09-21T00:32:08.515770400Z"
    }
   },
   "outputs": [
    {
     "name": "stdout",
     "output_type": "stream",
     "text": [
      "3\n",
      "2\n",
      "0\n",
      "2\n"
     ]
    }
   ],
   "source": [
    "print(len(a1))\n",
    "print(len(b1))\n",
    "print(len(c1))\n",
    "print(len(d1))"
   ]
  },
  {
   "cell_type": "markdown",
   "metadata": {},
   "source": [
    "### Exercise 6"
   ]
  },
  {
   "cell_type": "markdown",
   "metadata": {},
   "source": [
    "Create variable called \"name\" that stores your full name. Find whether your name has an even or odd number of letters."
   ]
  },
  {
   "cell_type": "code",
   "execution_count": 44,
   "outputs": [
    {
     "name": "stdout",
     "output_type": "stream",
     "text": [
      "My name is: Odd\n"
     ]
    }
   ],
   "source": [
    "my_name = \"RomanShrestha\"\n",
    "\n",
    "\n",
    "def find_odd_even(name):\n",
    "    name_len = len(name)\n",
    "\n",
    "    if name_len % 2:\n",
    "        return \"Odd\"\n",
    "    return \"Even\"\n",
    "\n",
    "\n",
    "print(\"My name is:\", find_odd_even(my_name))"
   ],
   "metadata": {
    "collapsed": false,
    "ExecuteTime": {
     "end_time": "2023-09-21T00:38:01.493279300Z",
     "start_time": "2023-09-21T00:38:01.437225100Z"
    }
   }
  },
  {
   "cell_type": "markdown",
   "metadata": {},
   "source": [
    "### Exercise 7"
   ]
  },
  {
   "cell_type": "markdown",
   "metadata": {},
   "source": [
    "Correct the following variable so it is equal to \"spammy\""
   ]
  },
  {
   "cell_type": "code",
   "execution_count": 77,
   "metadata": {
    "ExecuteTime": {
     "end_time": "2023-09-21T00:53:42.187640500Z",
     "start_time": "2023-09-21T00:53:42.128217100Z"
    }
   },
   "outputs": [
    {
     "data": {
      "text/plain": "'spammy'"
     },
     "execution_count": 77,
     "metadata": {},
     "output_type": "execute_result"
    }
   ],
   "source": [
    "s = \"spaxxy\"\n",
    "\n",
    "new_s = s.replace(\"x\", \"m\")\n",
    "new_s"
   ]
  },
  {
   "cell_type": "markdown",
   "metadata": {},
   "source": [
    "### Exercise 8"
   ]
  },
  {
   "cell_type": "markdown",
   "metadata": {},
   "source": [
    "Figure out a way to slice and combine the strings s1, s2, and s3 so that the variable consec_ints = \"123456789\"."
   ]
  },
  {
   "cell_type": "code",
   "execution_count": 52,
   "metadata": {
    "ExecuteTime": {
     "end_time": "2023-09-21T00:41:09.969366800Z",
     "start_time": "2023-09-21T00:41:09.921282700Z"
    }
   },
   "outputs": [
    {
     "data": {
      "text/plain": "'123456789'"
     },
     "execution_count": 52,
     "metadata": {},
     "output_type": "execute_result"
    }
   ],
   "source": [
    "s1 = \"12345\"\n",
    "s2 = \"34567\"\n",
    "s3 = \"789\"\n",
    "\n",
    "s4 = s1 + s2[-2:] + s3[1:]\n",
    "s4"
   ]
  },
  {
   "cell_type": "markdown",
   "metadata": {},
   "source": [
    "### Exercise 9"
   ]
  },
  {
   "cell_type": "markdown",
   "metadata": {},
   "source": [
    "Slice and combine the elements of the list L in a way to print out \"spam\"."
   ]
  },
  {
   "cell_type": "code",
   "execution_count": 54,
   "metadata": {
    "ExecuteTime": {
     "end_time": "2023-09-21T00:46:12.358241400Z",
     "start_time": "2023-09-21T00:46:12.304333400Z"
    }
   },
   "outputs": [
    {
     "data": {
      "text/plain": "'spam'"
     },
     "execution_count": 54,
     "metadata": {},
     "output_type": "execute_result"
    }
   ],
   "source": [
    "L = [1, \"s\", 2, 3, \"p\", \"a\", 34, 1, \"m\"]\n",
    "\n",
    "new_list = L[1] + L[4] + L[5] + L[-1]\n",
    "new_list"
   ]
  },
  {
   "cell_type": "markdown",
   "metadata": {},
   "source": [
    "### Exercise 10"
   ]
  },
  {
   "cell_type": "markdown",
   "metadata": {},
   "source": [
    "Create a variable called num_L which store the number represented by the list of strings in L.  For the example num_L should be 145. You may assume 3 digit numbers."
   ]
  },
  {
   "cell_type": "code",
   "execution_count": 75,
   "metadata": {
    "ExecuteTime": {
     "end_time": "2023-09-21T00:53:35.742864100Z",
     "start_time": "2023-09-21T00:53:35.689990Z"
    }
   },
   "outputs": [],
   "source": [
    "L = [\"1\", \"4\", \"5\"]"
   ]
  },
  {
   "cell_type": "code",
   "execution_count": 81,
   "metadata": {
    "ExecuteTime": {
     "end_time": "2023-09-21T01:02:36.597623900Z",
     "start_time": "2023-09-21T01:02:36.531975200Z"
    }
   },
   "outputs": [
    {
     "name": "stdout",
     "output_type": "stream",
     "text": [
      "145\n",
      "123\n"
     ]
    }
   ],
   "source": [
    "nL = \"\".join(L)\n",
    "print(int(nL))\n",
    "\n",
    "num_L = [1, 2, 3]\n",
    "sL = [str(i) for i in num_L]\n",
    "res = int(\"\".join(sL))\n",
    "print(res)"
   ]
  },
  {
   "cell_type": "markdown",
   "metadata": {},
   "source": [
    "### Exercise 11"
   ]
  },
  {
   "cell_type": "markdown",
   "metadata": {},
   "source": [
    "Add item 7000 after 6000 in the following Python List"
   ]
  },
  {
   "cell_type": "code",
   "execution_count": 66,
   "metadata": {
    "ExecuteTime": {
     "end_time": "2023-09-21T00:52:31.740312400Z",
     "start_time": "2023-09-21T00:52:31.692403900Z"
    }
   },
   "outputs": [],
   "source": [
    "list1 = [10, 20, [300, 400, [5000, 6000], 500], 30, 40]"
   ]
  },
  {
   "cell_type": "code",
   "execution_count": 67,
   "metadata": {
    "ExecuteTime": {
     "end_time": "2023-09-21T00:52:32.231289100Z",
     "start_time": "2023-09-21T00:52:32.166603700Z"
    }
   },
   "outputs": [
    {
     "data": {
      "text/plain": "[10, 20, [300, 400, [5000, 6000, 7000], 500], 30, 40]"
     },
     "execution_count": 67,
     "metadata": {},
     "output_type": "execute_result"
    }
   ],
   "source": [
    "list1[2][2].append(7000)  # list1[2][2].extend([7000])\n",
    "list1"
   ]
  },
  {
   "cell_type": "markdown",
   "metadata": {},
   "source": [
    "### Exercise 12"
   ]
  },
  {
   "cell_type": "markdown",
   "metadata": {},
   "source": [
    "#### Use a stride value of 2 to print out every second character  of the string \"E\": \n",
    "```\n",
    "E = 'clocrkr1e1c1t'\n",
    "```"
   ]
  },
  {
   "cell_type": "code",
   "execution_count": 69,
   "metadata": {
    "ExecuteTime": {
     "end_time": "2023-09-21T00:52:45.302744700Z",
     "start_time": "2023-09-21T00:52:45.258620500Z"
    }
   },
   "outputs": [],
   "source": [
    "E = 'clocrkr1e1c1t'"
   ]
  },
  {
   "cell_type": "code",
   "execution_count": 70,
   "metadata": {
    "ExecuteTime": {
     "end_time": "2023-09-21T00:52:45.608481Z",
     "start_time": "2023-09-21T00:52:45.565650700Z"
    }
   },
   "outputs": [
    {
     "data": {
      "text/plain": "'correct'"
     },
     "execution_count": 70,
     "metadata": {},
     "output_type": "execute_result"
    }
   ],
   "source": [
    "E[::2]"
   ]
  },
  {
   "cell_type": "code",
   "execution_count": null,
   "outputs": [],
   "source": [],
   "metadata": {
    "collapsed": false
   }
  }
 ],
 "metadata": {
  "kernelspec": {
   "display_name": "Python 3",
   "language": "python",
   "name": "python3"
  },
  "language_info": {
   "codemirror_mode": {
    "name": "ipython",
    "version": 3
   },
   "file_extension": ".py",
   "mimetype": "text/x-python",
   "name": "python",
   "nbconvert_exporter": "python",
   "pygments_lexer": "ipython3",
   "version": "3.8.5"
  }
 },
 "nbformat": 4,
 "nbformat_minor": 2
}
