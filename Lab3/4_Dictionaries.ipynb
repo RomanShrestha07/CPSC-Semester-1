{
 "cells": [
  {
   "cell_type": "markdown",
   "metadata": {},
   "source": [
    " <h1 align=center><font size = 5>Dictionaries</font></h1>"
   ]
  },
  {
   "cell_type": "markdown",
   "metadata": {},
   "source": [
    "\n",
    "## Table of Contents\n",
    "\n",
    "\n",
    "<div class=\"alert alert-block alert-info\" style=\"margin-top: 20px\">\n",
    "\n",
    "<li><a href=\"#ref2\">Dictionaries</a></li>\n"
   ]
  },
  {
   "cell_type": "markdown",
   "metadata": {},
   "source": [
    "<a id=\"ref2\"></a>\n",
    "<h2 align=center> Dictionaries  in Python  </h2>\n"
   ]
  },
  {
   "cell_type": "markdown",
   "metadata": {},
   "source": [
    "A dictionary consists of keys and values. It is helpful to compare a dictionary to a list. Instead of the numerical indexes such as a list, dictionaries have keys. These keys are labels that are used to access values within a dictionary."
   ]
  },
  {
   "cell_type": "markdown",
   "metadata": {},
   "source": [
    "In summary, like a list, a dictionary holds a sequence of elements. Each element is represented by a key and its corresponding value. Dictionaries are created with two curly braces containing keys and values separated by a colon. For every key, there can only be a single value, however,  multiple keys can hold the same value. Keys can only be strings, numbers, or tuples, but values can be any data type."
   ]
  },
  {
   "cell_type": "markdown",
   "metadata": {},
   "source": [
    "<a ><img src = \"https://ibm.box.com/shared/static/6tyznuwydogmtuv73o8l5g7xsb8o92h2.png\" width = 650, align = \"center\"></a>\n",
    "  <h4 align=center>  A  Comparison of a Dictionary to a list: Instead of the numerical indexes like a list, dictionaries have keys.\n",
    "  </h4> \n"
   ]
  },
  {
   "cell_type": "markdown",
   "metadata": {},
   "source": [
    " An example of a  Dictionary **Dict**:"
   ]
  },
  {
   "cell_type": "code",
   "execution_count": 60,
   "metadata": {
    "ExecuteTime": {
     "end_time": "2023-09-26T00:05:25.784422400Z",
     "start_time": "2023-09-26T00:05:25.511182Z"
    }
   },
   "outputs": [],
   "source": [
    "my_dict = {}"
   ]
  },
  {
   "cell_type": "code",
   "execution_count": 61,
   "metadata": {
    "ExecuteTime": {
     "end_time": "2023-09-26T00:05:25.810428700Z",
     "start_time": "2023-09-26T00:05:25.513177600Z"
    }
   },
   "outputs": [],
   "source": [
    "my_dict = dict()"
   ]
  },
  {
   "cell_type": "code",
   "execution_count": 62,
   "metadata": {
    "ExecuteTime": {
     "end_time": "2023-09-26T00:05:25.811428500Z",
     "start_time": "2023-09-26T00:05:25.522940800Z"
    }
   },
   "outputs": [
    {
     "data": {
      "text/plain": "{}"
     },
     "execution_count": 62,
     "metadata": {},
     "output_type": "execute_result"
    }
   ],
   "source": [
    "my_dict"
   ]
  },
  {
   "cell_type": "code",
   "execution_count": 63,
   "metadata": {
    "ExecuteTime": {
     "end_time": "2023-09-26T00:05:26.006420300Z",
     "start_time": "2023-09-26T00:05:25.526202800Z"
    }
   },
   "outputs": [
    {
     "data": {
      "text/plain": "{'key1': 1,\n 'key2': '2',\n 'key3': [3, 3, 3],\n 'key4': (4, 4, 4),\n 'key5': 5,\n (0, 1): 6}"
     },
     "execution_count": 63,
     "metadata": {},
     "output_type": "execute_result"
    }
   ],
   "source": [
    "Dict = {\"key1\": 1, \"key2\": \"2\", \"key3\": [3, 3, 3], \"key4\": (4, 4, 4), ('key5'): 5, (0, 1): 6}\n",
    "Dict"
   ]
  },
  {
   "cell_type": "markdown",
   "metadata": {},
   "source": [
    " The keys can be strings:"
   ]
  },
  {
   "cell_type": "code",
   "execution_count": 64,
   "metadata": {
    "ExecuteTime": {
     "end_time": "2023-09-26T00:05:26.006420300Z",
     "start_time": "2023-09-26T00:05:25.531685900Z"
    }
   },
   "outputs": [
    {
     "data": {
      "text/plain": "1"
     },
     "execution_count": 64,
     "metadata": {},
     "output_type": "execute_result"
    }
   ],
   "source": [
    "Dict[\"key1\"]"
   ]
  },
  {
   "cell_type": "markdown",
   "metadata": {},
   "source": [
    " Keys can also be any immutable object such as a tuple: "
   ]
  },
  {
   "cell_type": "code",
   "execution_count": 65,
   "metadata": {
    "ExecuteTime": {
     "end_time": "2023-09-26T00:05:26.006420300Z",
     "start_time": "2023-09-26T00:05:25.534799600Z"
    }
   },
   "outputs": [
    {
     "data": {
      "text/plain": "6"
     },
     "execution_count": 65,
     "metadata": {},
     "output_type": "execute_result"
    }
   ],
   "source": [
    "Dict[(0, 1)]"
   ]
  },
  {
   "cell_type": "code",
   "execution_count": 66,
   "metadata": {
    "ExecuteTime": {
     "end_time": "2023-09-26T00:05:26.079437300Z",
     "start_time": "2023-09-26T00:05:25.539305100Z"
    }
   },
   "outputs": [
    {
     "data": {
      "text/plain": "{'brand': 'Ford', 'model': 'Mustang', 'year': 2023}"
     },
     "execution_count": 66,
     "metadata": {},
     "output_type": "execute_result"
    }
   ],
   "source": [
    "thisdict = {\"brand\": \"Ford\", \"model\": \"Mustang\", \"year\": 2022, \"year\": 2023}\n",
    "thisdict"
   ]
  },
  {
   "cell_type": "markdown",
   "metadata": {},
   "source": [
    " Each key is separated from its value by a colon \"**:**\".  Commas separate the items, and the whole dictionary is enclosed in curly braces. An empty dictionary without any items is written with just two curly braces, like this  \"**{}**\"."
   ]
  },
  {
   "cell_type": "code",
   "execution_count": 67,
   "metadata": {
    "ExecuteTime": {
     "end_time": "2023-09-26T00:05:26.082437900Z",
     "start_time": "2023-09-26T00:05:25.545717700Z"
    }
   },
   "outputs": [],
   "source": [
    "empty_dictionary = {}"
   ]
  },
  {
   "cell_type": "code",
   "execution_count": 68,
   "metadata": {
    "ExecuteTime": {
     "end_time": "2023-09-26T00:05:26.082437900Z",
     "start_time": "2023-09-26T00:05:25.547222100Z"
    }
   },
   "outputs": [],
   "source": [
    "empty_dictionary2 = dict()"
   ]
  },
  {
   "cell_type": "code",
   "execution_count": 69,
   "metadata": {
    "ExecuteTime": {
     "end_time": "2023-09-26T00:05:26.082437900Z",
     "start_time": "2023-09-26T00:05:25.550441300Z"
    }
   },
   "outputs": [
    {
     "data": {
      "text/plain": "{'Thriller': '1982',\n 'Back in Black': '1980',\n 'The Dark Side of the Moon': '1973',\n 'The Bodyguard': '1992',\n 'Bat Out of Hell': '1977',\n 'Their Greatest Hits (1971-1975)': '1976',\n 'Saturday Night Fever': '1977',\n 'Rumours': '1977'}"
     },
     "execution_count": 69,
     "metadata": {},
     "output_type": "execute_result"
    }
   ],
   "source": [
    "release_year_dict = {\"Thriller\": \"1982\", \"Back in Black\": \"1980\", \\\n",
    "                     \"The Dark Side of the Moon\": \"1973\", \"The Bodyguard\": \"1992\", \\\n",
    "                     \"Bat Out of Hell\": \"1977\", \"Their Greatest Hits (1971-1975)\": \"1976\", \\\n",
    "                     \"Saturday Night Fever\": \"1977\", \"Rumours\": \"1977\"}\n",
    "release_year_dict"
   ]
  },
  {
   "cell_type": "markdown",
   "metadata": {},
   "source": [
    "It is helpful to visualize the dictionary as a table, as in figure 9. The first column represents the keys, the second column represents the values.\n"
   ]
  },
  {
   "cell_type": "markdown",
   "metadata": {},
   "source": [
    " <a ><img src = \"https://ibm.box.com/shared/static/i45fppou18c3t0fuf2ikks48tod7chbl.png\" width = 650, align = \"center\"></a>\n",
    "  <h4 align=center> Figure 9: Table representing a Dictionary  \n",
    "\n",
    "  </h4> \n"
   ]
  },
  {
   "cell_type": "markdown",
   "metadata": {},
   "source": [
    "You will need this dictionary for the next two questions :"
   ]
  },
  {
   "cell_type": "code",
   "execution_count": 70,
   "metadata": {
    "ExecuteTime": {
     "end_time": "2023-09-26T00:05:26.083437800Z",
     "start_time": "2023-09-26T00:05:25.555824200Z"
    }
   },
   "outputs": [
    {
     "data": {
      "text/plain": "{'The Bodyguard': '1992', 'Saturday Night Fever': '1977'}"
     },
     "execution_count": 70,
     "metadata": {},
     "output_type": "execute_result"
    }
   ],
   "source": [
    "soundtrack_dic = {\"The Bodyguard\": \"1992\", \"Saturday Night Fever\": \"1977\"}\n",
    "soundtrack_dic"
   ]
  },
  {
   "cell_type": "code",
   "execution_count": 71,
   "metadata": {
    "ExecuteTime": {
     "end_time": "2023-09-26T00:05:26.083437800Z",
     "start_time": "2023-09-26T00:05:25.560825700Z"
    }
   },
   "outputs": [
    {
     "data": {
      "text/plain": "dict_items([('The Bodyguard', '1992'), ('Saturday Night Fever', '1977')])"
     },
     "execution_count": 71,
     "metadata": {},
     "output_type": "execute_result"
    }
   ],
   "source": [
    "soundtrack_dic.items()"
   ]
  },
  {
   "cell_type": "code",
   "execution_count": 72,
   "metadata": {
    "ExecuteTime": {
     "end_time": "2023-09-26T00:05:26.103442400Z",
     "start_time": "2023-09-26T00:05:25.565081500Z"
    }
   },
   "outputs": [
    {
     "data": {
      "text/plain": "True"
     },
     "execution_count": 72,
     "metadata": {},
     "output_type": "execute_result"
    }
   ],
   "source": [
    "\"1992\" in soundtrack_dic.values()"
   ]
  },
  {
   "cell_type": "code",
   "execution_count": 73,
   "metadata": {
    "ExecuteTime": {
     "end_time": "2023-09-26T00:05:26.114444800Z",
     "start_time": "2023-09-26T00:05:25.568037100Z"
    }
   },
   "outputs": [
    {
     "data": {
      "text/plain": "False"
     },
     "execution_count": 73,
     "metadata": {},
     "output_type": "execute_result"
    }
   ],
   "source": [
    "\"x\" in soundtrack_dic.values()"
   ]
  },
  {
   "cell_type": "code",
   "execution_count": 74,
   "metadata": {
    "ExecuteTime": {
     "end_time": "2023-09-26T00:05:26.114444800Z",
     "start_time": "2023-09-26T00:05:25.573730500Z"
    }
   },
   "outputs": [
    {
     "data": {
      "text/plain": "True"
     },
     "execution_count": 74,
     "metadata": {},
     "output_type": "execute_result"
    }
   ],
   "source": [
    "\"1977\" in soundtrack_dic.values()"
   ]
  },
  {
   "cell_type": "code",
   "execution_count": 75,
   "metadata": {
    "ExecuteTime": {
     "end_time": "2023-09-26T00:05:26.120446600Z",
     "start_time": "2023-09-26T00:05:25.576789800Z"
    }
   },
   "outputs": [
    {
     "data": {
      "text/plain": "False"
     },
     "execution_count": 75,
     "metadata": {},
     "output_type": "execute_result"
    }
   ],
   "source": [
    "\"1987\" in soundtrack_dic.values()"
   ]
  },
  {
   "cell_type": "code",
   "execution_count": 76,
   "metadata": {
    "ExecuteTime": {
     "end_time": "2023-09-26T00:05:26.130448300Z",
     "start_time": "2023-09-26T00:05:25.581710500Z"
    }
   },
   "outputs": [
    {
     "data": {
      "text/plain": "dict_values(['1992', '1977'])"
     },
     "execution_count": 76,
     "metadata": {},
     "output_type": "execute_result"
    }
   ],
   "source": [
    "soundtrack_dic.values()"
   ]
  },
  {
   "cell_type": "code",
   "execution_count": 77,
   "metadata": {
    "ExecuteTime": {
     "end_time": "2023-09-26T00:05:26.131448600Z",
     "start_time": "2023-09-26T00:05:25.585778500Z"
    }
   },
   "outputs": [
    {
     "data": {
      "text/plain": "'1977'"
     },
     "execution_count": 77,
     "metadata": {},
     "output_type": "execute_result"
    }
   ],
   "source": [
    "soundtrack_dic[\"Saturday Night Fever\"]"
   ]
  },
  {
   "cell_type": "markdown",
   "metadata": {},
   "source": [
    "#### In the dictionary \"soundtrack_dict\" what are the keys ?"
   ]
  },
  {
   "cell_type": "markdown",
   "metadata": {},
   "source": [
    "\n",
    "Double-click __here__ for the solution.\n",
    "<!-- Your answer is below:\n",
    "The Keys \"The Bodyguard\" and \"Saturday Night Fever\" \n",
    "-->"
   ]
  },
  {
   "cell_type": "markdown",
   "metadata": {},
   "source": [
    "####  In the dictionary \"soundtrack_dict\" what are the values ?"
   ]
  },
  {
   "cell_type": "markdown",
   "metadata": {},
   "source": [
    "\n",
    "Double-click __here__ for the solution.\n",
    "<!-- Your answer is below:\n",
    "The values are \"1992\" and \"1977\"\n",
    "-->"
   ]
  },
  {
   "cell_type": "markdown",
   "metadata": {},
   "source": [
    "You can retrieve the values based on the names:"
   ]
  },
  {
   "cell_type": "code",
   "execution_count": 78,
   "metadata": {
    "ExecuteTime": {
     "end_time": "2023-09-26T00:05:26.131448600Z",
     "start_time": "2023-09-26T00:05:25.590275100Z"
    }
   },
   "outputs": [
    {
     "data": {
      "text/plain": "{'Thriller': '1982',\n 'Back in Black': '1980',\n 'The Dark Side of the Moon': '1973',\n 'The Bodyguard': '1992',\n 'Bat Out of Hell': '1977',\n 'Their Greatest Hits (1971-1975)': '1976',\n 'Saturday Night Fever': '1977',\n 'Rumours': '1977'}"
     },
     "execution_count": 78,
     "metadata": {},
     "output_type": "execute_result"
    }
   ],
   "source": [
    "release_year_dict"
   ]
  },
  {
   "cell_type": "code",
   "execution_count": 79,
   "metadata": {
    "ExecuteTime": {
     "end_time": "2023-09-26T00:05:26.141451400Z",
     "start_time": "2023-09-26T00:05:25.595925700Z"
    }
   },
   "outputs": [],
   "source": [
    "release_year_dict[\"name\"] = \"Nasim\""
   ]
  },
  {
   "cell_type": "code",
   "execution_count": 80,
   "metadata": {
    "ExecuteTime": {
     "end_time": "2023-09-26T00:05:26.141451400Z",
     "start_time": "2023-09-26T00:05:25.597909700Z"
    }
   },
   "outputs": [
    {
     "data": {
      "text/plain": "{'Thriller': '1982',\n 'Back in Black': '1980',\n 'The Dark Side of the Moon': '1973',\n 'The Bodyguard': '1992',\n 'Bat Out of Hell': '1977',\n 'Their Greatest Hits (1971-1975)': '1976',\n 'Saturday Night Fever': '1977',\n 'Rumours': '1977',\n 'name': 'Nasim'}"
     },
     "execution_count": 80,
     "metadata": {},
     "output_type": "execute_result"
    }
   ],
   "source": [
    "release_year_dict"
   ]
  },
  {
   "cell_type": "code",
   "execution_count": 81,
   "metadata": {
    "ExecuteTime": {
     "end_time": "2023-09-26T00:05:26.158454700Z",
     "start_time": "2023-09-26T00:05:25.601445300Z"
    }
   },
   "outputs": [
    {
     "data": {
      "text/plain": "'1982'"
     },
     "execution_count": 81,
     "metadata": {},
     "output_type": "execute_result"
    }
   ],
   "source": [
    "release_year_dict['Thriller']"
   ]
  },
  {
   "cell_type": "markdown",
   "metadata": {},
   "source": [
    "This corresponds to: \n"
   ]
  },
  {
   "cell_type": "markdown",
   "metadata": {},
   "source": [
    " <a ><img src = \"https://ibm.box.com/shared/static/glbwz23cgjjxqi7rjxn7me5i16gan7h7.png\" width = 500, align = \"center\"></a>\n",
    "  <h4 align=center> \n",
    " Table used to represent accessing the value for \"Thriller\"   \n",
    "\n",
    "  </h4> \n"
   ]
  },
  {
   "cell_type": "markdown",
   "metadata": {},
   "source": [
    "Similarly for The Bodyguard     \n"
   ]
  },
  {
   "cell_type": "code",
   "execution_count": 82,
   "metadata": {
    "ExecuteTime": {
     "end_time": "2023-09-26T00:05:26.176461600Z",
     "start_time": "2023-09-26T00:05:25.606509500Z"
    }
   },
   "outputs": [
    {
     "data": {
      "text/plain": "'1992'"
     },
     "execution_count": 82,
     "metadata": {},
     "output_type": "execute_result"
    }
   ],
   "source": [
    "release_year_dict['The Bodyguard']"
   ]
  },
  {
   "cell_type": "markdown",
   "metadata": {},
   "source": [
    " <a ><img src = \"https://ibm.box.com/shared/static/6t7bu8jusckaskukwq1k0a3im5ltcpsn.png  \" width = 500, align = \"center\"></a>\n",
    "  <h4 align=center> \n",
    "Accessing the value for the \"The Bodyguard\"\n",
    "\n",
    "  </h4> \n",
    "\n",
    "\n"
   ]
  },
  {
   "cell_type": "markdown",
   "metadata": {},
   "source": [
    "Now let us retrieve the keys of the dictionary using the method **keys()**:"
   ]
  },
  {
   "cell_type": "code",
   "execution_count": 83,
   "metadata": {
    "ExecuteTime": {
     "end_time": "2023-09-26T00:05:26.196468200Z",
     "start_time": "2023-09-26T00:05:25.611044900Z"
    }
   },
   "outputs": [
    {
     "data": {
      "text/plain": "['1982', '1980', '1973', '1992', '1977', '1976', '1977', '1977', 'Nasim']"
     },
     "execution_count": 83,
     "metadata": {},
     "output_type": "execute_result"
    }
   ],
   "source": [
    "list(release_year_dict.values())"
   ]
  },
  {
   "cell_type": "code",
   "execution_count": 84,
   "metadata": {
    "ExecuteTime": {
     "end_time": "2023-09-26T00:05:26.217356Z",
     "start_time": "2023-09-26T00:05:25.615098400Z"
    }
   },
   "outputs": [
    {
     "data": {
      "text/plain": "['Thriller',\n 'Back in Black',\n 'The Dark Side of the Moon',\n 'The Bodyguard',\n 'Bat Out of Hell',\n 'Their Greatest Hits (1971-1975)',\n 'Saturday Night Fever',\n 'Rumours',\n 'name']"
     },
     "execution_count": 84,
     "metadata": {},
     "output_type": "execute_result"
    }
   ],
   "source": [
    "list(release_year_dict.keys())"
   ]
  },
  {
   "cell_type": "markdown",
   "metadata": {},
   "source": [
    " You can retrieve the values using the method  **`values()`**:"
   ]
  },
  {
   "cell_type": "code",
   "execution_count": 85,
   "metadata": {
    "ExecuteTime": {
     "end_time": "2023-09-26T00:05:26.282674Z",
     "start_time": "2023-09-26T00:05:25.620440400Z"
    }
   },
   "outputs": [
    {
     "data": {
      "text/plain": "['1982', '1980', '1973', '1992', '1977', '1976', '1977', '1977', 'Nasim']"
     },
     "execution_count": 85,
     "metadata": {},
     "output_type": "execute_result"
    }
   ],
   "source": [
    "list(release_year_dict.values())"
   ]
  },
  {
   "cell_type": "markdown",
   "metadata": {},
   "source": [
    "We can add an entry:"
   ]
  },
  {
   "cell_type": "code",
   "execution_count": 86,
   "metadata": {
    "ExecuteTime": {
     "end_time": "2023-09-26T00:05:26.313681400Z",
     "start_time": "2023-09-26T00:05:25.626726800Z"
    }
   },
   "outputs": [
    {
     "data": {
      "text/plain": "{'Thriller': '1982',\n 'Back in Black': '1980',\n 'The Dark Side of the Moon': '1973',\n 'The Bodyguard': '1992',\n 'Bat Out of Hell': '1977',\n 'Their Greatest Hits (1971-1975)': '1976',\n 'Saturday Night Fever': '1977',\n 'Rumours': '1977',\n 'name': 'Nasim',\n 'Graduation': '2007'}"
     },
     "execution_count": 86,
     "metadata": {},
     "output_type": "execute_result"
    }
   ],
   "source": [
    "release_year_dict['Graduation'] = '2007'\n",
    "release_year_dict"
   ]
  },
  {
   "cell_type": "code",
   "execution_count": 87,
   "metadata": {
    "ExecuteTime": {
     "end_time": "2023-09-26T00:05:26.313681400Z",
     "start_time": "2023-09-26T00:05:25.629517600Z"
    }
   },
   "outputs": [],
   "source": [
    "release_year_dict[\"sample_key\"] = \"sample_value\""
   ]
  },
  {
   "cell_type": "code",
   "execution_count": 88,
   "metadata": {
    "ExecuteTime": {
     "end_time": "2023-09-26T00:05:26.313681400Z",
     "start_time": "2023-09-26T00:05:25.633247700Z"
    }
   },
   "outputs": [
    {
     "data": {
      "text/plain": "{'Thriller': '1982',\n 'Back in Black': '1980',\n 'The Dark Side of the Moon': '1973',\n 'The Bodyguard': '1992',\n 'Bat Out of Hell': '1977',\n 'Their Greatest Hits (1971-1975)': '1976',\n 'Saturday Night Fever': '1977',\n 'Rumours': '1977',\n 'name': 'Nasim',\n 'Graduation': '2007',\n 'sample_key': 'sample_value'}"
     },
     "execution_count": 88,
     "metadata": {},
     "output_type": "execute_result"
    }
   ],
   "source": [
    "release_year_dict"
   ]
  },
  {
   "cell_type": "code",
   "execution_count": 89,
   "metadata": {
    "ExecuteTime": {
     "end_time": "2023-09-26T00:05:26.323683900Z",
     "start_time": "2023-09-26T00:05:25.636420900Z"
    }
   },
   "outputs": [],
   "source": [
    "del (release_year_dict[\"name\"])"
   ]
  },
  {
   "cell_type": "code",
   "execution_count": 90,
   "metadata": {
    "ExecuteTime": {
     "end_time": "2023-09-26T00:05:26.323683900Z",
     "start_time": "2023-09-26T00:05:25.641153800Z"
    }
   },
   "outputs": [
    {
     "data": {
      "text/plain": "{'Thriller': '1982',\n 'Back in Black': '1980',\n 'The Dark Side of the Moon': '1973',\n 'The Bodyguard': '1992',\n 'Bat Out of Hell': '1977',\n 'Their Greatest Hits (1971-1975)': '1976',\n 'Saturday Night Fever': '1977',\n 'Rumours': '1977',\n 'Graduation': '2007',\n 'sample_key': 'sample_value'}"
     },
     "execution_count": 90,
     "metadata": {},
     "output_type": "execute_result"
    }
   ],
   "source": [
    "release_year_dict"
   ]
  },
  {
   "cell_type": "markdown",
   "metadata": {},
   "source": [
    "We can delete an entry:   "
   ]
  },
  {
   "cell_type": "code",
   "execution_count": 91,
   "metadata": {
    "ExecuteTime": {
     "end_time": "2023-09-26T00:05:26.324684300Z",
     "start_time": "2023-09-26T00:05:25.644877200Z"
    }
   },
   "outputs": [
    {
     "data": {
      "text/plain": "{'Back in Black': '1980',\n 'The Dark Side of the Moon': '1973',\n 'The Bodyguard': '1992',\n 'Bat Out of Hell': '1977',\n 'Their Greatest Hits (1971-1975)': '1976',\n 'Saturday Night Fever': '1977',\n 'Rumours': '1977',\n 'sample_key': 'sample_value'}"
     },
     "execution_count": 91,
     "metadata": {},
     "output_type": "execute_result"
    }
   ],
   "source": [
    "del (release_year_dict['Thriller'])\n",
    "del (release_year_dict['Graduation'])\n",
    "release_year_dict"
   ]
  },
  {
   "cell_type": "code",
   "execution_count": 92,
   "metadata": {
    "ExecuteTime": {
     "end_time": "2023-09-26T00:05:26.324684300Z",
     "start_time": "2023-09-26T00:05:25.650227600Z"
    }
   },
   "outputs": [
    {
     "data": {
      "text/plain": "{'Back in Black': '1980',\n 'The Dark Side of the Moon': '1973',\n 'The Bodyguard': '1992',\n 'Bat Out of Hell': '1977',\n 'Their Greatest Hits (1971-1975)': '1976',\n 'Saturday Night Fever': '1977',\n 'Rumours': '1977',\n 'sample_key': 'sample_value'}"
     },
     "execution_count": 92,
     "metadata": {},
     "output_type": "execute_result"
    }
   ],
   "source": [
    "release_year_dict"
   ]
  },
  {
   "cell_type": "markdown",
   "metadata": {},
   "source": [
    " We can verify if an element is in the dictionary: "
   ]
  },
  {
   "cell_type": "code",
   "execution_count": 93,
   "metadata": {
    "ExecuteTime": {
     "end_time": "2023-09-26T00:05:26.333686200Z",
     "start_time": "2023-09-26T00:05:25.656861200Z"
    }
   },
   "outputs": [
    {
     "data": {
      "text/plain": "True"
     },
     "execution_count": 93,
     "metadata": {},
     "output_type": "execute_result"
    }
   ],
   "source": [
    "'1977' in release_year_dict.values()"
   ]
  },
  {
   "cell_type": "code",
   "execution_count": 94,
   "metadata": {
    "ExecuteTime": {
     "end_time": "2023-09-26T00:05:26.334686100Z",
     "start_time": "2023-09-26T00:05:25.660863Z"
    }
   },
   "outputs": [
    {
     "data": {
      "text/plain": "True"
     },
     "execution_count": 94,
     "metadata": {},
     "output_type": "execute_result"
    }
   ],
   "source": [
    "'The Bodyguard' in release_year_dict"
   ]
  },
  {
   "cell_type": "code",
   "execution_count": 95,
   "metadata": {
    "ExecuteTime": {
     "end_time": "2023-09-26T00:05:26.334686100Z",
     "start_time": "2023-09-26T00:05:25.665337500Z"
    }
   },
   "outputs": [],
   "source": [
    "d1 = {'a': 'some value', 'b': [1, 2, 3, 4]}"
   ]
  },
  {
   "cell_type": "code",
   "execution_count": 96,
   "metadata": {
    "ExecuteTime": {
     "end_time": "2023-09-26T00:05:26.334686100Z",
     "start_time": "2023-09-26T00:05:25.668845700Z"
    }
   },
   "outputs": [],
   "source": [
    "del d1['b']"
   ]
  },
  {
   "cell_type": "code",
   "execution_count": 97,
   "metadata": {
    "ExecuteTime": {
     "end_time": "2023-09-26T00:05:26.334686100Z",
     "start_time": "2023-09-26T00:05:25.672406300Z"
    }
   },
   "outputs": [
    {
     "data": {
      "text/plain": "{'a': 'some value'}"
     },
     "execution_count": 97,
     "metadata": {},
     "output_type": "execute_result"
    }
   ],
   "source": [
    "d1"
   ]
  },
  {
   "cell_type": "code",
   "execution_count": 98,
   "metadata": {
    "ExecuteTime": {
     "end_time": "2023-09-26T00:05:26.344688500Z",
     "start_time": "2023-09-26T00:05:25.678037500Z"
    }
   },
   "outputs": [
    {
     "data": {
      "text/plain": "'some value'"
     },
     "execution_count": 98,
     "metadata": {},
     "output_type": "execute_result"
    }
   ],
   "source": [
    "d1.pop('a')"
   ]
  },
  {
   "cell_type": "code",
   "execution_count": 99,
   "metadata": {
    "ExecuteTime": {
     "end_time": "2023-09-26T00:05:26.344688500Z",
     "start_time": "2023-09-26T00:05:25.681281200Z"
    }
   },
   "outputs": [
    {
     "data": {
      "text/plain": "{}"
     },
     "execution_count": 99,
     "metadata": {},
     "output_type": "execute_result"
    }
   ],
   "source": [
    "d1"
   ]
  },
  {
   "cell_type": "code",
   "execution_count": 100,
   "metadata": {
    "ExecuteTime": {
     "end_time": "2023-09-26T00:05:26.344688500Z",
     "start_time": "2023-09-26T00:05:25.685437Z"
    }
   },
   "outputs": [],
   "source": [
    "d2 = {'a': 'new value'}"
   ]
  },
  {
   "cell_type": "code",
   "execution_count": 101,
   "metadata": {
    "ExecuteTime": {
     "end_time": "2023-09-26T00:05:26.344688500Z",
     "start_time": "2023-09-26T00:05:25.689849900Z"
    }
   },
   "outputs": [],
   "source": [
    "d1.update(d2)"
   ]
  },
  {
   "cell_type": "code",
   "execution_count": 102,
   "metadata": {
    "ExecuteTime": {
     "end_time": "2023-09-26T00:05:26.350689800Z",
     "start_time": "2023-09-26T00:05:25.693356300Z"
    }
   },
   "outputs": [
    {
     "data": {
      "text/plain": "{'a': 'new value'}"
     },
     "execution_count": 102,
     "metadata": {},
     "output_type": "execute_result"
    }
   ],
   "source": [
    "d1"
   ]
  },
  {
   "cell_type": "code",
   "execution_count": 103,
   "metadata": {
    "ExecuteTime": {
     "end_time": "2023-09-26T00:05:26.350689800Z",
     "start_time": "2023-09-26T00:05:25.696697300Z"
    }
   },
   "outputs": [],
   "source": [
    "d1.update({'dummy': 'hello'})"
   ]
  },
  {
   "cell_type": "code",
   "execution_count": 104,
   "metadata": {
    "ExecuteTime": {
     "end_time": "2023-09-26T00:05:26.350689800Z",
     "start_time": "2023-09-26T00:05:25.700697600Z"
    }
   },
   "outputs": [
    {
     "data": {
      "text/plain": "{'a': 'new value', 'dummy': 'hello'}"
     },
     "execution_count": 104,
     "metadata": {},
     "output_type": "execute_result"
    }
   ],
   "source": [
    "d1"
   ]
  },
  {
   "cell_type": "code",
   "execution_count": 105,
   "metadata": {
    "ExecuteTime": {
     "end_time": "2023-09-26T00:05:26.350689800Z",
     "start_time": "2023-09-26T00:05:25.705004500Z"
    }
   },
   "outputs": [],
   "source": [
    "d1.update({'dummy': 'c'})"
   ]
  },
  {
   "cell_type": "code",
   "execution_count": 106,
   "metadata": {
    "ExecuteTime": {
     "end_time": "2023-09-26T00:05:26.351690500Z",
     "start_time": "2023-09-26T00:05:25.709342700Z"
    }
   },
   "outputs": [
    {
     "data": {
      "text/plain": "{'a': 'new value', 'dummy': 'c'}"
     },
     "execution_count": 106,
     "metadata": {},
     "output_type": "execute_result"
    }
   ],
   "source": [
    "d1"
   ]
  },
  {
   "cell_type": "markdown",
   "metadata": {},
   "source": [
    " <a id=\"ref2\"></a>\n",
    "<center><h2>Practice Dictionaries</h2></center>"
   ]
  },
  {
   "cell_type": "markdown",
   "metadata": {},
   "source": [
    "#### The Albums 'Back in Black', 'The Bodyguard' and 'Thriller' have the following music recording sales in millions 50, 50 and 65 respectively:"
   ]
  },
  {
   "cell_type": "markdown",
   "metadata": {},
   "source": [
    "##### a) Create a dictionary “album_sales_dict” where the keys are the album name and the sales in millions are the values. "
   ]
  },
  {
   "cell_type": "code",
   "execution_count": 107,
   "outputs": [
    {
     "data": {
      "text/plain": "{'Back in Black': 50, 'The Bodyguard': 50, 'Thriller': 65}"
     },
     "execution_count": 107,
     "metadata": {},
     "output_type": "execute_result"
    }
   ],
   "source": [
    "album_sales_dict = {\"Back in Black\": 50, \"The Bodyguard\": 50, \"Thriller\": 65}\n",
    "album_sales_dict"
   ],
   "metadata": {
    "collapsed": false,
    "ExecuteTime": {
     "end_time": "2023-09-26T00:05:26.351690500Z",
     "start_time": "2023-09-26T00:05:25.712655700Z"
    }
   }
  },
  {
   "cell_type": "markdown",
   "metadata": {},
   "source": [
    "\n",
    "Double-click __here__ for the solution.\n",
    "<!-- Your answer is below:\n",
    "album_sales_dict= { \"The Bodyguard\":50, \"Back in Black\":50,\"Thriller\":65}\n",
    "-->"
   ]
  },
  {
   "cell_type": "markdown",
   "metadata": {},
   "source": [
    "#### b) Use the dictionary to find the total sales of \"Thriller\":"
   ]
  },
  {
   "cell_type": "code",
   "execution_count": 108,
   "outputs": [
    {
     "data": {
      "text/plain": "65"
     },
     "execution_count": 108,
     "metadata": {},
     "output_type": "execute_result"
    }
   ],
   "source": [
    "album_sales_dict[\"Thriller\"]"
   ],
   "metadata": {
    "collapsed": false,
    "ExecuteTime": {
     "end_time": "2023-09-26T00:05:26.409703600Z",
     "start_time": "2023-09-26T00:05:25.719374300Z"
    }
   }
  },
  {
   "cell_type": "markdown",
   "metadata": {},
   "source": [
    "\n",
    "Double-click __here__ for the solution.\n",
    "<!-- Your answer is below:\n",
    "album_sales_dict[\"Thriller\"]\n",
    "-->"
   ]
  },
  {
   "cell_type": "markdown",
   "metadata": {},
   "source": [
    "#### c) Find the names of the albums from the dictionary using the method \"keys\":"
   ]
  },
  {
   "cell_type": "code",
   "execution_count": 109,
   "outputs": [
    {
     "data": {
      "text/plain": "dict_keys(['Back in Black', 'The Bodyguard', 'Thriller'])"
     },
     "execution_count": 109,
     "metadata": {},
     "output_type": "execute_result"
    }
   ],
   "source": [
    "album_sales_dict.keys()"
   ],
   "metadata": {
    "collapsed": false,
    "ExecuteTime": {
     "end_time": "2023-09-26T00:05:26.409703600Z",
     "start_time": "2023-09-26T00:05:25.722988800Z"
    }
   }
  },
  {
   "cell_type": "markdown",
   "metadata": {},
   "source": [
    "\n",
    "Double-click __here__ for the solution.\n",
    "<!-- Your answer is below:\n",
    "album_sales_dict.keys()\n",
    "-->"
   ]
  },
  {
   "cell_type": "markdown",
   "metadata": {},
   "source": [
    "#### d) Find the names of the recording sales​ from the dictionary using the method \"values\":"
   ]
  },
  {
   "cell_type": "code",
   "execution_count": 110,
   "outputs": [
    {
     "data": {
      "text/plain": "dict_values([50, 50, 65])"
     },
     "execution_count": 110,
     "metadata": {},
     "output_type": "execute_result"
    }
   ],
   "source": [
    "album_sales_dict.values()"
   ],
   "metadata": {
    "collapsed": false,
    "ExecuteTime": {
     "end_time": "2023-09-26T00:05:26.409703600Z",
     "start_time": "2023-09-26T00:05:25.727420Z"
    }
   }
  },
  {
   "cell_type": "markdown",
   "metadata": {},
   "source": [
    "\n",
    "Double-click __here__ for the solution.\n",
    "<!-- Your answer is below:\n",
    "album_sales_dict.values()\n",
    "-->"
   ]
  },
  {
   "cell_type": "markdown",
   "metadata": {},
   "source": [
    "# Items()"
   ]
  },
  {
   "cell_type": "markdown",
   "metadata": {},
   "source": [
    "Return the dictionary's key-value pairs"
   ]
  },
  {
   "cell_type": "code",
   "execution_count": 111,
   "metadata": {
    "ExecuteTime": {
     "end_time": "2023-09-26T00:05:26.415704800Z",
     "start_time": "2023-09-26T00:05:25.732906800Z"
    }
   },
   "outputs": [],
   "source": [
    "car = {\n",
    "    \"brand\": \"Ford\",\n",
    "    \"model\": \"Mustang\",\n",
    "    \"year\": 2022\n",
    "}"
   ]
  },
  {
   "cell_type": "code",
   "execution_count": 112,
   "metadata": {
    "ExecuteTime": {
     "end_time": "2023-09-26T00:05:26.415704800Z",
     "start_time": "2023-09-26T00:05:25.736387Z"
    }
   },
   "outputs": [
    {
     "data": {
      "text/plain": "dict_keys(['brand', 'model', 'year'])"
     },
     "execution_count": 112,
     "metadata": {},
     "output_type": "execute_result"
    }
   ],
   "source": [
    "car.keys()"
   ]
  },
  {
   "cell_type": "code",
   "execution_count": 113,
   "metadata": {
    "ExecuteTime": {
     "end_time": "2023-09-26T00:05:26.416704800Z",
     "start_time": "2023-09-26T00:05:25.740758800Z"
    }
   },
   "outputs": [
    {
     "data": {
      "text/plain": "dict_values(['Ford', 'Mustang', 2022])"
     },
     "execution_count": 113,
     "metadata": {},
     "output_type": "execute_result"
    }
   ],
   "source": [
    "car.values()"
   ]
  },
  {
   "cell_type": "code",
   "execution_count": 114,
   "metadata": {
    "ExecuteTime": {
     "end_time": "2023-09-26T00:05:26.416704800Z",
     "start_time": "2023-09-26T00:05:25.745105100Z"
    }
   },
   "outputs": [
    {
     "data": {
      "text/plain": "dict_items([('brand', 'Ford'), ('model', 'Mustang'), ('year', 2022)])"
     },
     "execution_count": 114,
     "metadata": {},
     "output_type": "execute_result"
    }
   ],
   "source": [
    "car.items()"
   ]
  },
  {
   "cell_type": "code",
   "execution_count": 115,
   "metadata": {
    "ExecuteTime": {
     "end_time": "2023-09-26T00:05:26.416704800Z",
     "start_time": "2023-09-26T00:05:25.749502500Z"
    }
   },
   "outputs": [],
   "source": [
    "x = car.items()"
   ]
  },
  {
   "cell_type": "code",
   "execution_count": 116,
   "metadata": {
    "ExecuteTime": {
     "end_time": "2023-09-26T00:05:26.416704800Z",
     "start_time": "2023-09-26T00:05:25.753115300Z"
    }
   },
   "outputs": [],
   "source": [
    "car[\"year\"] = 2015"
   ]
  },
  {
   "cell_type": "code",
   "execution_count": 117,
   "metadata": {
    "ExecuteTime": {
     "end_time": "2023-09-26T00:05:26.416704800Z",
     "start_time": "2023-09-26T00:05:25.756769600Z"
    }
   },
   "outputs": [
    {
     "data": {
      "text/plain": "{'brand': 'Ford', 'model': 'Mustang', 'year': 2015}"
     },
     "execution_count": 117,
     "metadata": {},
     "output_type": "execute_result"
    }
   ],
   "source": [
    "car"
   ]
  },
  {
   "cell_type": "code",
   "execution_count": 118,
   "metadata": {
    "ExecuteTime": {
     "end_time": "2023-09-26T00:05:26.417704900Z",
     "start_time": "2023-09-26T00:05:25.762706900Z"
    }
   },
   "outputs": [
    {
     "data": {
      "text/plain": "dict_items([('brand', 'Ford'), ('model', 'Mustang'), ('year', 2015)])"
     },
     "execution_count": 118,
     "metadata": {},
     "output_type": "execute_result"
    }
   ],
   "source": [
    "x"
   ]
  },
  {
   "cell_type": "code",
   "execution_count": 118,
   "metadata": {
    "ExecuteTime": {
     "end_time": "2023-09-26T00:05:26.417704900Z",
     "start_time": "2023-09-26T00:05:25.767422500Z"
    }
   },
   "outputs": [],
   "source": []
  }
 ],
 "metadata": {
  "kernelspec": {
   "display_name": "Python 3 (ipykernel)",
   "language": "python",
   "name": "python3"
  },
  "language_info": {
   "codemirror_mode": {
    "name": "ipython",
    "version": 3
   },
   "file_extension": ".py",
   "mimetype": "text/x-python",
   "name": "python",
   "nbconvert_exporter": "python",
   "pygments_lexer": "ipython3",
   "version": "3.9.12"
  }
 },
 "nbformat": 4,
 "nbformat_minor": 2
}
