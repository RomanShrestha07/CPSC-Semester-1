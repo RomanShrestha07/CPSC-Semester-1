{
 "cells": [
  {
   "cell_type": "markdown",
   "metadata": {},
   "source": [
    "\n",
    "\n",
    "# Assignment 2 - Python Basics\n",
    "\n",
    "\n"
   ]
  },
  {
   "cell_type": "markdown",
   "metadata": {},
   "source": [
    "### A note for this assignment\n",
    "\n",
    "Submit this notebook with your answers included below each question.\n",
    "\n",
    "\n",
    "| Exercise | Point |\n",
    "| --- | --- |\n",
    "| 1 | 5 |\n",
    "| 2 | 5 |\n",
    "| 3 | 5 |\n",
    "| 4 | 5 |\n",
    "| 5 | 10 |\n",
    "| 6 | 10 |\n",
    "| 7 | 10 |\n",
    "| 8 | 10 |\n",
    "| 9 | 10 |\n",
    "| 10| 5 |\n",
    "| 11| 5 |\n",
    "| 12 | 10 |\n",
    "| 13 | 5 |\n",
    "|14 | 5 |\n",
    "| **Total** | **100** |\n"
   ]
  },
  {
   "cell_type": "markdown",
   "metadata": {},
   "source": [
    "### Note: To get the full mark, you need to write docstring for all of your functions."
   ]
  },
  {
   "cell_type": "markdown",
   "metadata": {},
   "source": [
    "### Exercise 1"
   ]
  },
  {
   "cell_type": "markdown",
   "metadata": {},
   "source": [
    "- Why do we need to use functions in python?\n",
    "- What is the difference between positional argument and keyword argument in python?"
   ]
  },
  {
   "cell_type": "code",
   "execution_count": 2,
   "outputs": [
    {
     "data": {
      "text/plain": "'\\na) Functions are the primary and most important method of code organization and reuse in Python. Use of functions help to avoid repeating the same or very similar code more than once. Functions also help to make code more readable\\n\\nb) Positional Argument: The values passed during a function call are assigned to parameters in the order they are defined in the function signature. The position of the argument determines which parameter it is assigned to. For example: \\n    def example_function(arg1, arg2, arg3):\\n        some code \\n    \\n    example_function(1, 2, 3)\\n\\n    Keyword Argument: Parameter names are explicitly mentioned along with their corresponding values during the function call.\\n    This allows us to pass arguments out of order and can make the code more readable. For example:\\n    def example_function(arg1, arg2, arg3):\\n        some code\\n\\n    example_function(arg1 = 1, arg3 = 3, arg2 = 2)\\n'"
     },
     "execution_count": 2,
     "metadata": {},
     "output_type": "execute_result"
    }
   ],
   "source": [
    "'''\n",
    "a) Functions are the primary and most important method of code organization and reuse in Python. Use of functions help to avoid repeating the same or very similar code more than once. Functions also help to make code more readable\n",
    "\n",
    "b) Positional Argument: The values passed during a function call are assigned to parameters in the order they are defined in the function signature. The position of the argument determines which parameter it is assigned to. For example: \n",
    "    def example_function(arg1, arg2, arg3):\n",
    "        some code \n",
    "    \n",
    "    example_function(1, 2, 3)\n",
    "\n",
    "    Keyword Argument: Parameter names are explicitly mentioned along with their corresponding values during the function call.\n",
    "    This allows us to pass arguments out of order and can make the code more readable. For example:\n",
    "    def example_function(arg1, arg2, arg3):\n",
    "        some code\n",
    "\n",
    "    example_function(arg1 = 1, arg3 = 3, arg2 = 2)\n",
    "'''"
   ],
   "metadata": {
    "collapsed": false,
    "ExecuteTime": {
     "end_time": "2023-10-12T06:34:54.952969300Z",
     "start_time": "2023-10-12T06:34:54.783778400Z"
    }
   }
  },
  {
   "cell_type": "markdown",
   "metadata": {},
   "source": [
    "### Exercise 2"
   ]
  },
  {
   "cell_type": "markdown",
   "metadata": {},
   "source": [
    "**Create a function that grabs the name of the person and returns a greeting message as below. Please ensure the name of the person is capitalized. Provide one test case for your function.**\n",
    "\n",
    "```\n",
    "For example, passing \"Nasim\" or \"nasim\" would return:\n",
    "\n",
    "`\"Hello NASIM, Welcome to Canada!\"`\n",
    "```"
   ]
  },
  {
   "cell_type": "code",
   "execution_count": 3,
   "outputs": [
    {
     "data": {
      "text/plain": "'Hello ROMAN, Welcome to Canada!'"
     },
     "execution_count": 3,
     "metadata": {},
     "output_type": "execute_result"
    }
   ],
   "source": [
    "def welcome_message(name: str) -> str:\n",
    "    \"\"\"This function takes a string converts it into uppercase and returns it in a custom sentence.\"\"\"\n",
    "    upper_name = name.upper()\n",
    "\n",
    "    return f'Hello {upper_name}, Welcome to Canada!'\n",
    "\n",
    "\n",
    "welcome_message('Roman')"
   ],
   "metadata": {
    "collapsed": false,
    "ExecuteTime": {
     "end_time": "2023-10-12T06:34:54.972974200Z",
     "start_time": "2023-10-12T06:34:54.792931700Z"
    }
   }
  },
  {
   "cell_type": "markdown",
   "metadata": {},
   "source": [
    "### Exercise 3\n"
   ]
  },
  {
   "cell_type": "markdown",
   "metadata": {},
   "source": [
    "Create a basic function that returns True if the word 'cat' is contained in the input string. Don't worry about edge cases like a punctuation being attached to the word cat, but do account for capitalization. Provide one test case for your function."
   ]
  },
  {
   "cell_type": "code",
   "execution_count": 4,
   "outputs": [
    {
     "data": {
      "text/plain": "True"
     },
     "execution_count": 4,
     "metadata": {},
     "output_type": "execute_result"
    }
   ],
   "source": [
    "def contains_cat(string: str) -> bool:\n",
    "    \"\"\"This function takes a string converts it into uppercase and returns boolean True/False if the string contains the word 'cat' or not respectively, in any case.\"\"\"\n",
    "    upper_string = string.upper()\n",
    "\n",
    "    if 'CAT' in upper_string:\n",
    "        return True\n",
    "\n",
    "    return False\n",
    "\n",
    "\n",
    "contains_cat('AppleCatMango')"
   ],
   "metadata": {
    "collapsed": false,
    "ExecuteTime": {
     "end_time": "2023-10-12T06:34:54.990978Z",
     "start_time": "2023-10-12T06:34:54.801490700Z"
    }
   }
  },
  {
   "cell_type": "markdown",
   "metadata": {},
   "source": [
    "### Exercise 4"
   ]
  },
  {
   "cell_type": "markdown",
   "metadata": {},
   "source": [
    "Create a function that counts the number of times the word \"python\" occurs in a string. Again ignore edge cases. Provide one test case for your function."
   ]
  },
  {
   "cell_type": "code",
   "execution_count": 5,
   "outputs": [
    {
     "data": {
      "text/plain": "2"
     },
     "execution_count": 5,
     "metadata": {},
     "output_type": "execute_result"
    }
   ],
   "source": [
    "def count_python(string: str) -> int:\n",
    "    \"\"\"This function takes a string converts it into lowercase and returns the count of the word 'python' as an integer.\"\"\"\n",
    "    lower_string = string.lower()\n",
    "\n",
    "    return lower_string.count('python')\n",
    "\n",
    "\n",
    "count_python('applePython mangoPYTHONmango')"
   ],
   "metadata": {
    "collapsed": false,
    "ExecuteTime": {
     "end_time": "2023-10-12T06:34:55.105003300Z",
     "start_time": "2023-10-12T06:34:54.809761200Z"
    }
   }
  },
  {
   "cell_type": "markdown",
   "metadata": {},
   "source": [
    "### Exercise 5"
   ]
  },
  {
   "cell_type": "markdown",
   "metadata": {},
   "source": [
    "You are driving a little too fast, and a police officer stops you. Write a function\n",
    "  to return one of 3 possible results: \"No ticket\", \"Small ticket\", or \"Big Ticket\". \n",
    "  If your speed is 60 or less, the result is \"No Ticket\". If speed is between 61 \n",
    "  and 80 inclusive, the result is \"Small Ticket\". If speed is 81 or more, the result is \"Big Ticket\". Unless it is your birthday (encoded as a boolean value in the parameters of the function) -- on your birthday, your speed can be 5 higher in all \n",
    "  cases."
   ]
  },
  {
   "cell_type": "code",
   "execution_count": 6,
   "outputs": [
    {
     "data": {
      "text/plain": "'Small Ticket'"
     },
     "execution_count": 6,
     "metadata": {},
     "output_type": "execute_result"
    }
   ],
   "source": [
    "def speeding_ticket(actual_speed: int, birthday: bool) -> str:\n",
    "    \"\"\"This function takes two parameters: speed as int and birthday as bool. It returns different speeding tickets as string according to some pre-defined speed or no ticket speeding ticket. But when the birthday is True the speed is lowered by 5.\"\"\"\n",
    "    speed = actual_speed\n",
    "\n",
    "    if birthday:\n",
    "        speed = actual_speed - 5\n",
    "\n",
    "    if speed <= 60:\n",
    "        return 'No ticket'\n",
    "    elif 61 <= speed <= 80:\n",
    "        return 'Small Ticket'\n",
    "    elif speed >= 81:\n",
    "        return 'Big Ticket'\n",
    "\n",
    "\n",
    "speeding_ticket(81, True)"
   ],
   "metadata": {
    "collapsed": false,
    "ExecuteTime": {
     "end_time": "2023-10-12T06:34:55.125008200Z",
     "start_time": "2023-10-12T06:34:54.815956Z"
    }
   }
  },
  {
   "cell_type": "markdown",
   "metadata": {},
   "source": [
    "### Exercise 6"
   ]
  },
  {
   "cell_type": "markdown",
   "metadata": {},
   "source": [
    "Define a function that takes a number, returns True if the sum of the cubes of its digits is equal to the number itself, else returns False. For instance, passing the number 153 to your function should return True.\n"
   ]
  },
  {
   "cell_type": "code",
   "execution_count": 7,
   "outputs": [
    {
     "data": {
      "text/plain": "True"
     },
     "execution_count": 7,
     "metadata": {},
     "output_type": "execute_result"
    }
   ],
   "source": [
    "def cube_equal_number(number: int) -> bool:\n",
    "    \"\"\"This function takes a number then cubes each digit of the number and sums them up. It returns True if the sum of the cubed digits is equal to the given number, else it returns False.\"\"\"\n",
    "    total = 0\n",
    "\n",
    "    for num in str(number):\n",
    "        cube = int(num) ** 3\n",
    "        total = total + cube\n",
    "\n",
    "    if total == number:\n",
    "        return True\n",
    "\n",
    "    return False\n",
    "\n",
    "\n",
    "cube_equal_number(153)"
   ],
   "metadata": {
    "collapsed": false,
    "ExecuteTime": {
     "end_time": "2023-10-12T06:34:55.141011700Z",
     "start_time": "2023-10-12T06:34:54.825994300Z"
    }
   }
  },
  {
   "cell_type": "markdown",
   "metadata": {},
   "source": [
    "### Exercise 7"
   ]
  },
  {
   "cell_type": "markdown",
   "metadata": {},
   "source": [
    "**Given the 3 lists below contained within list_1, write a nested loop to print out each item one at at time.**\n"
   ]
  },
  {
   "cell_type": "code",
   "execution_count": 8,
   "metadata": {
    "ExecuteTime": {
     "end_time": "2023-10-12T06:34:55.157015100Z",
     "start_time": "2023-10-12T06:34:54.834797800Z"
    }
   },
   "outputs": [
    {
     "name": "stdout",
     "output_type": "stream",
     "text": [
      "Sam\n",
      "Sarah\n",
      "Darcy\n",
      "34\n",
      "32\n",
      "30\n",
      "Ontario\n",
      "Quebec\n",
      "British Columbia\n"
     ]
    }
   ],
   "source": [
    "def print_each_element(list_1):\n",
    "    \"\"\"This function takes a nested 2D list and prints out each element of the nested list.\"\"\"\n",
    "    for i in list_1:\n",
    "        for j in i:\n",
    "            print(j)\n",
    "\n",
    "\n",
    "nested_list = [[\"Sam\", \"Sarah\", \"Darcy\"], [34, 32, 30], [\"Ontario\", \"Quebec\", \"British Columbia\"]]\n",
    "print_each_element(nested_list)"
   ]
  },
  {
   "cell_type": "markdown",
   "metadata": {},
   "source": [
    "### Exercise 8"
   ]
  },
  {
   "cell_type": "markdown",
   "metadata": {},
   "source": [
    "**Students in a class receive their grades as Pass/Fail. Scores of 60 or more (out of 100) mean that the grade is \"Pass\". For lower scores, the grade is \"Fail\". In addition, scores above 95 (not included) are graded as \"Top Score\". Write a function so that it returns the proper grade. Make sure to write the proper docstring.**"
   ]
  },
  {
   "cell_type": "markdown",
   "metadata": {},
   "source": [
    "Test out your function:\n",
    "```\n",
    "print(exam_grade(65))\n",
    "print(exam_grade(55)) \n",
    "print(exam_grade(60))\n",
    "print(exam_grade(95)) \n",
    "print(exam_grade(100)) \n",
    "print(exam_grade(0))\n",
    "```"
   ]
  },
  {
   "cell_type": "code",
   "execution_count": 9,
   "outputs": [
    {
     "name": "stdout",
     "output_type": "stream",
     "text": [
      "Pass\n",
      "Fail\n",
      "Pass\n",
      "Pass\n",
      "Top Score\n",
      "Fail\n"
     ]
    }
   ],
   "source": [
    "def proper_grade(score):\n",
    "    \"\"\"This function takes a score as int and returns Pass, Fail or Top Score as string, based on some pre-defined conditions.\"\"\"\n",
    "    if score > 95:\n",
    "        grade = \"Top Score\"\n",
    "    elif 60 <= score < 100:\n",
    "        grade = \"Pass\"\n",
    "    else:\n",
    "        grade = \"Fail\"\n",
    "\n",
    "    return grade\n",
    "\n",
    "\n",
    "print(proper_grade(65))\n",
    "print(proper_grade(55))\n",
    "print(proper_grade(60))\n",
    "print(proper_grade(95))\n",
    "print(proper_grade(100))\n",
    "print(proper_grade(0))"
   ],
   "metadata": {
    "collapsed": false,
    "ExecuteTime": {
     "end_time": "2023-10-12T06:34:55.172018500Z",
     "start_time": "2023-10-12T06:34:54.846439100Z"
    }
   }
  },
  {
   "cell_type": "markdown",
   "metadata": {},
   "source": [
    "### Exercise 9"
   ]
  },
  {
   "cell_type": "markdown",
   "metadata": {},
   "source": [
    "For this exercise, you will be using the [Wine reviews Dataset](https://www.kaggle.com/zynicide/wine-reviews) from Kaggle!. Please download the \"winemag-data-130k-v2.csv\" file from kaggle and complete the below exercises. "
   ]
  },
  {
   "cell_type": "markdown",
   "metadata": {},
   "source": [
    "1- Read .csv file as a dataframe.\n",
    "\n",
    "2- Check the head of the DataFrame.\n",
    "\n",
    "3- Find out the number of rows and columns in the dataset.\n",
    "\n",
    "4- Select the records with index labels 10, 20, 13, 15, and 18, assigning the result to the variable sample_reviews.\n",
    "\n",
    "5- Create a variable df containing the country, price, description, and province columns of the records with the index labels 0, 1, 2, and 50. \n",
    "\n",
    "6- Find out the number of null/na values in each column.\n",
    "\n",
    "7- Drop all the rows where region_1 is null.\n",
    "\n",
    "8- Create a DataFrame american_wines containing reviews of wines made in US. "
   ]
  },
  {
   "cell_type": "code",
   "execution_count": 10,
   "outputs": [
    {
     "data": {
      "text/plain": "   Unnamed: 0   country                                        description  \\\n0           0     Italy  Aromas include tropical fruit, broom, brimston...   \n1           1  Portugal  This is ripe and fruity, a wine that is smooth...   \n2           2        US  Tart and snappy, the flavors of lime flesh and...   \n3           3        US  Pineapple rind, lemon pith and orange blossom ...   \n4           4        US  Much like the regular bottling from 2012, this...   \n\n                          designation  points  price           province  \\\n0                        Vulkà Bianco      87    NaN  Sicily & Sardinia   \n1                            Avidagos      87   15.0              Douro   \n2                                 NaN      87   14.0             Oregon   \n3                Reserve Late Harvest      87   13.0           Michigan   \n4  Vintner's Reserve Wild Child Block      87   65.0             Oregon   \n\n              region_1           region_2         taster_name  \\\n0                 Etna                NaN       Kerin O’Keefe   \n1                  NaN                NaN          Roger Voss   \n2    Willamette Valley  Willamette Valley        Paul Gregutt   \n3  Lake Michigan Shore                NaN  Alexander Peartree   \n4    Willamette Valley  Willamette Valley        Paul Gregutt   \n\n  taster_twitter_handle                                              title  \\\n0          @kerinokeefe                  Nicosia 2013 Vulkà Bianco  (Etna)   \n1            @vossroger      Quinta dos Avidagos 2011 Avidagos Red (Douro)   \n2           @paulgwine       Rainstorm 2013 Pinot Gris (Willamette Valley)   \n3                   NaN  St. Julian 2013 Reserve Late Harvest Riesling ...   \n4           @paulgwine   Sweet Cheeks 2012 Vintner's Reserve Wild Child...   \n\n          variety               winery  \n0     White Blend              Nicosia  \n1  Portuguese Red  Quinta dos Avidagos  \n2      Pinot Gris            Rainstorm  \n3        Riesling           St. Julian  \n4      Pinot Noir         Sweet Cheeks  ",
      "text/html": "<div>\n<style scoped>\n    .dataframe tbody tr th:only-of-type {\n        vertical-align: middle;\n    }\n\n    .dataframe tbody tr th {\n        vertical-align: top;\n    }\n\n    .dataframe thead th {\n        text-align: right;\n    }\n</style>\n<table border=\"1\" class=\"dataframe\">\n  <thead>\n    <tr style=\"text-align: right;\">\n      <th></th>\n      <th>Unnamed: 0</th>\n      <th>country</th>\n      <th>description</th>\n      <th>designation</th>\n      <th>points</th>\n      <th>price</th>\n      <th>province</th>\n      <th>region_1</th>\n      <th>region_2</th>\n      <th>taster_name</th>\n      <th>taster_twitter_handle</th>\n      <th>title</th>\n      <th>variety</th>\n      <th>winery</th>\n    </tr>\n  </thead>\n  <tbody>\n    <tr>\n      <th>0</th>\n      <td>0</td>\n      <td>Italy</td>\n      <td>Aromas include tropical fruit, broom, brimston...</td>\n      <td>Vulkà Bianco</td>\n      <td>87</td>\n      <td>NaN</td>\n      <td>Sicily &amp; Sardinia</td>\n      <td>Etna</td>\n      <td>NaN</td>\n      <td>Kerin O’Keefe</td>\n      <td>@kerinokeefe</td>\n      <td>Nicosia 2013 Vulkà Bianco  (Etna)</td>\n      <td>White Blend</td>\n      <td>Nicosia</td>\n    </tr>\n    <tr>\n      <th>1</th>\n      <td>1</td>\n      <td>Portugal</td>\n      <td>This is ripe and fruity, a wine that is smooth...</td>\n      <td>Avidagos</td>\n      <td>87</td>\n      <td>15.0</td>\n      <td>Douro</td>\n      <td>NaN</td>\n      <td>NaN</td>\n      <td>Roger Voss</td>\n      <td>@vossroger</td>\n      <td>Quinta dos Avidagos 2011 Avidagos Red (Douro)</td>\n      <td>Portuguese Red</td>\n      <td>Quinta dos Avidagos</td>\n    </tr>\n    <tr>\n      <th>2</th>\n      <td>2</td>\n      <td>US</td>\n      <td>Tart and snappy, the flavors of lime flesh and...</td>\n      <td>NaN</td>\n      <td>87</td>\n      <td>14.0</td>\n      <td>Oregon</td>\n      <td>Willamette Valley</td>\n      <td>Willamette Valley</td>\n      <td>Paul Gregutt</td>\n      <td>@paulgwine</td>\n      <td>Rainstorm 2013 Pinot Gris (Willamette Valley)</td>\n      <td>Pinot Gris</td>\n      <td>Rainstorm</td>\n    </tr>\n    <tr>\n      <th>3</th>\n      <td>3</td>\n      <td>US</td>\n      <td>Pineapple rind, lemon pith and orange blossom ...</td>\n      <td>Reserve Late Harvest</td>\n      <td>87</td>\n      <td>13.0</td>\n      <td>Michigan</td>\n      <td>Lake Michigan Shore</td>\n      <td>NaN</td>\n      <td>Alexander Peartree</td>\n      <td>NaN</td>\n      <td>St. Julian 2013 Reserve Late Harvest Riesling ...</td>\n      <td>Riesling</td>\n      <td>St. Julian</td>\n    </tr>\n    <tr>\n      <th>4</th>\n      <td>4</td>\n      <td>US</td>\n      <td>Much like the regular bottling from 2012, this...</td>\n      <td>Vintner's Reserve Wild Child Block</td>\n      <td>87</td>\n      <td>65.0</td>\n      <td>Oregon</td>\n      <td>Willamette Valley</td>\n      <td>Willamette Valley</td>\n      <td>Paul Gregutt</td>\n      <td>@paulgwine</td>\n      <td>Sweet Cheeks 2012 Vintner's Reserve Wild Child...</td>\n      <td>Pinot Noir</td>\n      <td>Sweet Cheeks</td>\n    </tr>\n  </tbody>\n</table>\n</div>"
     },
     "execution_count": 10,
     "metadata": {},
     "output_type": "execute_result"
    }
   ],
   "source": [
    "import pandas as pd\n",
    "\n",
    "wine_df = pd.read_csv('winemag-data-130k-v2.csv')\n",
    "\n",
    "wine_df.head()"
   ],
   "metadata": {
    "collapsed": false,
    "ExecuteTime": {
     "end_time": "2023-10-12T06:34:56.216976500Z",
     "start_time": "2023-10-12T06:34:54.856947600Z"
    }
   }
  },
  {
   "cell_type": "code",
   "execution_count": 25,
   "outputs": [
    {
     "name": "stdout",
     "output_type": "stream",
     "text": [
      "rows: 129971 columns: 14 14\n"
     ]
    }
   ],
   "source": [
    "rows = len(wine_df.axes[0])  # or len(list(wine_df.index))\n",
    "cols = len(wine_df.axes[1])  # or len(list(wine_df.columns))\n",
    "\n",
    "print('rows:', rows, 'columns:', cols)"
   ],
   "metadata": {
    "collapsed": false,
    "ExecuteTime": {
     "end_time": "2023-10-12T06:35:43.070484100Z",
     "start_time": "2023-10-12T06:35:43.047973100Z"
    }
   }
  },
  {
   "cell_type": "code",
   "execution_count": 12,
   "outputs": [
    {
     "data": {
      "text/plain": "    Unnamed: 0  country                                        description  \\\n10          10       US  Soft, supple plum envelopes an oaky structure ...   \n20          20       US  Ripe aromas of dark berries mingle with ample ...   \n13          13    Italy  This is dominated by oak and oak-driven aromas...   \n15          15  Germany  Zesty orange peels and apple notes abound in t...   \n18          18    Spain  Desiccated blackberry, leather, charred wood a...   \n\n                                          designation  points  price  \\\n10                                     Mountain Cuvée      87   19.0   \n20                                      Vin de Maison      87   23.0   \n13                                              Rosso      87    NaN   \n15                                              Devon      87   24.0   \n18  Vendimia Seleccionada Finca Valdelayegua Singl...      87   28.0   \n\n             province          region_1 region_2         taster_name  \\\n10         California       Napa Valley     Napa      Virginie Boone   \n20           Virginia          Virginia      NaN  Alexander Peartree   \n13  Sicily & Sardinia              Etna      NaN       Kerin O’Keefe   \n15              Mosel               NaN      NaN  Anna Lee C. Iijima   \n18     Northern Spain  Ribera del Duero      NaN   Michael Schachner   \n\n   taster_twitter_handle                                              title  \\\n10               @vboone  Kirkland Signature 2011 Mountain Cuvée Caberne...   \n20                   NaN      Quiévremont 2012 Vin de Maison Red (Virginia)   \n13          @kerinokeefe             Masseria Setteporte 2012 Rosso  (Etna)   \n15                   NaN        Richard Böcking 2013 Devon Riesling (Mosel)   \n18           @wineschach  Pradorey 2010 Vendimia Seleccionada Finca Vald...   \n\n               variety               winery  \n10  Cabernet Sauvignon   Kirkland Signature  \n20           Red Blend          Quiévremont  \n13   Nerello Mascalese  Masseria Setteporte  \n15            Riesling      Richard Böcking  \n18   Tempranillo Blend             Pradorey  ",
      "text/html": "<div>\n<style scoped>\n    .dataframe tbody tr th:only-of-type {\n        vertical-align: middle;\n    }\n\n    .dataframe tbody tr th {\n        vertical-align: top;\n    }\n\n    .dataframe thead th {\n        text-align: right;\n    }\n</style>\n<table border=\"1\" class=\"dataframe\">\n  <thead>\n    <tr style=\"text-align: right;\">\n      <th></th>\n      <th>Unnamed: 0</th>\n      <th>country</th>\n      <th>description</th>\n      <th>designation</th>\n      <th>points</th>\n      <th>price</th>\n      <th>province</th>\n      <th>region_1</th>\n      <th>region_2</th>\n      <th>taster_name</th>\n      <th>taster_twitter_handle</th>\n      <th>title</th>\n      <th>variety</th>\n      <th>winery</th>\n    </tr>\n  </thead>\n  <tbody>\n    <tr>\n      <th>10</th>\n      <td>10</td>\n      <td>US</td>\n      <td>Soft, supple plum envelopes an oaky structure ...</td>\n      <td>Mountain Cuvée</td>\n      <td>87</td>\n      <td>19.0</td>\n      <td>California</td>\n      <td>Napa Valley</td>\n      <td>Napa</td>\n      <td>Virginie Boone</td>\n      <td>@vboone</td>\n      <td>Kirkland Signature 2011 Mountain Cuvée Caberne...</td>\n      <td>Cabernet Sauvignon</td>\n      <td>Kirkland Signature</td>\n    </tr>\n    <tr>\n      <th>20</th>\n      <td>20</td>\n      <td>US</td>\n      <td>Ripe aromas of dark berries mingle with ample ...</td>\n      <td>Vin de Maison</td>\n      <td>87</td>\n      <td>23.0</td>\n      <td>Virginia</td>\n      <td>Virginia</td>\n      <td>NaN</td>\n      <td>Alexander Peartree</td>\n      <td>NaN</td>\n      <td>Quiévremont 2012 Vin de Maison Red (Virginia)</td>\n      <td>Red Blend</td>\n      <td>Quiévremont</td>\n    </tr>\n    <tr>\n      <th>13</th>\n      <td>13</td>\n      <td>Italy</td>\n      <td>This is dominated by oak and oak-driven aromas...</td>\n      <td>Rosso</td>\n      <td>87</td>\n      <td>NaN</td>\n      <td>Sicily &amp; Sardinia</td>\n      <td>Etna</td>\n      <td>NaN</td>\n      <td>Kerin O’Keefe</td>\n      <td>@kerinokeefe</td>\n      <td>Masseria Setteporte 2012 Rosso  (Etna)</td>\n      <td>Nerello Mascalese</td>\n      <td>Masseria Setteporte</td>\n    </tr>\n    <tr>\n      <th>15</th>\n      <td>15</td>\n      <td>Germany</td>\n      <td>Zesty orange peels and apple notes abound in t...</td>\n      <td>Devon</td>\n      <td>87</td>\n      <td>24.0</td>\n      <td>Mosel</td>\n      <td>NaN</td>\n      <td>NaN</td>\n      <td>Anna Lee C. Iijima</td>\n      <td>NaN</td>\n      <td>Richard Böcking 2013 Devon Riesling (Mosel)</td>\n      <td>Riesling</td>\n      <td>Richard Böcking</td>\n    </tr>\n    <tr>\n      <th>18</th>\n      <td>18</td>\n      <td>Spain</td>\n      <td>Desiccated blackberry, leather, charred wood a...</td>\n      <td>Vendimia Seleccionada Finca Valdelayegua Singl...</td>\n      <td>87</td>\n      <td>28.0</td>\n      <td>Northern Spain</td>\n      <td>Ribera del Duero</td>\n      <td>NaN</td>\n      <td>Michael Schachner</td>\n      <td>@wineschach</td>\n      <td>Pradorey 2010 Vendimia Seleccionada Finca Vald...</td>\n      <td>Tempranillo Blend</td>\n      <td>Pradorey</td>\n    </tr>\n  </tbody>\n</table>\n</div>"
     },
     "execution_count": 12,
     "metadata": {},
     "output_type": "execute_result"
    }
   ],
   "source": [
    "sample_reviews = wine_df.iloc[[10, 20, 13, 15, 18]]\n",
    "\n",
    "sample_reviews"
   ],
   "metadata": {
    "collapsed": false,
    "ExecuteTime": {
     "end_time": "2023-10-12T06:34:56.244077200Z",
     "start_time": "2023-10-12T06:34:56.227396700Z"
    }
   }
  },
  {
   "cell_type": "code",
   "execution_count": 13,
   "outputs": [
    {
     "data": {
      "text/plain": "     country  price                                        description  \\\n0      Italy    NaN  Aromas include tropical fruit, broom, brimston...   \n1   Portugal   15.0  This is ripe and fruity, a wine that is smooth...   \n2         US   14.0  Tart and snappy, the flavors of lime flesh and...   \n50     Italy    NaN  This blend of Nero d'Avola and Syrah opens wit...   \n\n             province  \n0   Sicily & Sardinia  \n1               Douro  \n2              Oregon  \n50  Sicily & Sardinia  ",
      "text/html": "<div>\n<style scoped>\n    .dataframe tbody tr th:only-of-type {\n        vertical-align: middle;\n    }\n\n    .dataframe tbody tr th {\n        vertical-align: top;\n    }\n\n    .dataframe thead th {\n        text-align: right;\n    }\n</style>\n<table border=\"1\" class=\"dataframe\">\n  <thead>\n    <tr style=\"text-align: right;\">\n      <th></th>\n      <th>country</th>\n      <th>price</th>\n      <th>description</th>\n      <th>province</th>\n    </tr>\n  </thead>\n  <tbody>\n    <tr>\n      <th>0</th>\n      <td>Italy</td>\n      <td>NaN</td>\n      <td>Aromas include tropical fruit, broom, brimston...</td>\n      <td>Sicily &amp; Sardinia</td>\n    </tr>\n    <tr>\n      <th>1</th>\n      <td>Portugal</td>\n      <td>15.0</td>\n      <td>This is ripe and fruity, a wine that is smooth...</td>\n      <td>Douro</td>\n    </tr>\n    <tr>\n      <th>2</th>\n      <td>US</td>\n      <td>14.0</td>\n      <td>Tart and snappy, the flavors of lime flesh and...</td>\n      <td>Oregon</td>\n    </tr>\n    <tr>\n      <th>50</th>\n      <td>Italy</td>\n      <td>NaN</td>\n      <td>This blend of Nero d'Avola and Syrah opens wit...</td>\n      <td>Sicily &amp; Sardinia</td>\n    </tr>\n  </tbody>\n</table>\n</div>"
     },
     "execution_count": 13,
     "metadata": {},
     "output_type": "execute_result"
    }
   ],
   "source": [
    "sample_reviews1 = wine_df[['country', 'price', 'description', 'province']]\n",
    "\n",
    "sample_reviews2 = sample_reviews1.iloc[[0, 1, 2, 50]]\n",
    "\n",
    "sample_reviews2"
   ],
   "metadata": {
    "collapsed": false,
    "ExecuteTime": {
     "end_time": "2023-10-12T06:34:56.278233200Z",
     "start_time": "2023-10-12T06:34:56.241077200Z"
    }
   }
  },
  {
   "cell_type": "code",
   "execution_count": 14,
   "outputs": [
    {
     "data": {
      "text/plain": "Unnamed: 0                   0\ncountry                     63\ndescription                  0\ndesignation              37465\npoints                       0\nprice                     8996\nprovince                    63\nregion_1                 21247\nregion_2                 79460\ntaster_name              26244\ntaster_twitter_handle    31213\ntitle                        0\nvariety                      1\nwinery                       0\ndtype: int64"
     },
     "execution_count": 14,
     "metadata": {},
     "output_type": "execute_result"
    }
   ],
   "source": [
    "wine_df.isna().sum()"
   ],
   "metadata": {
    "collapsed": false,
    "ExecuteTime": {
     "end_time": "2023-10-12T06:34:56.404631900Z",
     "start_time": "2023-10-12T06:34:56.257229700Z"
    }
   }
  },
  {
   "cell_type": "code",
   "execution_count": 26,
   "outputs": [
    {
     "data": {
      "text/plain": "        Unnamed: 0   country  \\\n0                0     Italy   \n1                1  Portugal   \n2                2        US   \n3                3        US   \n4                4        US   \n...            ...       ...   \n129966      129966   Germany   \n129967      129967        US   \n129968      129968    France   \n129969      129969    France   \n129970      129970    France   \n\n                                              description  \\\n0       Aromas include tropical fruit, broom, brimston...   \n1       This is ripe and fruity, a wine that is smooth...   \n2       Tart and snappy, the flavors of lime flesh and...   \n3       Pineapple rind, lemon pith and orange blossom ...   \n4       Much like the regular bottling from 2012, this...   \n...                                                   ...   \n129966  Notes of honeysuckle and cantaloupe sweeten th...   \n129967  Citation is given as much as a decade of bottl...   \n129968  Well-drained gravel soil gives this wine its c...   \n129969  A dry style of Pinot Gris, this is crisp with ...   \n129970  Big, rich and off-dry, this is powered by inte...   \n\n                                   designation  points  price  \\\n0                                 Vulkà Bianco      87    NaN   \n1                                     Avidagos      87   15.0   \n2                                          NaN      87   14.0   \n3                         Reserve Late Harvest      87   13.0   \n4           Vintner's Reserve Wild Child Block      87   65.0   \n...                                        ...     ...    ...   \n129966  Brauneberger Juffer-Sonnenuhr Spätlese      90   28.0   \n129967                                     NaN      90   75.0   \n129968                                   Kritt      90   30.0   \n129969                                     NaN      90   32.0   \n129970           Lieu-dit Harth Cuvée Caroline      90   21.0   \n\n                 province             region_1           region_2  \\\n0       Sicily & Sardinia                 Etna                NaN   \n1                   Douro                  NaN                NaN   \n2                  Oregon    Willamette Valley  Willamette Valley   \n3                Michigan  Lake Michigan Shore                NaN   \n4                  Oregon    Willamette Valley  Willamette Valley   \n...                   ...                  ...                ...   \n129966              Mosel                  NaN                NaN   \n129967             Oregon               Oregon       Oregon Other   \n129968             Alsace               Alsace                NaN   \n129969             Alsace               Alsace                NaN   \n129970             Alsace               Alsace                NaN   \n\n               taster_name taster_twitter_handle  \\\n0            Kerin O’Keefe          @kerinokeefe   \n1               Roger Voss            @vossroger   \n2             Paul Gregutt           @paulgwine    \n3       Alexander Peartree                   NaN   \n4             Paul Gregutt           @paulgwine    \n...                    ...                   ...   \n129966  Anna Lee C. Iijima                   NaN   \n129967        Paul Gregutt           @paulgwine    \n129968          Roger Voss            @vossroger   \n129969          Roger Voss            @vossroger   \n129970          Roger Voss            @vossroger   \n\n                                                    title         variety  \\\n0                       Nicosia 2013 Vulkà Bianco  (Etna)     White Blend   \n1           Quinta dos Avidagos 2011 Avidagos Red (Douro)  Portuguese Red   \n2           Rainstorm 2013 Pinot Gris (Willamette Valley)      Pinot Gris   \n3       St. Julian 2013 Reserve Late Harvest Riesling ...        Riesling   \n4       Sweet Cheeks 2012 Vintner's Reserve Wild Child...      Pinot Noir   \n...                                                   ...             ...   \n129966  Dr. H. Thanisch (Erben Müller-Burggraef) 2013 ...        Riesling   \n129967                  Citation 2004 Pinot Noir (Oregon)      Pinot Noir   \n129968  Domaine Gresser 2013 Kritt Gewurztraminer (Als...  Gewürztraminer   \n129969      Domaine Marcel Deiss 2012 Pinot Gris (Alsace)      Pinot Gris   \n129970  Domaine Schoffit 2012 Lieu-dit Harth Cuvée Car...  Gewürztraminer   \n\n                                          winery  \n0                                        Nicosia  \n1                            Quinta dos Avidagos  \n2                                      Rainstorm  \n3                                     St. Julian  \n4                                   Sweet Cheeks  \n...                                          ...  \n129966  Dr. H. Thanisch (Erben Müller-Burggraef)  \n129967                                  Citation  \n129968                           Domaine Gresser  \n129969                      Domaine Marcel Deiss  \n129970                          Domaine Schoffit  \n\n[129971 rows x 14 columns]",
      "text/html": "<div>\n<style scoped>\n    .dataframe tbody tr th:only-of-type {\n        vertical-align: middle;\n    }\n\n    .dataframe tbody tr th {\n        vertical-align: top;\n    }\n\n    .dataframe thead th {\n        text-align: right;\n    }\n</style>\n<table border=\"1\" class=\"dataframe\">\n  <thead>\n    <tr style=\"text-align: right;\">\n      <th></th>\n      <th>Unnamed: 0</th>\n      <th>country</th>\n      <th>description</th>\n      <th>designation</th>\n      <th>points</th>\n      <th>price</th>\n      <th>province</th>\n      <th>region_1</th>\n      <th>region_2</th>\n      <th>taster_name</th>\n      <th>taster_twitter_handle</th>\n      <th>title</th>\n      <th>variety</th>\n      <th>winery</th>\n    </tr>\n  </thead>\n  <tbody>\n    <tr>\n      <th>0</th>\n      <td>0</td>\n      <td>Italy</td>\n      <td>Aromas include tropical fruit, broom, brimston...</td>\n      <td>Vulkà Bianco</td>\n      <td>87</td>\n      <td>NaN</td>\n      <td>Sicily &amp; Sardinia</td>\n      <td>Etna</td>\n      <td>NaN</td>\n      <td>Kerin O’Keefe</td>\n      <td>@kerinokeefe</td>\n      <td>Nicosia 2013 Vulkà Bianco  (Etna)</td>\n      <td>White Blend</td>\n      <td>Nicosia</td>\n    </tr>\n    <tr>\n      <th>1</th>\n      <td>1</td>\n      <td>Portugal</td>\n      <td>This is ripe and fruity, a wine that is smooth...</td>\n      <td>Avidagos</td>\n      <td>87</td>\n      <td>15.0</td>\n      <td>Douro</td>\n      <td>NaN</td>\n      <td>NaN</td>\n      <td>Roger Voss</td>\n      <td>@vossroger</td>\n      <td>Quinta dos Avidagos 2011 Avidagos Red (Douro)</td>\n      <td>Portuguese Red</td>\n      <td>Quinta dos Avidagos</td>\n    </tr>\n    <tr>\n      <th>2</th>\n      <td>2</td>\n      <td>US</td>\n      <td>Tart and snappy, the flavors of lime flesh and...</td>\n      <td>NaN</td>\n      <td>87</td>\n      <td>14.0</td>\n      <td>Oregon</td>\n      <td>Willamette Valley</td>\n      <td>Willamette Valley</td>\n      <td>Paul Gregutt</td>\n      <td>@paulgwine</td>\n      <td>Rainstorm 2013 Pinot Gris (Willamette Valley)</td>\n      <td>Pinot Gris</td>\n      <td>Rainstorm</td>\n    </tr>\n    <tr>\n      <th>3</th>\n      <td>3</td>\n      <td>US</td>\n      <td>Pineapple rind, lemon pith and orange blossom ...</td>\n      <td>Reserve Late Harvest</td>\n      <td>87</td>\n      <td>13.0</td>\n      <td>Michigan</td>\n      <td>Lake Michigan Shore</td>\n      <td>NaN</td>\n      <td>Alexander Peartree</td>\n      <td>NaN</td>\n      <td>St. Julian 2013 Reserve Late Harvest Riesling ...</td>\n      <td>Riesling</td>\n      <td>St. Julian</td>\n    </tr>\n    <tr>\n      <th>4</th>\n      <td>4</td>\n      <td>US</td>\n      <td>Much like the regular bottling from 2012, this...</td>\n      <td>Vintner's Reserve Wild Child Block</td>\n      <td>87</td>\n      <td>65.0</td>\n      <td>Oregon</td>\n      <td>Willamette Valley</td>\n      <td>Willamette Valley</td>\n      <td>Paul Gregutt</td>\n      <td>@paulgwine</td>\n      <td>Sweet Cheeks 2012 Vintner's Reserve Wild Child...</td>\n      <td>Pinot Noir</td>\n      <td>Sweet Cheeks</td>\n    </tr>\n    <tr>\n      <th>...</th>\n      <td>...</td>\n      <td>...</td>\n      <td>...</td>\n      <td>...</td>\n      <td>...</td>\n      <td>...</td>\n      <td>...</td>\n      <td>...</td>\n      <td>...</td>\n      <td>...</td>\n      <td>...</td>\n      <td>...</td>\n      <td>...</td>\n      <td>...</td>\n    </tr>\n    <tr>\n      <th>129966</th>\n      <td>129966</td>\n      <td>Germany</td>\n      <td>Notes of honeysuckle and cantaloupe sweeten th...</td>\n      <td>Brauneberger Juffer-Sonnenuhr Spätlese</td>\n      <td>90</td>\n      <td>28.0</td>\n      <td>Mosel</td>\n      <td>NaN</td>\n      <td>NaN</td>\n      <td>Anna Lee C. Iijima</td>\n      <td>NaN</td>\n      <td>Dr. H. Thanisch (Erben Müller-Burggraef) 2013 ...</td>\n      <td>Riesling</td>\n      <td>Dr. H. Thanisch (Erben Müller-Burggraef)</td>\n    </tr>\n    <tr>\n      <th>129967</th>\n      <td>129967</td>\n      <td>US</td>\n      <td>Citation is given as much as a decade of bottl...</td>\n      <td>NaN</td>\n      <td>90</td>\n      <td>75.0</td>\n      <td>Oregon</td>\n      <td>Oregon</td>\n      <td>Oregon Other</td>\n      <td>Paul Gregutt</td>\n      <td>@paulgwine</td>\n      <td>Citation 2004 Pinot Noir (Oregon)</td>\n      <td>Pinot Noir</td>\n      <td>Citation</td>\n    </tr>\n    <tr>\n      <th>129968</th>\n      <td>129968</td>\n      <td>France</td>\n      <td>Well-drained gravel soil gives this wine its c...</td>\n      <td>Kritt</td>\n      <td>90</td>\n      <td>30.0</td>\n      <td>Alsace</td>\n      <td>Alsace</td>\n      <td>NaN</td>\n      <td>Roger Voss</td>\n      <td>@vossroger</td>\n      <td>Domaine Gresser 2013 Kritt Gewurztraminer (Als...</td>\n      <td>Gewürztraminer</td>\n      <td>Domaine Gresser</td>\n    </tr>\n    <tr>\n      <th>129969</th>\n      <td>129969</td>\n      <td>France</td>\n      <td>A dry style of Pinot Gris, this is crisp with ...</td>\n      <td>NaN</td>\n      <td>90</td>\n      <td>32.0</td>\n      <td>Alsace</td>\n      <td>Alsace</td>\n      <td>NaN</td>\n      <td>Roger Voss</td>\n      <td>@vossroger</td>\n      <td>Domaine Marcel Deiss 2012 Pinot Gris (Alsace)</td>\n      <td>Pinot Gris</td>\n      <td>Domaine Marcel Deiss</td>\n    </tr>\n    <tr>\n      <th>129970</th>\n      <td>129970</td>\n      <td>France</td>\n      <td>Big, rich and off-dry, this is powered by inte...</td>\n      <td>Lieu-dit Harth Cuvée Caroline</td>\n      <td>90</td>\n      <td>21.0</td>\n      <td>Alsace</td>\n      <td>Alsace</td>\n      <td>NaN</td>\n      <td>Roger Voss</td>\n      <td>@vossroger</td>\n      <td>Domaine Schoffit 2012 Lieu-dit Harth Cuvée Car...</td>\n      <td>Gewürztraminer</td>\n      <td>Domaine Schoffit</td>\n    </tr>\n  </tbody>\n</table>\n<p>129971 rows × 14 columns</p>\n</div>"
     },
     "execution_count": 26,
     "metadata": {},
     "output_type": "execute_result"
    }
   ],
   "source": [
    "new_wine_df = wine_df[wine_df['region_1'].notna()]\n",
    "\n",
    "new_wine_df"
   ],
   "metadata": {
    "collapsed": false,
    "ExecuteTime": {
     "end_time": "2023-10-12T06:37:40.686827800Z",
     "start_time": "2023-10-12T06:37:40.590836500Z"
    }
   }
  },
  {
   "cell_type": "code",
   "execution_count": 16,
   "outputs": [
    {
     "data": {
      "text/plain": "        Unnamed: 0 country                                        description  \\\n2                2      US  Tart and snappy, the flavors of lime flesh and...   \n3                3      US  Pineapple rind, lemon pith and orange blossom ...   \n4                4      US  Much like the regular bottling from 2012, this...   \n10              10      US  Soft, supple plum envelopes an oaky structure ...   \n12              12      US  Slightly reduced, this wine offers a chalky, t...   \n...            ...     ...                                                ...   \n129945      129945      US  Hailing from one of the more popular vineyards...   \n129949      129949      US  There's no bones about the use of oak in this ...   \n129950      129950      US  This opens with herbaceous dollops of thyme an...   \n129952      129952      US  This Zinfandel from the eastern section of Nap...   \n129967      129967      US  Citation is given as much as a decade of bottl...   \n\n                               designation  points  price    province  \\\n2                                      NaN      87   14.0      Oregon   \n3                     Reserve Late Harvest      87   13.0    Michigan   \n4       Vintner's Reserve Wild Child Block      87   65.0      Oregon   \n10                          Mountain Cuvée      87   19.0  California   \n12                                     NaN      87   34.0  California   \n...                                    ...     ...    ...         ...   \n129945    Jurassic Park Vineyard Old Vines      90   20.0  California   \n129949                    Barrel Fermented      90   35.0  California   \n129950                       Blocks 7 & 22      90   35.0  California   \n129952                                 NaN      90   22.0  California   \n129967                                 NaN      90   75.0      Oregon   \n\n                   region_1           region_2         taster_name  \\\n2         Willamette Valley  Willamette Valley        Paul Gregutt   \n3       Lake Michigan Shore                NaN  Alexander Peartree   \n4         Willamette Valley  Willamette Valley        Paul Gregutt   \n10              Napa Valley               Napa      Virginie Boone   \n12         Alexander Valley             Sonoma      Virginie Boone   \n...                     ...                ...                 ...   \n129945    Santa Ynez Valley      Central Coast       Matt Kettmann   \n129949          Napa Valley               Napa      Virginie Boone   \n129950          Napa Valley               Napa      Virginie Boone   \n129952        Chiles Valley               Napa      Virginie Boone   \n129967               Oregon       Oregon Other        Paul Gregutt   \n\n       taster_twitter_handle  \\\n2                @paulgwine    \n3                        NaN   \n4                @paulgwine    \n10                   @vboone   \n12                   @vboone   \n...                      ...   \n129945         @mattkettmann   \n129949               @vboone   \n129950               @vboone   \n129952               @vboone   \n129967           @paulgwine    \n\n                                                    title             variety  \\\n2           Rainstorm 2013 Pinot Gris (Willamette Valley)          Pinot Gris   \n3       St. Julian 2013 Reserve Late Harvest Riesling ...            Riesling   \n4       Sweet Cheeks 2012 Vintner's Reserve Wild Child...          Pinot Noir   \n10      Kirkland Signature 2011 Mountain Cuvée Caberne...  Cabernet Sauvignon   \n12      Louis M. Martini 2012 Cabernet Sauvignon (Alex...  Cabernet Sauvignon   \n...                                                   ...                 ...   \n129945  Birichino 2013 Jurassic Park Vineyard Old Vine...        Chenin Blanc   \n129949  Flora Springs 2013 Barrel Fermented Chardonnay...          Chardonnay   \n129950  Hendry 2012 Blocks 7 & 22 Zinfandel (Napa Valley)           Zinfandel   \n129952             Houdini 2011 Zinfandel (Chiles Valley)           Zinfandel   \n129967                  Citation 2004 Pinot Noir (Oregon)          Pinot Noir   \n\n                    winery  \n2                Rainstorm  \n3               St. Julian  \n4             Sweet Cheeks  \n10      Kirkland Signature  \n12        Louis M. Martini  \n...                    ...  \n129945           Birichino  \n129949       Flora Springs  \n129950              Hendry  \n129952             Houdini  \n129967            Citation  \n\n[54504 rows x 14 columns]",
      "text/html": "<div>\n<style scoped>\n    .dataframe tbody tr th:only-of-type {\n        vertical-align: middle;\n    }\n\n    .dataframe tbody tr th {\n        vertical-align: top;\n    }\n\n    .dataframe thead th {\n        text-align: right;\n    }\n</style>\n<table border=\"1\" class=\"dataframe\">\n  <thead>\n    <tr style=\"text-align: right;\">\n      <th></th>\n      <th>Unnamed: 0</th>\n      <th>country</th>\n      <th>description</th>\n      <th>designation</th>\n      <th>points</th>\n      <th>price</th>\n      <th>province</th>\n      <th>region_1</th>\n      <th>region_2</th>\n      <th>taster_name</th>\n      <th>taster_twitter_handle</th>\n      <th>title</th>\n      <th>variety</th>\n      <th>winery</th>\n    </tr>\n  </thead>\n  <tbody>\n    <tr>\n      <th>2</th>\n      <td>2</td>\n      <td>US</td>\n      <td>Tart and snappy, the flavors of lime flesh and...</td>\n      <td>NaN</td>\n      <td>87</td>\n      <td>14.0</td>\n      <td>Oregon</td>\n      <td>Willamette Valley</td>\n      <td>Willamette Valley</td>\n      <td>Paul Gregutt</td>\n      <td>@paulgwine</td>\n      <td>Rainstorm 2013 Pinot Gris (Willamette Valley)</td>\n      <td>Pinot Gris</td>\n      <td>Rainstorm</td>\n    </tr>\n    <tr>\n      <th>3</th>\n      <td>3</td>\n      <td>US</td>\n      <td>Pineapple rind, lemon pith and orange blossom ...</td>\n      <td>Reserve Late Harvest</td>\n      <td>87</td>\n      <td>13.0</td>\n      <td>Michigan</td>\n      <td>Lake Michigan Shore</td>\n      <td>NaN</td>\n      <td>Alexander Peartree</td>\n      <td>NaN</td>\n      <td>St. Julian 2013 Reserve Late Harvest Riesling ...</td>\n      <td>Riesling</td>\n      <td>St. Julian</td>\n    </tr>\n    <tr>\n      <th>4</th>\n      <td>4</td>\n      <td>US</td>\n      <td>Much like the regular bottling from 2012, this...</td>\n      <td>Vintner's Reserve Wild Child Block</td>\n      <td>87</td>\n      <td>65.0</td>\n      <td>Oregon</td>\n      <td>Willamette Valley</td>\n      <td>Willamette Valley</td>\n      <td>Paul Gregutt</td>\n      <td>@paulgwine</td>\n      <td>Sweet Cheeks 2012 Vintner's Reserve Wild Child...</td>\n      <td>Pinot Noir</td>\n      <td>Sweet Cheeks</td>\n    </tr>\n    <tr>\n      <th>10</th>\n      <td>10</td>\n      <td>US</td>\n      <td>Soft, supple plum envelopes an oaky structure ...</td>\n      <td>Mountain Cuvée</td>\n      <td>87</td>\n      <td>19.0</td>\n      <td>California</td>\n      <td>Napa Valley</td>\n      <td>Napa</td>\n      <td>Virginie Boone</td>\n      <td>@vboone</td>\n      <td>Kirkland Signature 2011 Mountain Cuvée Caberne...</td>\n      <td>Cabernet Sauvignon</td>\n      <td>Kirkland Signature</td>\n    </tr>\n    <tr>\n      <th>12</th>\n      <td>12</td>\n      <td>US</td>\n      <td>Slightly reduced, this wine offers a chalky, t...</td>\n      <td>NaN</td>\n      <td>87</td>\n      <td>34.0</td>\n      <td>California</td>\n      <td>Alexander Valley</td>\n      <td>Sonoma</td>\n      <td>Virginie Boone</td>\n      <td>@vboone</td>\n      <td>Louis M. Martini 2012 Cabernet Sauvignon (Alex...</td>\n      <td>Cabernet Sauvignon</td>\n      <td>Louis M. Martini</td>\n    </tr>\n    <tr>\n      <th>...</th>\n      <td>...</td>\n      <td>...</td>\n      <td>...</td>\n      <td>...</td>\n      <td>...</td>\n      <td>...</td>\n      <td>...</td>\n      <td>...</td>\n      <td>...</td>\n      <td>...</td>\n      <td>...</td>\n      <td>...</td>\n      <td>...</td>\n      <td>...</td>\n    </tr>\n    <tr>\n      <th>129945</th>\n      <td>129945</td>\n      <td>US</td>\n      <td>Hailing from one of the more popular vineyards...</td>\n      <td>Jurassic Park Vineyard Old Vines</td>\n      <td>90</td>\n      <td>20.0</td>\n      <td>California</td>\n      <td>Santa Ynez Valley</td>\n      <td>Central Coast</td>\n      <td>Matt Kettmann</td>\n      <td>@mattkettmann</td>\n      <td>Birichino 2013 Jurassic Park Vineyard Old Vine...</td>\n      <td>Chenin Blanc</td>\n      <td>Birichino</td>\n    </tr>\n    <tr>\n      <th>129949</th>\n      <td>129949</td>\n      <td>US</td>\n      <td>There's no bones about the use of oak in this ...</td>\n      <td>Barrel Fermented</td>\n      <td>90</td>\n      <td>35.0</td>\n      <td>California</td>\n      <td>Napa Valley</td>\n      <td>Napa</td>\n      <td>Virginie Boone</td>\n      <td>@vboone</td>\n      <td>Flora Springs 2013 Barrel Fermented Chardonnay...</td>\n      <td>Chardonnay</td>\n      <td>Flora Springs</td>\n    </tr>\n    <tr>\n      <th>129950</th>\n      <td>129950</td>\n      <td>US</td>\n      <td>This opens with herbaceous dollops of thyme an...</td>\n      <td>Blocks 7 &amp; 22</td>\n      <td>90</td>\n      <td>35.0</td>\n      <td>California</td>\n      <td>Napa Valley</td>\n      <td>Napa</td>\n      <td>Virginie Boone</td>\n      <td>@vboone</td>\n      <td>Hendry 2012 Blocks 7 &amp; 22 Zinfandel (Napa Valley)</td>\n      <td>Zinfandel</td>\n      <td>Hendry</td>\n    </tr>\n    <tr>\n      <th>129952</th>\n      <td>129952</td>\n      <td>US</td>\n      <td>This Zinfandel from the eastern section of Nap...</td>\n      <td>NaN</td>\n      <td>90</td>\n      <td>22.0</td>\n      <td>California</td>\n      <td>Chiles Valley</td>\n      <td>Napa</td>\n      <td>Virginie Boone</td>\n      <td>@vboone</td>\n      <td>Houdini 2011 Zinfandel (Chiles Valley)</td>\n      <td>Zinfandel</td>\n      <td>Houdini</td>\n    </tr>\n    <tr>\n      <th>129967</th>\n      <td>129967</td>\n      <td>US</td>\n      <td>Citation is given as much as a decade of bottl...</td>\n      <td>NaN</td>\n      <td>90</td>\n      <td>75.0</td>\n      <td>Oregon</td>\n      <td>Oregon</td>\n      <td>Oregon Other</td>\n      <td>Paul Gregutt</td>\n      <td>@paulgwine</td>\n      <td>Citation 2004 Pinot Noir (Oregon)</td>\n      <td>Pinot Noir</td>\n      <td>Citation</td>\n    </tr>\n  </tbody>\n</table>\n<p>54504 rows × 14 columns</p>\n</div>"
     },
     "execution_count": 16,
     "metadata": {},
     "output_type": "execute_result"
    }
   ],
   "source": [
    "american_wine_df = wine_df[wine_df['country'] == 'US']\n",
    "\n",
    "american_wine_df"
   ],
   "metadata": {
    "collapsed": false,
    "ExecuteTime": {
     "end_time": "2023-10-12T06:34:56.446817400Z",
     "start_time": "2023-10-12T06:34:56.340267600Z"
    }
   }
  },
  {
   "cell_type": "markdown",
   "source": [
    "### Exercise 10"
   ],
   "metadata": {
    "collapsed": false
   }
  },
  {
   "cell_type": "markdown",
   "metadata": {},
   "source": [
    "Define a function that takes a list of lists and returns a new list of lists with a student's name and their average grade in each sublist."
   ]
  },
  {
   "cell_type": "markdown",
   "metadata": {},
   "source": [
    "Example: \n",
    "```\n",
    "average_grade([['Alice', 60, 88, 44, 70], ['Joe', 44, 100, 80, 60, 50]])\n",
    "```\n",
    "\n",
    "Expected output:\n",
    "```\n",
    "[['Alice', 65.5], ['Joe', 66.8]]\n",
    "```"
   ]
  },
  {
   "cell_type": "code",
   "execution_count": 17,
   "outputs": [
    {
     "data": {
      "text/plain": "[['Alice', 65.5], ['Joe', 66.8]]"
     },
     "execution_count": 17,
     "metadata": {},
     "output_type": "execute_result"
    }
   ],
   "source": [
    "def average_grade(multi_list):\n",
    "    \"\"\"This function that takes a list of lists and returns a new list of lists with a student's name and their average grade in each sublist.\"\"\"\n",
    "    new_list = []\n",
    "\n",
    "    for l in multi_list:\n",
    "        name = l.pop(0)\n",
    "        list_length = len(l)\n",
    "        sum_list = sum(l)\n",
    "\n",
    "        new_list.append([name, sum_list / list_length])\n",
    "\n",
    "    return new_list\n",
    "\n",
    "\n",
    "average_grade([['Alice', 60, 88, 44, 70], ['Joe', 44, 100, 80, 60, 50]])"
   ],
   "metadata": {
    "collapsed": false,
    "ExecuteTime": {
     "end_time": "2023-10-12T06:34:56.447817600Z",
     "start_time": "2023-10-12T06:34:56.365176Z"
    }
   }
  },
  {
   "cell_type": "markdown",
   "metadata": {},
   "source": [
    "### Exercise 11"
   ]
  },
  {
   "cell_type": "markdown",
   "metadata": {},
   "source": [
    "Sort a tuple of tuples by 2nd item\n",
    "\n",
    "```\n",
    "tuple1 = (('a', 23),('b', 37),('c', 11), ('d',29))\n",
    "```\n",
    "Expected output:\n",
    "```\n",
    "(('c', 11), ('a', 23), ('d', 29), ('b', 37))\n",
    "```"
   ]
  },
  {
   "cell_type": "code",
   "execution_count": 18,
   "outputs": [
    {
     "data": {
      "text/plain": "[('c', 11), ('a', 23), ('d', 29), ('b', 37)]"
     },
     "execution_count": 18,
     "metadata": {},
     "output_type": "execute_result"
    }
   ],
   "source": [
    "tuple1 = (('a', 23), ('b', 37), ('c', 11), ('d', 29))\n",
    "\n",
    "sorted(tuple1, key=lambda x: x[1])"
   ],
   "metadata": {
    "collapsed": false,
    "ExecuteTime": {
     "end_time": "2023-10-12T06:34:56.447817600Z",
     "start_time": "2023-10-12T06:34:56.371855100Z"
    }
   }
  },
  {
   "cell_type": "markdown",
   "metadata": {},
   "source": [
    "## Exercise 12"
   ]
  },
  {
   "cell_type": "markdown",
   "metadata": {},
   "source": [
    "a) What is the meaning of `recursion` in python programming? Provide one example of a function that recursion would be useful?\n",
    "\n",
    "Recursion in python is basically a function calling itself.\n",
    "For eg:"
   ]
  },
  {
   "cell_type": "code",
   "execution_count": 19,
   "outputs": [
    {
     "name": "stdout",
     "output_type": "stream",
     "text": [
      "5\n",
      "4\n",
      "3\n",
      "2\n",
      "1\n",
      "0\n"
     ]
    }
   ],
   "source": [
    "def countdown(n: int):\n",
    "    \"\"\"This function takes a number as int and counts down to 0 from the number. It does this by calling itself and subtracting 1 from the number if it is bigger than 0.\"\"\"\n",
    "    print(n)\n",
    "\n",
    "    if n == 0:\n",
    "        return\n",
    "    else:\n",
    "        countdown(n - 1)\n",
    "\n",
    "\n",
    "countdown(5)"
   ],
   "metadata": {
    "collapsed": false,
    "ExecuteTime": {
     "end_time": "2023-10-12T06:34:56.448817900Z",
     "start_time": "2023-10-12T06:34:56.376760600Z"
    }
   }
  },
  {
   "cell_type": "markdown",
   "metadata": {},
   "source": [
    "b) The Ackermann function, A(m, n), is defined:*\n",
    "\n",
    "    \n",
    "$$A(m,n)={\\begin{cases}n+1&{\\mbox{if }}m=0\\\\A(m-1,1)&{\\mbox{if }}m>0{\\mbox{ and }}n=0\\\\A(m-1,A(m,n-1))&{\\mbox{if }}m>0{\\mbox{ and }}n>0.\\end{cases}}$$"
   ]
  },
  {
   "cell_type": "markdown",
   "metadata": {},
   "source": [
    "*See http://en.wikipedia.org/wiki/Ackermann_function. Write a function named `ack` that evaluates the Ackermann function. Use your function to evaluate `ack(3, 4)`, which should be 125. What happens for larger values of `m` and `n`?"
   ]
  },
  {
   "cell_type": "code",
   "execution_count": 20,
   "outputs": [
    {
     "data": {
      "text/plain": "125"
     },
     "execution_count": 20,
     "metadata": {},
     "output_type": "execute_result"
    }
   ],
   "source": [
    "def ack(m: int, n: int) -> int:\n",
    "    \"\"\"This function is an Ackermann function which is a recursive mathematical function that is particularly known for its deep recursion. It takes two numbers as int and grows very quickly and is used to test the efficiency of various programming languages.\"\"\"\n",
    "    if m == 0:\n",
    "        return n + 1\n",
    "    elif n == 0:\n",
    "        return ack(m - 1, 1)\n",
    "    else:\n",
    "        return ack(m - 1, ack(m, n - 1))\n",
    "\n",
    "\n",
    "ack(3, 4)\n",
    "\n",
    "# For larger values of m and n the functions gets slower and slower, until it returns an error."
   ],
   "metadata": {
    "collapsed": false,
    "ExecuteTime": {
     "end_time": "2023-10-12T06:34:56.448817900Z",
     "start_time": "2023-10-12T06:34:56.381322Z"
    }
   }
  },
  {
   "cell_type": "markdown",
   "metadata": {},
   "source": [
    "# Exercise 13"
   ]
  },
  {
   "cell_type": "markdown",
   "metadata": {},
   "source": [
    "Write a function called `is_reverse` that takes two words as arguments and check whether the words are reverse of each other. For instance, the result of running this code \n",
    "\n",
    "`is_reverse(\"stop\", \"pots\")`\n",
    "\n",
    "should be `True`."
   ]
  },
  {
   "cell_type": "code",
   "execution_count": 21,
   "outputs": [
    {
     "data": {
      "text/plain": "True"
     },
     "execution_count": 21,
     "metadata": {},
     "output_type": "execute_result"
    }
   ],
   "source": [
    "def check_reverse(word1: str, word2: str) -> bool:\n",
    "    \"\"\"This function takes two words as string and checks if they are reverse of each other, by reversing the first word and comparing it with the second. If the words are reverse of each other it returns True and False otherwise.\"\"\"\n",
    "    reverse_word1 = word1[::-1]\n",
    "\n",
    "    if reverse_word1 == word2:\n",
    "        return True\n",
    "\n",
    "    return False\n",
    "\n",
    "\n",
    "check_reverse('stop', 'pots')"
   ],
   "metadata": {
    "collapsed": false,
    "ExecuteTime": {
     "end_time": "2023-10-12T06:34:56.448817900Z",
     "start_time": "2023-10-12T06:34:56.387539500Z"
    }
   }
  },
  {
   "cell_type": "markdown",
   "metadata": {},
   "source": [
    "# Exercise 14"
   ]
  },
  {
   "cell_type": "markdown",
   "source": [
    "a) What is the meaning of `list comprehension` in python? Provide one example.\n",
    "\n",
    "List comprehension basically offers a shorter syntax when creating a new list based on the values of an existing list.\n",
    "For Eg:"
   ],
   "metadata": {
    "collapsed": false
   }
  },
  {
   "cell_type": "code",
   "execution_count": 22,
   "outputs": [
    {
     "data": {
      "text/plain": "['Canada', 'China']"
     },
     "execution_count": 22,
     "metadata": {},
     "output_type": "execute_result"
    }
   ],
   "source": [
    "countries = [\"Nepal\", \"Canada\", \"China\", \"India\", \"England\"]\n",
    "\n",
    "new_countries = [c for c in countries if c[0] == \"C\" in c]\n",
    "\n",
    "new_countries"
   ],
   "metadata": {
    "collapsed": false,
    "ExecuteTime": {
     "end_time": "2023-10-12T06:34:56.448817900Z",
     "start_time": "2023-10-12T06:34:56.392545900Z"
    }
   }
  },
  {
   "cell_type": "markdown",
   "source": [
    "b) Answer the below question using list comprehension.\n",
    "Consider a list of strings, like this: ['one', 'two', 'three', 'four', 'five', 'six']. Write a list comprehension that produces a list with tuples where the first element of the tuple is the length of any element in the initial list that has more than 3 characters and the second element of the tuple is showing the length of the element. "
   ],
   "metadata": {
    "collapsed": false
   }
  },
  {
   "cell_type": "code",
   "execution_count": 23,
   "outputs": [
    {
     "data": {
      "text/plain": "[(5, 'three'), (4, 'four'), (4, 'five')]"
     },
     "execution_count": 23,
     "metadata": {},
     "output_type": "execute_result"
    }
   ],
   "source": [
    "string_list = ['one', 'two', 'three', 'four', 'five', 'six']\n",
    "\n",
    "new_string_list = [(len(s), s) for s in string_list if len(s) > 3]\n",
    "\n",
    "new_string_list"
   ],
   "metadata": {
    "collapsed": false,
    "ExecuteTime": {
     "end_time": "2023-10-12T06:34:56.449818100Z",
     "start_time": "2023-10-12T06:34:56.400964700Z"
    }
   }
  },
  {
   "cell_type": "markdown",
   "metadata": {},
   "source": [
    "# Optional Question"
   ]
  },
  {
   "cell_type": "markdown",
   "metadata": {},
   "source": [
    "Create a program that performs text analysis on a given text file. The program should do the following:\n",
    "\n",
    "- Read in the text file and store its contents as a string.\n",
    "- Use a dictionary to store the frequency of each word in the text file.\n",
    "- Remove any punctuation from the text file, such as commas and periods.\n",
    "- Normalize the words by converting them to lowercase.\n",
    "- Print out the 20 most frequent words and their frequency.\n",
    "- Additionally, add the option for the user to search for a specific word in the text and display its frequency. Use a set to keep track of the words that have been searched for, and print a message if the word is not found in the text."
   ]
  },
  {
   "cell_type": "code",
   "execution_count": 24,
   "metadata": {
    "ExecuteTime": {
     "end_time": "2023-10-12T06:34:56.509091300Z",
     "start_time": "2023-10-12T06:34:56.404631900Z"
    }
   },
   "outputs": [
    {
     "name": "stdout",
     "output_type": "stream",
     "text": [
      "20 Highest Occurring Words:\n",
      " {'is': 10, 'better': 8, 'than': 8, 'to': 5, 'the': 5, 'although': 3, 'never': 3, 'be': 3, 'one': 3, 'idea': 3, 'complex': 2, 'special': 2, 'should': 2, 'unless': 2, 'of': 2, 'obvious': 2, 'way': 2, 'do': 2, 'it': 2, 'may': 2}\n",
      "Word Frequency:  Frequency of word \"Better\" is \"8\".\n"
     ]
    }
   ],
   "source": [
    "def read_txt_file(file):\n",
    "    \"\"\"This function takes a file as a parameter and reads it and returns the contents of the file as a string.\"\"\"\n",
    "    with open(file) as zen:\n",
    "        content = zen.read()\n",
    "\n",
    "    return content\n",
    "\n",
    "\n",
    "def store_content_to_dict(content: str) -> dict:\n",
    "    \"\"\"This function takes a string and converts it to a dictionary, where the key is a word in the string and the value is the number of times the word occurs in the string.\"\"\"\n",
    "    str_list = content.split()\n",
    "    str2 = []\n",
    "    dict2 = {}\n",
    "\n",
    "    for i in str_list:\n",
    "        if i not in str2:\n",
    "            str2.append(i)\n",
    "\n",
    "    for i in range(0, len(str2)):\n",
    "        key = str2[i]\n",
    "        value = str_list.count(str2[i])\n",
    "\n",
    "        dict2[key] = value\n",
    "\n",
    "    return dict2\n",
    "\n",
    "\n",
    "def clean_text(text: str) -> str:\n",
    "    \"\"\"This function takes a string and converts it all to lowercase while also removing special characters and punctuation.\"\"\"\n",
    "    return (text\n",
    "            .lower()\n",
    "            .replace('!', '')\n",
    "            .replace('.', '')\n",
    "            .replace(',', '')\n",
    "            .replace(':', '')\n",
    "            .replace(\"'\", '')\n",
    "            .replace('*', '')\n",
    "            .replace('-', ''))\n",
    "\n",
    "\n",
    "def sort_dict_desc(text_dict: dict) -> dict:\n",
    "    \"\"\"This function takes a dictionary and sorts it in descending order according to the value of the dictionary keys.\"\"\"\n",
    "    sorted_dict = {k: v for k, v in sorted(text_dict.items(), key=lambda item: item[1], reverse=True)}\n",
    "\n",
    "    return sorted_dict\n",
    "\n",
    "\n",
    "def find_word(text_dict: dict, word: str) -> str:\n",
    "    \"\"\"This function takes a dictionary and a string and check if the word is in the dictionary as a key and returns a string informing about the frequency of the string in the dictionary.\"\"\"\n",
    "    lower_word = word.lower()\n",
    "\n",
    "    if lower_word in text_dict:\n",
    "        return f'Frequency of word \"{word}\" is \"{text_dict[lower_word]}\".'\n",
    "\n",
    "    return 'Word not found.'\n",
    "\n",
    "\n",
    "def word_frequency(txt_file, word: str) -> None:\n",
    "    text_content = clean_text(read_txt_file(txt_file))\n",
    "    text_dict = store_content_to_dict(text_content)\n",
    "    sorted_dict = sort_dict_desc(text_dict)\n",
    "\n",
    "    highest_occurring = {k: sorted_dict[k] for k in list(sorted_dict)[:20]}\n",
    "    word_freq = find_word(sorted_dict, word)\n",
    "\n",
    "    print('20 Highest Occurring Words:\\n', highest_occurring)\n",
    "    print('Word Frequency: ', word_freq)\n",
    "\n",
    "\n",
    "word_frequency('zen_of_python.txt', 'Better')"
   ]
  },
  {
   "cell_type": "code",
   "execution_count": 24,
   "outputs": [],
   "source": [],
   "metadata": {
    "collapsed": false,
    "ExecuteTime": {
     "end_time": "2023-10-12T06:34:56.509091300Z",
     "start_time": "2023-10-12T06:34:56.418194Z"
    }
   }
  }
 ],
 "metadata": {
  "anaconda-cloud": {},
  "kernelspec": {
   "display_name": "Python 3 (ipykernel)",
   "language": "python",
   "name": "python3"
  },
  "language_info": {
   "codemirror_mode": {
    "name": "ipython",
    "version": 3
   },
   "file_extension": ".py",
   "mimetype": "text/x-python",
   "name": "python",
   "nbconvert_exporter": "python",
   "pygments_lexer": "ipython3",
   "version": "3.9.12"
  }
 },
 "nbformat": 4,
 "nbformat_minor": 1
}
