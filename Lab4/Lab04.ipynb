{
 "cells": [
  {
   "cell_type": "markdown",
   "metadata": {},
   "source": [
    "<h1 align=center><font size = 5>Lab04</font></h1>\n",
    "<h1 align=center><font size = 4>Python Basics </font></h1>\n"
   ]
  },
  {
   "cell_type": "markdown",
   "metadata": {},
   "source": [
    "### Exercise 1"
   ]
  },
  {
   "cell_type": "markdown",
   "metadata": {},
   "source": [
    "Given a Python dictionary, Change Brad’s salary to 8500"
   ]
  },
  {
   "cell_type": "code",
   "execution_count": 2,
   "metadata": {
    "ExecuteTime": {
     "end_time": "2023-09-28T00:04:27.028563500Z",
     "start_time": "2023-09-28T00:04:27.008988800Z"
    }
   },
   "outputs": [
    {
     "data": {
      "text/plain": "{'emp1': {'name': 'Jhon', 'salary': 7500},\n 'emp2': {'name': 'Emma', 'salary': 8000},\n 'emp3': {'name': 'Brad', 'salary': 8500}}"
     },
     "execution_count": 2,
     "metadata": {},
     "output_type": "execute_result"
    }
   ],
   "source": [
    "my_dict = {\n",
    "    'emp1': {'name': 'Jhon', 'salary': 7500},\n",
    "    'emp2': {'name': 'Emma', 'salary': 8000},\n",
    "    'emp3': {'name': 'Brad', 'salary': 6500}\n",
    "}\n",
    "\n",
    "my_dict['emp3']['salary'] = 8500\n",
    "my_dict"
   ]
  },
  {
   "cell_type": "markdown",
   "metadata": {},
   "source": [
    "### Exercise 2"
   ]
  },
  {
   "cell_type": "markdown",
   "metadata": {},
   "source": [
    " Access the value of key 'history'"
   ]
  },
  {
   "cell_type": "code",
   "execution_count": 3,
   "metadata": {
    "ExecuteTime": {
     "end_time": "2023-09-28T00:05:17.396743Z",
     "start_time": "2023-09-28T00:05:17.373305700Z"
    }
   },
   "outputs": [
    {
     "data": {
      "text/plain": "80"
     },
     "execution_count": 3,
     "metadata": {},
     "output_type": "execute_result"
    }
   ],
   "source": [
    "my_dict1 = {\n",
    "    \"class\": {\n",
    "        \"student\": {\n",
    "            \"name\": \"Mike\",\n",
    "            \"marks\": {\n",
    "                \"physics\": 70,\n",
    "                \"history\": 80\n",
    "            }\n",
    "        }\n",
    "    }\n",
    "}\n",
    "\n",
    "my_dict1['class']['student']['marks']['history']"
   ]
  },
  {
   "cell_type": "markdown",
   "metadata": {},
   "source": [
    "### Exercise 3"
   ]
  },
  {
   "cell_type": "markdown",
   "metadata": {},
   "source": [
    "Copy element 44 and 55 from the following tuple into a new tuple"
   ]
  },
  {
   "cell_type": "code",
   "execution_count": 9,
   "metadata": {
    "ExecuteTime": {
     "end_time": "2023-09-28T00:09:58.232766900Z",
     "start_time": "2023-09-28T00:09:58.223315700Z"
    }
   },
   "outputs": [
    {
     "data": {
      "text/plain": "(44, 55)"
     },
     "execution_count": 9,
     "metadata": {},
     "output_type": "execute_result"
    }
   ],
   "source": [
    "tuple1 = (11, 22, 33, 44, 55, 66)\n",
    "\n",
    "new_tuple = (tuple1[3], tuple1[4])\n",
    "new_tuple"
   ]
  },
  {
   "cell_type": "markdown",
   "metadata": {},
   "source": [
    "### Exercise 4"
   ]
  },
  {
   "cell_type": "markdown",
   "metadata": {},
   "source": [
    "Add a list of elements to a given set - order is not a concern in set"
   ]
  },
  {
   "cell_type": "code",
   "execution_count": 10,
   "metadata": {
    "ExecuteTime": {
     "end_time": "2023-09-28T00:10:00.988516600Z",
     "start_time": "2023-09-28T00:10:00.968879900Z"
    }
   },
   "outputs": [
    {
     "data": {
      "text/plain": "{'Black', 'Blue', 'Green', 'Orange', 'Red', 'Yellow'}"
     },
     "execution_count": 10,
     "metadata": {},
     "output_type": "execute_result"
    }
   ],
   "source": [
    "sampleSet = {\"Yellow\", \"Orange\", \"Black\"}\n",
    "sampleList = [\"Blue\", \"Green\", \"Red\"]\n",
    "\n",
    "sampleSet.update(sampleList)\n",
    "sampleSet"
   ]
  },
  {
   "cell_type": "markdown",
   "metadata": {},
   "source": [
    "### Exercise 5"
   ]
  },
  {
   "cell_type": "markdown",
   "metadata": {},
   "source": [
    "Access value 20 from the following tuple"
   ]
  },
  {
   "cell_type": "code",
   "execution_count": 11,
   "metadata": {
    "ExecuteTime": {
     "end_time": "2023-09-28T00:10:03.661404800Z",
     "start_time": "2023-09-28T00:10:03.650729700Z"
    }
   },
   "outputs": [
    {
     "data": {
      "text/plain": "20"
     },
     "execution_count": 11,
     "metadata": {},
     "output_type": "execute_result"
    }
   ],
   "source": [
    "tuple2 = (\"Orange\", [10, 20, 30], (5, 15, 25))\n",
    "\n",
    "tuple2[1][1]"
   ]
  },
  {
   "cell_type": "markdown",
   "metadata": {},
   "source": [
    "### Exercise 6"
   ]
  },
  {
   "cell_type": "markdown",
   "metadata": {},
   "source": [
    "Modify the first item (32) of a list inside a following tuple to 322."
   ]
  },
  {
   "cell_type": "code",
   "execution_count": 12,
   "metadata": {
    "ExecuteTime": {
     "end_time": "2023-09-28T00:10:06.225555400Z",
     "start_time": "2023-09-28T00:10:06.207667200Z"
    }
   },
   "outputs": [
    {
     "data": {
      "text/plain": "(11, [322, 33], 44, 55)"
     },
     "execution_count": 12,
     "metadata": {},
     "output_type": "execute_result"
    }
   ],
   "source": [
    "tuple3 = (11, [32, 33], 44, 55)\n",
    "\n",
    "tuple3[1][0] = 322\n",
    "tuple3"
   ]
  },
  {
   "cell_type": "markdown",
   "metadata": {},
   "source": [
    "### Exercise 7"
   ]
  },
  {
   "cell_type": "markdown",
   "metadata": {},
   "source": [
    "Write a Python program to sum all the values in the below dictionary with all the values in the list."
   ]
  },
  {
   "cell_type": "code",
   "execution_count": 18,
   "metadata": {
    "ExecuteTime": {
     "end_time": "2023-09-28T00:17:36.575523300Z",
     "start_time": "2023-09-28T00:17:36.564505500Z"
    }
   },
   "outputs": [
    {
     "data": {
      "text/plain": "[393, 493]"
     },
     "execution_count": 18,
     "metadata": {},
     "output_type": "execute_result"
    }
   ],
   "source": [
    "my_dict2 = {'data1': 100, 'data2': -54, 'data3': 247}\n",
    "my_list = [100, 200]\n",
    "\n",
    "\n",
    "def sum_dict_to_list(dict_values, list):\n",
    "    dictionary_sum = 0\n",
    "    new_list = []\n",
    "\n",
    "    for i in dict_values:\n",
    "        dictionary_sum = dictionary_sum + i\n",
    "\n",
    "    for j in list:\n",
    "        new_list.append(j + dictionary_sum)\n",
    "\n",
    "    return new_list\n",
    "\n",
    "\n",
    "sum_dict_to_list(my_dict2.values(), my_list)"
   ]
  },
  {
   "cell_type": "markdown",
   "metadata": {},
   "source": [
    "###  Exercise 8\n"
   ]
  },
  {
   "cell_type": "markdown",
   "metadata": {},
   "source": [
    "1 - Python has two built-in methods that you can use on tuples. Conduct your research. What are those methods? Provide one example for each method.\n",
    "\n",
    "count: Returns the number of times a specified value occurs in a tuple. \n",
    "Eg:\n",
    "    tuple = (1, 3, 7, 8, 7, 5, 4, 6, 8, 5)\n",
    "    tuple.count(5)\n",
    "Ans: 5\n",
    "\n",
    "index: Searches the tuple for a specified value and returns the position of where it was found.\n",
    "Eg:\n",
    "    tuple = (1, 3, 7, 8, 7, 5, 4, 6, 8, 5)\n",
    "    tuple.index(8)\n",
    "Ans: 3"
   ]
  },
  {
   "cell_type": "markdown",
   "metadata": {},
   "source": [
    "2- Dictionary has a built-in method called `Update()`. Learn about this method and provide one example.\n",
    "\n",
    "Insert an item to the dictionary\n",
    "Eg: \n",
    "car = {\n",
    "  \"brand\": \"Ford\",\n",
    "  \"model\": \"Mustang\",\n",
    "  \"year\": 1964\n",
    "}\n",
    "car.update({\"color\": \"White\"})\n",
    "car\n",
    "\n",
    "Ans: {\n",
    "  \"brand\": \"Ford\",\n",
    "  \"model\": \"Mustang\",\n",
    "  \"year\": 1964,\n",
    "  \"color\": \"White\"\n",
    "}"
   ]
  },
  {
   "cell_type": "markdown",
   "metadata": {},
   "source": [
    "3- Given the following dictionary\n",
    "\n",
    "```\n",
    "my_dict = {\n",
    "  \"name\": \"Kelly\",\n",
    "  \"age\":25,\n",
    "  \"salary\": [3000, 8000, 2000],\n",
    "  \"cities\": [\"Vancouver\", \"New York\", \"Toronto\"]\n",
    "}\n",
    "```\n",
    "\n"
   ]
  },
  {
   "cell_type": "markdown",
   "metadata": {},
   "source": [
    "- Add a key to the dictionary called \"countries\".\n",
    "\n",
    "- Set the value of countries to be a list consisting of the strings \"Canada\", \"USA\".\n",
    "\n",
    "- Sort the items in the list stored under 'salary' key (ascending order)\n",
    "\n",
    "- Remove \"Vancouver\" from the list of items stored under the \"cities\" key.\n",
    "\n",
    "- Add 1000 to the first number stored under the 'salary' key. Expected output for the salary key: `\"salary\": [3000, 3000, 8000]`"
   ]
  },
  {
   "cell_type": "code",
   "execution_count": 19,
   "outputs": [
    {
     "data": {
      "text/plain": "{'name': 'Kelly',\n 'age': 25,\n 'salary': [3000, 3000, 8000],\n 'cities': ['New York', 'Toronto'],\n 'countries': ['Canada', 'USA']}"
     },
     "execution_count": 19,
     "metadata": {},
     "output_type": "execute_result"
    }
   ],
   "source": [
    "my_dict3 = {\n",
    "    \"name\": \"Kelly\",\n",
    "    \"age\": 25,\n",
    "    \"salary\": [3000, 8000, 2000],\n",
    "    \"cities\": [\"Vancouver\", \"New York\", \"Toronto\"]\n",
    "}\n",
    "\n",
    "my_dict3['countries'] = ['Canada', 'USA']\n",
    "\n",
    "my_dict3['salary'].sort()\n",
    "\n",
    "my_dict3['cities'].remove('Vancouver')\n",
    "\n",
    "my_dict3['salary'][0] = my_dict3['salary'][0] + 1000\n",
    "\n",
    "my_dict3"
   ],
   "metadata": {
    "collapsed": false,
    "ExecuteTime": {
     "end_time": "2023-09-28T00:27:50.769204600Z",
     "start_time": "2023-09-28T00:27:50.751710200Z"
    }
   }
  },
  {
   "cell_type": "markdown",
   "metadata": {},
   "source": [
    "### Exercise 9"
   ]
  },
  {
   "cell_type": "markdown",
   "metadata": {},
   "source": [
    "Create two sets, one with odd numbers from 0 to 10 and the other with even numbers from 0 to 10. Find the union and intersection of these sets."
   ]
  },
  {
   "cell_type": "code",
   "execution_count": 21,
   "outputs": [
    {
     "name": "stdout",
     "output_type": "stream",
     "text": [
      "Union: {1, 2, 3, 4, 5, 6, 7, 8, 9, 10}\n",
      "Intersection: set()\n"
     ]
    }
   ],
   "source": [
    "odd_set = {1, 3, 5, 7, 9}\n",
    "even_set = {2, 4, 6, 8, 10}\n",
    "\n",
    "print('Union:', odd_set.union(even_set))\n",
    "print('Intersection:', odd_set.intersection(even_set))"
   ],
   "metadata": {
    "collapsed": false,
    "ExecuteTime": {
     "end_time": "2023-09-28T00:29:59.479415800Z",
     "start_time": "2023-09-28T00:29:59.468760200Z"
    }
   }
  },
  {
   "cell_type": "markdown",
   "metadata": {},
   "source": [
    "Given a list of numbers, create a set with all the unique elements in the list."
   ]
  },
  {
   "cell_type": "code",
   "execution_count": 22,
   "outputs": [
    {
     "data": {
      "text/plain": "{1, 2, 3}"
     },
     "execution_count": 22,
     "metadata": {},
     "output_type": "execute_result"
    }
   ],
   "source": [
    "repeating_list = [1, 1, 2, 2, 3, 3]\n",
    "\n",
    "set(repeating_list)"
   ],
   "metadata": {
    "collapsed": false,
    "ExecuteTime": {
     "end_time": "2023-09-28T00:31:32.133079500Z",
     "start_time": "2023-09-28T00:31:32.112088200Z"
    }
   }
  },
  {
   "cell_type": "markdown",
   "metadata": {},
   "source": [
    "Find the difference between two sets, set1 and set2, where set1 contains all the elements in a given list and set2 contains all the elements in another given list.\n",
    "\n",
    "`list1 = [1, 2, 3, 4, 5]\n",
    "list2 = [4, 5, 6, 7, 8]`"
   ]
  },
  {
   "cell_type": "code",
   "execution_count": 23,
   "outputs": [
    {
     "data": {
      "text/plain": "{1, 2, 3}"
     },
     "execution_count": 23,
     "metadata": {},
     "output_type": "execute_result"
    }
   ],
   "source": [
    "list1 = [1, 2, 3, 4, 5]\n",
    "list2 = [4, 5, 6, 7, 8]\n",
    "\n",
    "set1 = set(list1)\n",
    "set2 = set(list2)\n",
    "\n",
    "set1.difference(set2)"
   ],
   "metadata": {
    "collapsed": false,
    "ExecuteTime": {
     "end_time": "2023-09-28T00:34:58.760111Z",
     "start_time": "2023-09-28T00:34:58.731471900Z"
    }
   }
  },
  {
   "cell_type": "markdown",
   "metadata": {},
   "source": [
    "Given a dictionary of student names and their marks, find the student who scored the highest marks.\n",
    "\n",
    "`students = {\"John\": 80, \"Jane\": 90, \"Jim\": 85}`"
   ]
  },
  {
   "cell_type": "code",
   "execution_count": 30,
   "metadata": {
    "ExecuteTime": {
     "end_time": "2023-09-28T00:40:53.066383100Z",
     "start_time": "2023-09-28T00:40:53.051220100Z"
    }
   },
   "outputs": [
    {
     "name": "stdout",
     "output_type": "stream",
     "text": [
      "Jane\n"
     ]
    }
   ],
   "source": [
    "students = {\"John\": 80, \"Jane\": 90, \"Jim\": 85}\n",
    "\n",
    "highest_score = max(students.values())\n",
    "\n",
    "for name, score in students.items():\n",
    "    if score == highest_score:\n",
    "        print(name)"
   ]
  },
  {
   "cell_type": "code",
   "execution_count": null,
   "outputs": [],
   "source": [],
   "metadata": {
    "collapsed": false
   }
  }
 ],
 "metadata": {
  "kernelspec": {
   "display_name": "Python 3 (ipykernel)",
   "language": "python",
   "name": "python3"
  },
  "language_info": {
   "codemirror_mode": {
    "name": "ipython",
    "version": 3
   },
   "file_extension": ".py",
   "mimetype": "text/x-python",
   "name": "python",
   "nbconvert_exporter": "python",
   "pygments_lexer": "ipython3",
   "version": "3.9.12"
  }
 },
 "nbformat": 4,
 "nbformat_minor": 4
}
